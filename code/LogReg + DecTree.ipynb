{
 "cells": [
  {
   "cell_type": "markdown",
   "metadata": {},
   "source": [
    "# Dictionary data"
   ]
  },
  {
   "cell_type": "markdown",
   "metadata": {},
   "source": [
    "get the dictionary of kuznetsova"
   ]
  },
  {
   "cell_type": "code",
   "execution_count": 1,
   "metadata": {},
   "outputs": [],
   "source": [
    "def cleankuz(word):\n",
    "    w = word.replace('ё', 'е')\n",
    "    \n",
    "    if word == 'батрацкый':\n",
    "        w = 'батрацкий'\n",
    "    if word == 'грязиь':\n",
    "        w = 'грязь'\n",
    "    if word == 'кнутрй':\n",
    "        w = 'кнутри'\n",
    "    if word == 'трй':\n",
    "        w = 'три'\n",
    "    if word == 'молокй':\n",
    "        w = 'молокий'\n",
    "    if word == 'молочиый':\n",
    "        w = 'молочный'\n",
    "    if word == 'непостижиый':\n",
    "        w = 'непостижимый'\n",
    "    if word == 'окунеый':\n",
    "        w = 'окуневый'\n",
    "    if word == 'пригожй':\n",
    "        w = 'пригожий'\n",
    "    if word == 'уличиый':\n",
    "        w = 'уличный'\n",
    "    if word == 'минувшый':\n",
    "        w = 'минувший'\n",
    "    if word == 'сладенькнй':\n",
    "        w = 'сладенький'\n",
    "    if word == 'любый':\n",
    "        w = 'любой'\n",
    "    return w"
   ]
  },
  {
   "cell_type": "code",
   "execution_count": 2,
   "metadata": {},
   "outputs": [],
   "source": [
    "import csv\n",
    "kuzwords = {}\n",
    "doublers = {}\n",
    "with open('kuzdra_clean.csv', newline='') as csvfile:\n",
    "    reader = csv.reader(csvfile)\n",
    "    for row in reader:\n",
    "        if cleankuz(row[0]) in kuzwords:\n",
    "            doublers[cleankuz(row[0])] = kuzwords[cleankuz(row[0])][2]\n",
    "        r1 = row[1].replace('ё', 'е').replace(' ', '').replace('\"', '').replace('[', '').replace(']', '').replace(\"'\", '').split(',')\n",
    "        r2 = row[2].replace('ё', 'е').replace(' ', '').replace('\"', '').replace('[', '').replace(']', '').replace(\"'\", '').split(',')\n",
    "        kuzwords[cleankuz(row[0])] = [r1, r2, row[3]]"
   ]
  },
  {
   "cell_type": "code",
   "execution_count": 3,
   "metadata": {},
   "outputs": [
    {
     "data": {
      "text/plain": [
       "72482"
      ]
     },
     "execution_count": 3,
     "metadata": {},
     "output_type": "execute_result"
    }
   ],
   "source": [
    "len(kuzwords)"
   ]
  },
  {
   "cell_type": "code",
   "execution_count": 4,
   "metadata": {},
   "outputs": [],
   "source": [
    "kwords = list(kuzwords.keys())"
   ]
  },
  {
   "cell_type": "markdown",
   "metadata": {},
   "source": [
    "lost 24 homonyms"
   ]
  },
  {
   "cell_type": "markdown",
   "metadata": {},
   "source": [
    "get the dictionary of tixonov"
   ]
  },
  {
   "cell_type": "code",
   "execution_count": 5,
   "metadata": {},
   "outputs": [],
   "source": [
    "def cleantix(word):\n",
    "    w = word\n",
    "    w = w.split('/')[-1]\n",
    "    \n",
    "    \n",
    "    w = w.replace('1', '')\n",
    "    w = w.replace('2', '')\n",
    "    w = w.replace('3', '')\n",
    "    w = w.replace('4', '')\n",
    "    w = w.replace('5', '')\n",
    "    w = w.replace('I', '')\n",
    "    w = w.replace('V', '')\n",
    "    w = w.replace('(', '')\n",
    "    w = w.replace(')', '')\n",
    "    \n",
    "    \n",
    "    if w.endswith(' '):\n",
    "        w = w = w[:-1]\n",
    "    if w.endswith('иjе'):\n",
    "        w = w[:-2] + 'е'\n",
    "    if w.endswith('иjа'):\n",
    "        w = w[:-2] + 'я'\n",
    "    if w.endswith('оjение'):\n",
    "        w = w[:-5] + 'ение'\n",
    "    if w.endswith('анjе'):\n",
    "        w = w[:-5] + 'анье'\n",
    "    if w.endswith('jецветный'):\n",
    "        w = w[:-9] + 'ецветный'\n",
    "    if w.endswith('jе'):\n",
    "        w = w[:-2] + 'ье'\n",
    "    if w.endswith('jо'):\n",
    "        w = w[:-2] + 'ьё'\n",
    "        \n",
    "        \n",
    "    if w.endswith('jа'):\n",
    "        w = w[:-2] + 'я'\n",
    "    if w.startswith('двоjе'):\n",
    "        w = w.replace('двоjе', 'двое')\n",
    "    if w.startswith('троj'):\n",
    "        w = w.replace('троj', 'тро')\n",
    "    if w.startswith('героjи'):\n",
    "        w = w.replace('героjи', 'герои')\n",
    "        \n",
    "        \n",
    "    w = w.replace('еjе', 'ее')\n",
    "    w = w.replace('сырjо', 'сырьё')\n",
    "    w = w.replace('строjитель', 'строитель')\n",
    "    w = w.replace('краjевой', 'краевой')\n",
    "    w = w.replace('настраjивать', 'настраивать')\n",
    "    w = w.replace('молниjе', 'молние')\n",
    "    w = w.replace('строjе', 'строе')\n",
    "    \n",
    "    \n",
    "    if w == 'третjе':\n",
    "        w = 'третье'\n",
    "    if w == 'третjа':\n",
    "        w = 'третья'\n",
    "    if w == 'бjущийся':\n",
    "        w = 'бьющийся'\n",
    "    if w == 'боjеспособный':\n",
    "        w = 'боеспособный'\n",
    "    if w == 'обоjи':\n",
    "        w = 'обои'\n",
    "    if w == 'пробоjчик':\n",
    "        w = 'пробойчик'\n",
    "    if w == 'чаjеразвеска':\n",
    "        w = 'чаеразвеска'\n",
    "    if w == 'молниjевидный':\n",
    "        w = 'молниевидный'\n",
    "    if w == 'вjущий':\n",
    "        w = 'вьющий'\n",
    "    if w == 'своjевольный':\n",
    "        w = 'своевольный'\n",
    "    if w == 'голjом':\n",
    "        w = 'гольём'\n",
    "    if w == 'звенjевой':\n",
    "        w = 'звеньевой'\n",
    "    if w == 'гореванjице':\n",
    "        w = 'гореваньице'  \n",
    "    if w == 'кошачjи':\n",
    "        w = 'кошачьи'\n",
    "    if w == 'чешуjекрылый':\n",
    "        w = 'чешуекрылый'\n",
    "    if w == 'излиjание':\n",
    "        w = 'излияние'\n",
    "    if w == 'помальчишечjи':\n",
    "        w = 'по-мальчишечьи'\n",
    "    if w == 'промоjина':\n",
    "        w = 'промоина'\n",
    "    if w == 'радиjевый':\n",
    "        w = 'радиевый'\n",
    "    if w == 'поjущий':\n",
    "        w = 'поющий'\n",
    "    if w == 'пjущий':\n",
    "        w = 'пьющий'\n",
    "    if w == 'пjаный':\n",
    "        w = 'пьяный'\n",
    "    if w == 'паjивать':\n",
    "        w = 'паивать'\n",
    "    if w == 'запоjем':\n",
    "        w = 'запоем'\n",
    "    if w == 'своjекоштный':\n",
    "        w = 'своекоштный'\n",
    "    if w == 'семjой':\n",
    "        w = 'семьёй'   \n",
    "    if w == 'собачjи':\n",
    "        w = 'собачьи'\n",
    "    if w == 'стоjащий':\n",
    "        w = 'стоящий'\n",
    "    if w == 'стоjачий':\n",
    "        w = 'стоячий'\n",
    "    if w == 'стаjивать':\n",
    "        w = 'стаивать'\n",
    "    if w == 'твоjи':\n",
    "        w = 'твои'\n",
    "\n",
    "        \n",
    "    if 'j' in w:\n",
    "        print(w)\n",
    "    return w"
   ]
  },
  {
   "cell_type": "code",
   "execution_count": 6,
   "metadata": {},
   "outputs": [],
   "source": [
    "import json\n",
    "tixwords = {}\n",
    "with open('nests.json', encoding='utf-8') as json_file:\n",
    "    nods = json.load(json_file)\n",
    "    for nod in nods:\n",
    "        for n in nod.values():\n",
    "            for word in n:\n",
    "                w = cleantix(word['root'])\n",
    "                if w in kuzwords:\n",
    "                    if w not in tixwords:\n",
    "                        derivates = []\n",
    "                        for deriv in word['ambiguous']:\n",
    "                            d = cleantix(deriv)\n",
    "                            if d not in derivates and d in kuzwords and d != w:\n",
    "                                derivates.append(d)\n",
    "                        for deriv in word['non-ambiguous']:\n",
    "                            d = cleantix(deriv)\n",
    "                            if d not in derivates and d in kuzwords and d != w:\n",
    "                                derivates.append(d)\n",
    "                        tixwords[w] = derivates\n",
    "                    else:\n",
    "                        derivates = tixwords[w]\n",
    "                        for deriv in word['ambiguous']:\n",
    "                            d = cleantix(deriv)\n",
    "                            if d not in derivates and d in kuzwords and d != w:\n",
    "                                derivates.append(d)\n",
    "                        for deriv in word['non-ambiguous']:\n",
    "                            d = cleantix(deriv)\n",
    "                            if d not in derivates and d in kuzwords and d != w:\n",
    "                                derivates.append(d)\n",
    "                        tixwords[w] = derivates"
   ]
  },
  {
   "cell_type": "code",
   "execution_count": 7,
   "metadata": {},
   "outputs": [
    {
     "data": {
      "text/plain": [
       "33802"
      ]
     },
     "execution_count": 7,
     "metadata": {},
     "output_type": "execute_result"
    }
   ],
   "source": [
    "len(tixwords)"
   ]
  },
  {
   "cell_type": "code",
   "execution_count": 8,
   "metadata": {},
   "outputs": [],
   "source": [
    "twords = list(tixwords.keys())"
   ]
  },
  {
   "cell_type": "markdown",
   "metadata": {},
   "source": [
    "get what is in tixonov, but isn't in kuznetsova"
   ]
  },
  {
   "cell_type": "code",
   "execution_count": 9,
   "metadata": {},
   "outputs": [],
   "source": [
    "nottixkuzwords = {}\n",
    "for w in kuzwords:\n",
    "    if w not in tixwords:\n",
    "        nottixkuzwords[w] = kuzwords[w]"
   ]
  },
  {
   "cell_type": "code",
   "execution_count": 10,
   "metadata": {},
   "outputs": [
    {
     "data": {
      "text/plain": [
       "38680"
      ]
     },
     "execution_count": 10,
     "metadata": {},
     "output_type": "execute_result"
    }
   ],
   "source": [
    "len(nottixkuzwords)"
   ]
  },
  {
   "cell_type": "code",
   "execution_count": 11,
   "metadata": {},
   "outputs": [],
   "source": [
    "ntkwords = list(nottixkuzwords.keys())"
   ]
  },
  {
   "cell_type": "markdown",
   "metadata": {},
   "source": [
    "get root allomorphs"
   ]
  },
  {
   "cell_type": "code",
   "execution_count": 12,
   "metadata": {},
   "outputs": [],
   "source": [
    "def common_morps(morphs1, morphs2, allomorphs):\n",
    "    n = 0\n",
    "    for m2 in morphs2:\n",
    "        for m1 in morphs1:\n",
    "            if m2 == m1:\n",
    "                n += 1\n",
    "            else:\n",
    "                for am in allomorphs:\n",
    "                    if m1 in am and m2 in am:\n",
    "                        n += 1\n",
    "    return n"
   ]
  },
  {
   "cell_type": "code",
   "execution_count": 13,
   "metadata": {},
   "outputs": [
    {
     "data": {
      "text/plain": [
       "1049"
      ]
     },
     "execution_count": 13,
     "metadata": {},
     "output_type": "execute_result"
    }
   ],
   "source": [
    "allomorphs = []\n",
    "with open('allomorphs.csv', newline='') as csvfile:\n",
    "    reader = csv.reader(csvfile)\n",
    "    for row in reader:\n",
    "        if sorted(row) not in allomorphs:\n",
    "            allomorphs.append(sorted(row))\n",
    "allomorphs.append(['пол', 'полу'])\n",
    "len(allomorphs)"
   ]
  },
  {
   "cell_type": "code",
   "execution_count": 14,
   "metadata": {},
   "outputs": [],
   "source": [
    "root_groups = {}\n",
    "for w in kuzwords:\n",
    "    roots = kuzwords[w][1]\n",
    "    groups = []\n",
    "    for i, am in enumerate(allomorphs):\n",
    "        for root in roots:\n",
    "            if root in am:\n",
    "                groups.append(i)\n",
    "    root_groups[w] = groups"
   ]
  },
  {
   "cell_type": "code",
   "execution_count": 15,
   "metadata": {},
   "outputs": [
    {
     "data": {
      "text/plain": [
       "72482"
      ]
     },
     "execution_count": 15,
     "metadata": {},
     "output_type": "execute_result"
    }
   ],
   "source": [
    "len(root_groups)"
   ]
  },
  {
   "cell_type": "markdown",
   "metadata": {},
   "source": [
    "# Get the four parts of speech"
   ]
  },
  {
   "cell_type": "code",
   "execution_count": 16,
   "metadata": {},
   "outputs": [],
   "source": [
    "from copy import copy\n",
    "from copy import deepcopy"
   ]
  },
  {
   "cell_type": "code",
   "execution_count": 17,
   "metadata": {},
   "outputs": [],
   "source": [
    "old_kuzwords = deepcopy(kuzwords)\n",
    "kuzwords = {}"
   ]
  },
  {
   "cell_type": "code",
   "execution_count": 18,
   "metadata": {},
   "outputs": [],
   "source": [
    "from pymystem3 import Mystem\n",
    "m = Mystem()"
   ]
  },
  {
   "cell_type": "code",
   "execution_count": 19,
   "metadata": {},
   "outputs": [],
   "source": [
    "for w in old_kuzwords:\n",
    "    pos = old_kuzwords[w][2]\n",
    "    if pos in ['PRAEDIC', 'CONJ', 'PR', 'PARENTH', 'NONLEX']:\n",
    "        pos = m.analyze(w)[0]['analysis'][0]['gr'].split(',')[0].split('(')[0].split('=')[0]\n",
    "    if pos == 'A' or pos == 'ANUM' or pos == 'APRO':\n",
    "        kuzwords[w] = [old_kuzwords[w][0], old_kuzwords[w][1], 'A']\n",
    "    elif pos == 'V':\n",
    "        kuzwords[w] = [old_kuzwords[w][0], old_kuzwords[w][1], 'V']\n",
    "    elif pos == 'S' or pos == 'NUM' or pos == 'SPRO':\n",
    "        kuzwords[w] = [old_kuzwords[w][0], old_kuzwords[w][1], 'N']\n",
    "    elif pos == 'ADV' or pos == 'ADVPRO':\n",
    "        kuzwords[w] = [old_kuzwords[w][0], old_kuzwords[w][1], 'D']"
   ]
  },
  {
   "cell_type": "code",
   "execution_count": 20,
   "metadata": {},
   "outputs": [
    {
     "data": {
      "text/plain": [
       "72363"
      ]
     },
     "execution_count": 20,
     "metadata": {},
     "output_type": "execute_result"
    }
   ],
   "source": [
    "len(kuzwords)"
   ]
  },
  {
   "cell_type": "code",
   "execution_count": 21,
   "metadata": {},
   "outputs": [],
   "source": [
    "kwords = list(kuzwords.keys())"
   ]
  },
  {
   "cell_type": "markdown",
   "metadata": {},
   "source": [
    "clear tixonov"
   ]
  },
  {
   "cell_type": "code",
   "execution_count": 22,
   "metadata": {},
   "outputs": [],
   "source": [
    "old_tixwords = deepcopy(tixwords)\n",
    "tixwords = {}"
   ]
  },
  {
   "cell_type": "code",
   "execution_count": 23,
   "metadata": {},
   "outputs": [],
   "source": [
    "for w in old_tixwords:\n",
    "    pos = old_kuzwords[w][2]\n",
    "    if pos in ['PRAEDIC', 'CONJ', 'PR', 'PARENTH', 'NONLEX']:\n",
    "        pos = m.analyze(w)[0]['analysis'][0]['gr'].split(',')[0].split('(')[0].split('=')[0]\n",
    "    if pos in ['S', 'A', 'D', 'V', 'ANUM', 'APRO', 'NUM', 'SPRO', 'ADV', 'ADVPRO']:\n",
    "        tixwords[w] = old_tixwords[w]"
   ]
  },
  {
   "cell_type": "code",
   "execution_count": 24,
   "metadata": {},
   "outputs": [
    {
     "data": {
      "text/plain": [
       "33775"
      ]
     },
     "execution_count": 24,
     "metadata": {},
     "output_type": "execute_result"
    }
   ],
   "source": [
    "len(tixwords)"
   ]
  },
  {
   "cell_type": "code",
   "execution_count": 25,
   "metadata": {},
   "outputs": [],
   "source": [
    "twords = list(tixwords.keys())"
   ]
  },
  {
   "cell_type": "markdown",
   "metadata": {},
   "source": [
    "new_difference"
   ]
  },
  {
   "cell_type": "code",
   "execution_count": 26,
   "metadata": {},
   "outputs": [],
   "source": [
    "nottixkuzwords = {}\n",
    "for w in kuzwords:\n",
    "    if w not in tixwords:\n",
    "        nottixkuzwords[w] = kuzwords[w]"
   ]
  },
  {
   "cell_type": "code",
   "execution_count": 27,
   "metadata": {},
   "outputs": [
    {
     "data": {
      "text/plain": [
       "38588"
      ]
     },
     "execution_count": 27,
     "metadata": {},
     "output_type": "execute_result"
    }
   ],
   "source": [
    "len(nottixkuzwords)"
   ]
  },
  {
   "cell_type": "code",
   "execution_count": 28,
   "metadata": {},
   "outputs": [],
   "source": [
    "ntkwords = list(nottixkuzwords.keys())"
   ]
  },
  {
   "cell_type": "markdown",
   "metadata": {},
   "source": [
    "clean doublers"
   ]
  },
  {
   "cell_type": "code",
   "execution_count": 29,
   "metadata": {},
   "outputs": [],
   "source": [
    "old_doublers = deepcopy(doublers)\n",
    "doublers = {}"
   ]
  },
  {
   "cell_type": "code",
   "execution_count": 30,
   "metadata": {},
   "outputs": [],
   "source": [
    "for w in old_doublers:\n",
    "    pos = old_doublers[w]\n",
    "    if pos in ['PRAEDIC', 'CONJ', 'PR', 'PARENTH', 'NONLEX']:\n",
    "        pos = m.analyze(w)[0]['analysis'][0]['gr'].split(',')[0].split('(')[0].split('=')[0]\n",
    "    if pos == 'A' or pos == 'ANUM' or pos == 'APRO':\n",
    "        pos = 'A'\n",
    "        if w in kuzwords:\n",
    "            if kuzwords[w][2] != pos:\n",
    "                doublers[w] = pos\n",
    "    elif pos == 'V':\n",
    "        pos = 'V'\n",
    "        if w in kuzwords:\n",
    "            if kuzwords[w][2] != pos:\n",
    "                doublers[w] = pos\n",
    "    elif pos == 'S' or pos == 'NUM' or pos == 'SPRO':\n",
    "        pos = 'N'\n",
    "        if w in kuzwords:\n",
    "            if kuzwords[w][2] != pos:\n",
    "                doublers[w] = pos\n",
    "    elif pos == 'ADV' or pos == 'ADVPRO':\n",
    "        pos = 'D'\n",
    "        if w in kuzwords:\n",
    "            if kuzwords[w][2] != pos:\n",
    "                doublers[w] = pos"
   ]
  },
  {
   "cell_type": "markdown",
   "metadata": {},
   "source": [
    "# Make pairs"
   ]
  },
  {
   "cell_type": "markdown",
   "metadata": {},
   "source": [
    "from closest neighbours"
   ]
  },
  {
   "cell_type": "code",
   "execution_count": 31,
   "metadata": {},
   "outputs": [],
   "source": [
    "def make_set(words, kuzwords, doublers):\n",
    "    pairs = []\n",
    "    for i in range(15): \n",
    "        for j, w1 in enumerate(words):\n",
    "            if j + i + 1 < len(words):\n",
    "                w2 = words[j+i + 1]\n",
    "                if w1 in doublers and w2 in doublers:\n",
    "                    pairs.append([w1, w2, doublers[w1], doublers[w2]])\n",
    "                    pairs.append([w1, w2, doublers[w1], kuzwords[w2][2]])\n",
    "                    pairs.append([w1, w2, kuzwords[w1][2], doublers[w2]])\n",
    "                    pairs.append([w1, w2, kuzwords[w1][2], kuzwords[w2][2]])\n",
    "                    \n",
    "                    if i < 2:\n",
    "                        pairs.append([w2, w1, doublers[w2], doublers[w1]])\n",
    "                        pairs.append([w2, w1, kuzwords[w2][2], doublers[w1]])\n",
    "                        pairs.append([w2, w1, doublers[w2], kuzwords[w1][2]])\n",
    "                        pairs.append([w2, w1, kuzwords[w2][2], kuzwords[w1][2]])\n",
    "                \n",
    "                \n",
    "                elif w1 in doublers:\n",
    "                    pairs.append([w1, w2, doublers[w1], kuzwords[w2][2]])\n",
    "                    pairs.append([w1, w2, kuzwords[w1][2], kuzwords[w2][2]])\n",
    "                    \n",
    "                    if i < 2:\n",
    "                        pairs.append([w2, w1, kuzwords[w2][2], doublers[w1]])\n",
    "                        pairs.append([w2, w1, kuzwords[w2][2], kuzwords[w1][2]])\n",
    "                \n",
    "                \n",
    "                elif w2 in doublers:\n",
    "                    pairs.append([w1, w2, kuzwords[w1][2], doublers[w2]])\n",
    "                    pairs.append([w1, w2, kuzwords[w1][2], kuzwords[w2][2]])\n",
    "                    \n",
    "                    if i < 2:\n",
    "                        pairs.append([w2, w1, doublers[w2], kuzwords[w1][2]])\n",
    "                        pairs.append([w2, w1, kuzwords[w2][2], kuzwords[w1][2]])\n",
    "                \n",
    "                \n",
    "                else:\n",
    "                    pairs.append([w1, w2, kuzwords[w1][2], kuzwords[w2][2]])\n",
    "                    \n",
    "                    if i < 2:\n",
    "                        pairs.append([w2, w1, kuzwords[w2][2], kuzwords[w1][2]])\n",
    "          \n",
    "    return(pairs)"
   ]
  },
  {
   "cell_type": "code",
   "execution_count": 32,
   "metadata": {},
   "outputs": [],
   "source": [
    "pairs_traintest = make_set(twords, kuzwords, doublers)"
   ]
  },
  {
   "cell_type": "code",
   "execution_count": 33,
   "metadata": {},
   "outputs": [
    {
     "data": {
      "text/plain": [
       "575081"
      ]
     },
     "execution_count": 33,
     "metadata": {},
     "output_type": "execute_result"
    }
   ],
   "source": [
    "len(pairs_traintest)"
   ]
  },
  {
   "cell_type": "code",
   "execution_count": 34,
   "metadata": {},
   "outputs": [
    {
     "name": "stdout",
     "output_type": "stream",
     "text": [
      "['бить', 'биться', 'V', 'V']\n"
     ]
    }
   ],
   "source": [
    "print(pairs_traintest[1000])"
   ]
  },
  {
   "cell_type": "code",
   "execution_count": 35,
   "metadata": {},
   "outputs": [],
   "source": [
    "pairs = make_set(ntkwords, kuzwords, doublers)"
   ]
  },
  {
   "cell_type": "code",
   "execution_count": 36,
   "metadata": {},
   "outputs": [
    {
     "data": {
      "text/plain": [
       "656043"
      ]
     },
     "execution_count": 36,
     "metadata": {},
     "output_type": "execute_result"
    }
   ],
   "source": [
    "len(pairs)"
   ]
  },
  {
   "cell_type": "markdown",
   "metadata": {},
   "source": [
    "from shared roots"
   ]
  },
  {
   "cell_type": "code",
   "execution_count": 37,
   "metadata": {},
   "outputs": [],
   "source": [
    "def add_pref(words, kuzwords, doublers, root_groups):\n",
    "    pairs = []\n",
    "    for i, w1 in enumerate(words):\n",
    "        if i %500 == 0:\n",
    "            print(i)\n",
    "        roots1 = kuzwords[w1][1]\n",
    "        for w2 in words:\n",
    "            roots2 = kuzwords[w2][1]\n",
    "            if w1 != w2:\n",
    "                t = False\n",
    "                if set(roots1) & set(roots2):\n",
    "                    t = True\n",
    "                elif set(root_groups[w1]) & set(root_groups[w2]):\n",
    "                    t = True\n",
    "                else:\n",
    "                    for r1 in roots1:\n",
    "                        if r1 + 'ь' in roots2 or r1.replace('ё', 'е') in roots2:\n",
    "                            t = True\n",
    "                    for r2 in roots2 or r2.replace('ё', 'е') in roots1:\n",
    "                        if r2 + 'ь' in roots1:\n",
    "                            t = True\n",
    "                if t == True:\n",
    "                    pairs.append([w2, w1, kuzwords[w2][2], kuzwords[w1][2]])\n",
    "                    if w1 in doublers:\n",
    "                        pairs.append([w2, w1, kuzwords[w2][2], doublers[w1]])\n",
    "                    if w2 in doublers:\n",
    "                        pairs.append([w2, w1, doublers[w2], kuzwords[w1][2]])\n",
    "                    if w1 in doublers and w2 in doublers:\n",
    "                        pairs.append([w2, w1, doublers[w2], doublers[w1]])\n",
    "    return(pairs)"
   ]
  },
  {
   "cell_type": "code",
   "execution_count": 38,
   "metadata": {},
   "outputs": [
    {
     "name": "stdout",
     "output_type": "stream",
     "text": [
      "0\n",
      "500\n",
      "1000\n",
      "1500\n",
      "2000\n",
      "2500\n",
      "3000\n",
      "3500\n",
      "4000\n",
      "4500\n",
      "5000\n",
      "5500\n",
      "6000\n",
      "6500\n",
      "7000\n",
      "7500\n",
      "8000\n",
      "8500\n",
      "9000\n",
      "9500\n",
      "10000\n",
      "10500\n",
      "11000\n",
      "11500\n",
      "12000\n",
      "12500\n",
      "13000\n",
      "13500\n",
      "14000\n",
      "14500\n",
      "15000\n",
      "15500\n",
      "16000\n",
      "16500\n",
      "17000\n",
      "17500\n",
      "18000\n",
      "18500\n",
      "19000\n",
      "19500\n",
      "20000\n",
      "20500\n",
      "21000\n",
      "21500\n",
      "22000\n",
      "22500\n",
      "23000\n",
      "23500\n",
      "24000\n",
      "24500\n",
      "25000\n",
      "25500\n",
      "26000\n",
      "26500\n",
      "27000\n",
      "27500\n",
      "28000\n",
      "28500\n",
      "29000\n",
      "29500\n",
      "30000\n",
      "30500\n",
      "31000\n",
      "31500\n",
      "32000\n",
      "32500\n",
      "33000\n",
      "33500\n"
     ]
    }
   ],
   "source": [
    "pairs_traintest_pref = add_pref(twords, kuzwords, doublers, root_groups)"
   ]
  },
  {
   "cell_type": "code",
   "execution_count": 39,
   "metadata": {},
   "outputs": [
    {
     "name": "stdout",
     "output_type": "stream",
     "text": [
      "0\n",
      "500\n",
      "1000\n",
      "1500\n",
      "2000\n",
      "2500\n",
      "3000\n",
      "3500\n",
      "4000\n",
      "4500\n",
      "5000\n",
      "5500\n",
      "6000\n",
      "6500\n",
      "7000\n",
      "7500\n",
      "8000\n",
      "8500\n",
      "9000\n",
      "9500\n",
      "10000\n",
      "10500\n",
      "11000\n",
      "11500\n",
      "12000\n",
      "12500\n",
      "13000\n",
      "13500\n",
      "14000\n",
      "14500\n",
      "15000\n",
      "15500\n",
      "16000\n",
      "16500\n",
      "17000\n",
      "17500\n",
      "18000\n",
      "18500\n",
      "19000\n",
      "19500\n",
      "20000\n",
      "20500\n",
      "21000\n",
      "21500\n",
      "22000\n",
      "22500\n",
      "23000\n",
      "23500\n",
      "24000\n",
      "24500\n",
      "25000\n",
      "25500\n",
      "26000\n",
      "26500\n",
      "27000\n",
      "27500\n",
      "28000\n",
      "28500\n",
      "29000\n",
      "29500\n",
      "30000\n",
      "30500\n",
      "31000\n",
      "31500\n",
      "32000\n",
      "32500\n",
      "33000\n",
      "33500\n",
      "34000\n",
      "34500\n",
      "35000\n",
      "35500\n",
      "36000\n",
      "36500\n",
      "37000\n",
      "37500\n",
      "38000\n",
      "38500\n",
      "39000\n",
      "39500\n",
      "40000\n",
      "40500\n",
      "41000\n",
      "41500\n",
      "42000\n",
      "42500\n",
      "43000\n",
      "43500\n",
      "44000\n",
      "44500\n",
      "45000\n",
      "45500\n",
      "46000\n",
      "46500\n",
      "47000\n",
      "47500\n",
      "48000\n",
      "48500\n",
      "49000\n",
      "49500\n",
      "50000\n",
      "50500\n",
      "51000\n",
      "51500\n",
      "52000\n",
      "52500\n",
      "53000\n",
      "53500\n",
      "54000\n",
      "54500\n",
      "55000\n",
      "55500\n",
      "56000\n",
      "56500\n",
      "57000\n",
      "57500\n",
      "58000\n",
      "58500\n",
      "59000\n",
      "59500\n",
      "60000\n",
      "60500\n",
      "61000\n",
      "61500\n",
      "62000\n",
      "62500\n",
      "63000\n",
      "63500\n",
      "64000\n",
      "64500\n",
      "65000\n",
      "65500\n",
      "66000\n",
      "66500\n",
      "67000\n",
      "67500\n",
      "68000\n",
      "68500\n",
      "69000\n",
      "69500\n",
      "70000\n",
      "70500\n",
      "71000\n",
      "71500\n",
      "72000\n"
     ]
    }
   ],
   "source": [
    "pairs_pref = add_pref(kwords, kuzwords, doublers, root_groups)"
   ]
  },
  {
   "cell_type": "code",
   "execution_count": 40,
   "metadata": {},
   "outputs": [
    {
     "data": {
      "text/plain": [
       "5598646"
      ]
     },
     "execution_count": 40,
     "metadata": {},
     "output_type": "execute_result"
    }
   ],
   "source": [
    "len(pairs_traintest_pref)"
   ]
  },
  {
   "cell_type": "code",
   "execution_count": 41,
   "metadata": {},
   "outputs": [
    {
     "data": {
      "text/plain": [
       "12927480"
      ]
     },
     "execution_count": 41,
     "metadata": {},
     "output_type": "execute_result"
    }
   ],
   "source": [
    "len(pairs_pref)"
   ]
  },
  {
   "cell_type": "code",
   "execution_count": 42,
   "metadata": {},
   "outputs": [],
   "source": [
    "import pandas as pd"
   ]
  },
  {
   "cell_type": "code",
   "execution_count": 43,
   "metadata": {},
   "outputs": [
    {
     "data": {
      "text/html": [
       "<div>\n",
       "<style scoped>\n",
       "    .dataframe tbody tr th:only-of-type {\n",
       "        vertical-align: middle;\n",
       "    }\n",
       "\n",
       "    .dataframe tbody tr th {\n",
       "        vertical-align: top;\n",
       "    }\n",
       "\n",
       "    .dataframe thead th {\n",
       "        text-align: right;\n",
       "    }\n",
       "</style>\n",
       "<table border=\"1\" class=\"dataframe\">\n",
       "  <thead>\n",
       "    <tr style=\"text-align: right;\">\n",
       "      <th></th>\n",
       "      <th>parent</th>\n",
       "      <th>child</th>\n",
       "      <th>pos_p</th>\n",
       "      <th>pos_c</th>\n",
       "    </tr>\n",
       "  </thead>\n",
       "  <tbody>\n",
       "    <tr>\n",
       "      <th>0</th>\n",
       "      <td>август</td>\n",
       "      <td>августовский</td>\n",
       "      <td>N</td>\n",
       "      <td>A</td>\n",
       "    </tr>\n",
       "    <tr>\n",
       "      <th>1</th>\n",
       "      <td>августовский</td>\n",
       "      <td>август</td>\n",
       "      <td>A</td>\n",
       "      <td>N</td>\n",
       "    </tr>\n",
       "    <tr>\n",
       "      <th>2</th>\n",
       "      <td>августовский</td>\n",
       "      <td>микроавтобус</td>\n",
       "      <td>A</td>\n",
       "      <td>N</td>\n",
       "    </tr>\n",
       "    <tr>\n",
       "      <th>3</th>\n",
       "      <td>микроавтобус</td>\n",
       "      <td>августовский</td>\n",
       "      <td>N</td>\n",
       "      <td>A</td>\n",
       "    </tr>\n",
       "    <tr>\n",
       "      <th>4</th>\n",
       "      <td>микроавтобус</td>\n",
       "      <td>телеавтоматика</td>\n",
       "      <td>N</td>\n",
       "      <td>N</td>\n",
       "    </tr>\n",
       "  </tbody>\n",
       "</table>\n",
       "</div>"
      ],
      "text/plain": [
       "         parent           child pos_p pos_c\n",
       "0        август    августовский     N     A\n",
       "1  августовский          август     A     N\n",
       "2  августовский    микроавтобус     A     N\n",
       "3  микроавтобус    августовский     N     A\n",
       "4  микроавтобус  телеавтоматика     N     N"
      ]
     },
     "execution_count": 43,
     "metadata": {},
     "output_type": "execute_result"
    }
   ],
   "source": [
    "df_traintest = pd.DataFrame(pairs_traintest, columns=['parent', 'child', 'pos_p', 'pos_c'])\n",
    "df_traintest.head()"
   ]
  },
  {
   "cell_type": "code",
   "execution_count": 44,
   "metadata": {},
   "outputs": [
    {
     "data": {
      "text/html": [
       "<div>\n",
       "<style scoped>\n",
       "    .dataframe tbody tr th:only-of-type {\n",
       "        vertical-align: middle;\n",
       "    }\n",
       "\n",
       "    .dataframe tbody tr th {\n",
       "        vertical-align: top;\n",
       "    }\n",
       "\n",
       "    .dataframe thead th {\n",
       "        text-align: right;\n",
       "    }\n",
       "</style>\n",
       "<table border=\"1\" class=\"dataframe\">\n",
       "  <thead>\n",
       "    <tr style=\"text-align: right;\">\n",
       "      <th></th>\n",
       "      <th>parent</th>\n",
       "      <th>child</th>\n",
       "      <th>pos_p</th>\n",
       "      <th>pos_c</th>\n",
       "    </tr>\n",
       "  </thead>\n",
       "  <tbody>\n",
       "    <tr>\n",
       "      <th>0</th>\n",
       "      <td>авиамоделист</td>\n",
       "      <td>авиамодельный</td>\n",
       "      <td>N</td>\n",
       "      <td>A</td>\n",
       "    </tr>\n",
       "    <tr>\n",
       "      <th>1</th>\n",
       "      <td>авиамодельный</td>\n",
       "      <td>авиамоделист</td>\n",
       "      <td>A</td>\n",
       "      <td>N</td>\n",
       "    </tr>\n",
       "    <tr>\n",
       "      <th>2</th>\n",
       "      <td>авиамодельный</td>\n",
       "      <td>авиасвязь</td>\n",
       "      <td>A</td>\n",
       "      <td>N</td>\n",
       "    </tr>\n",
       "    <tr>\n",
       "      <th>3</th>\n",
       "      <td>авиасвязь</td>\n",
       "      <td>авиамодельный</td>\n",
       "      <td>N</td>\n",
       "      <td>A</td>\n",
       "    </tr>\n",
       "    <tr>\n",
       "      <th>4</th>\n",
       "      <td>авиасвязь</td>\n",
       "      <td>авифауна</td>\n",
       "      <td>N</td>\n",
       "      <td>N</td>\n",
       "    </tr>\n",
       "  </tbody>\n",
       "</table>\n",
       "</div>"
      ],
      "text/plain": [
       "          parent          child pos_p pos_c\n",
       "0   авиамоделист  авиамодельный     N     A\n",
       "1  авиамодельный   авиамоделист     A     N\n",
       "2  авиамодельный      авиасвязь     A     N\n",
       "3      авиасвязь  авиамодельный     N     A\n",
       "4      авиасвязь       авифауна     N     N"
      ]
     },
     "execution_count": 44,
     "metadata": {},
     "output_type": "execute_result"
    }
   ],
   "source": [
    "df = pd.DataFrame(pairs, columns=['parent', 'child', 'pos_p', 'pos_c'])\n",
    "df.head()"
   ]
  },
  {
   "cell_type": "code",
   "execution_count": 45,
   "metadata": {},
   "outputs": [
    {
     "data": {
      "text/html": [
       "<div>\n",
       "<style scoped>\n",
       "    .dataframe tbody tr th:only-of-type {\n",
       "        vertical-align: middle;\n",
       "    }\n",
       "\n",
       "    .dataframe tbody tr th {\n",
       "        vertical-align: top;\n",
       "    }\n",
       "\n",
       "    .dataframe thead th {\n",
       "        text-align: right;\n",
       "    }\n",
       "</style>\n",
       "<table border=\"1\" class=\"dataframe\">\n",
       "  <thead>\n",
       "    <tr style=\"text-align: right;\">\n",
       "      <th></th>\n",
       "      <th>parent</th>\n",
       "      <th>child</th>\n",
       "      <th>pos_p</th>\n",
       "      <th>pos_c</th>\n",
       "    </tr>\n",
       "  </thead>\n",
       "  <tbody>\n",
       "    <tr>\n",
       "      <th>0</th>\n",
       "      <td>августовский</td>\n",
       "      <td>август</td>\n",
       "      <td>A</td>\n",
       "      <td>N</td>\n",
       "    </tr>\n",
       "    <tr>\n",
       "      <th>1</th>\n",
       "      <td>август</td>\n",
       "      <td>августовский</td>\n",
       "      <td>N</td>\n",
       "      <td>A</td>\n",
       "    </tr>\n",
       "    <tr>\n",
       "      <th>2</th>\n",
       "      <td>микроанализ</td>\n",
       "      <td>микроавтобус</td>\n",
       "      <td>N</td>\n",
       "      <td>N</td>\n",
       "    </tr>\n",
       "    <tr>\n",
       "      <th>3</th>\n",
       "      <td>микроаналитический</td>\n",
       "      <td>микроавтобус</td>\n",
       "      <td>A</td>\n",
       "      <td>N</td>\n",
       "    </tr>\n",
       "    <tr>\n",
       "      <th>4</th>\n",
       "      <td>микровесы</td>\n",
       "      <td>микроавтобус</td>\n",
       "      <td>N</td>\n",
       "      <td>N</td>\n",
       "    </tr>\n",
       "  </tbody>\n",
       "</table>\n",
       "</div>"
      ],
      "text/plain": [
       "               parent         child pos_p pos_c\n",
       "0        августовский        август     A     N\n",
       "1              август  августовский     N     A\n",
       "2         микроанализ  микроавтобус     N     N\n",
       "3  микроаналитический  микроавтобус     A     N\n",
       "4           микровесы  микроавтобус     N     N"
      ]
     },
     "execution_count": 45,
     "metadata": {},
     "output_type": "execute_result"
    }
   ],
   "source": [
    "df_tr_pref = pd.DataFrame(pairs_traintest_pref, columns=['parent', 'child', 'pos_p', 'pos_c'])\n",
    "df_tr_pref.head()"
   ]
  },
  {
   "cell_type": "code",
   "execution_count": 46,
   "metadata": {},
   "outputs": [
    {
     "data": {
      "text/html": [
       "<div>\n",
       "<style scoped>\n",
       "    .dataframe tbody tr th:only-of-type {\n",
       "        vertical-align: middle;\n",
       "    }\n",
       "\n",
       "    .dataframe tbody tr th {\n",
       "        vertical-align: top;\n",
       "    }\n",
       "\n",
       "    .dataframe thead th {\n",
       "        text-align: right;\n",
       "    }\n",
       "</style>\n",
       "<table border=\"1\" class=\"dataframe\">\n",
       "  <thead>\n",
       "    <tr style=\"text-align: right;\">\n",
       "      <th></th>\n",
       "      <th>parent</th>\n",
       "      <th>child</th>\n",
       "      <th>pos_p</th>\n",
       "      <th>pos_c</th>\n",
       "    </tr>\n",
       "  </thead>\n",
       "  <tbody>\n",
       "    <tr>\n",
       "      <th>0</th>\n",
       "      <td>август</td>\n",
       "      <td>августовский</td>\n",
       "      <td>N</td>\n",
       "      <td>A</td>\n",
       "    </tr>\n",
       "    <tr>\n",
       "      <th>1</th>\n",
       "      <td>августовский</td>\n",
       "      <td>август</td>\n",
       "      <td>A</td>\n",
       "      <td>N</td>\n",
       "    </tr>\n",
       "    <tr>\n",
       "      <th>2</th>\n",
       "      <td>авиамодельный</td>\n",
       "      <td>авиамоделист</td>\n",
       "      <td>A</td>\n",
       "      <td>N</td>\n",
       "    </tr>\n",
       "    <tr>\n",
       "      <th>3</th>\n",
       "      <td>авиамоторный</td>\n",
       "      <td>авиамоделист</td>\n",
       "      <td>A</td>\n",
       "      <td>N</td>\n",
       "    </tr>\n",
       "    <tr>\n",
       "      <th>4</th>\n",
       "      <td>авиасвязь</td>\n",
       "      <td>авиамоделист</td>\n",
       "      <td>N</td>\n",
       "      <td>N</td>\n",
       "    </tr>\n",
       "  </tbody>\n",
       "</table>\n",
       "</div>"
      ],
      "text/plain": [
       "          parent         child pos_p pos_c\n",
       "0         август  августовский     N     A\n",
       "1   августовский        август     A     N\n",
       "2  авиамодельный  авиамоделист     A     N\n",
       "3   авиамоторный  авиамоделист     A     N\n",
       "4      авиасвязь  авиамоделист     N     N"
      ]
     },
     "execution_count": 46,
     "metadata": {},
     "output_type": "execute_result"
    }
   ],
   "source": [
    "df_pref = pd.DataFrame(pairs_pref, columns=['parent', 'child', 'pos_p', 'pos_c'])\n",
    "df_pref.head()"
   ]
  },
  {
   "cell_type": "markdown",
   "metadata": {},
   "source": [
    "# Part-of-speech categories"
   ]
  },
  {
   "cell_type": "markdown",
   "metadata": {},
   "source": [
    "one hot encoding"
   ]
  },
  {
   "cell_type": "code",
   "execution_count": 47,
   "metadata": {},
   "outputs": [],
   "source": [
    "from sklearn import preprocessing"
   ]
  },
  {
   "cell_type": "code",
   "execution_count": 48,
   "metadata": {},
   "outputs": [
    {
     "data": {
      "text/plain": [
       "LabelBinarizer(neg_label=0, pos_label=1, sparse_output=False)"
      ]
     },
     "execution_count": 48,
     "metadata": {},
     "output_type": "execute_result"
    }
   ],
   "source": [
    "lb = preprocessing.LabelBinarizer()\n",
    "lb.fit(['N', 'A', 'D', 'V'])"
   ]
  },
  {
   "cell_type": "code",
   "execution_count": 49,
   "metadata": {},
   "outputs": [
    {
     "data": {
      "text/plain": [
       "array([[0, 0, 1, 0],\n",
       "       [1, 0, 0, 0],\n",
       "       [0, 1, 0, 0],\n",
       "       [0, 0, 0, 1]])"
      ]
     },
     "execution_count": 49,
     "metadata": {},
     "output_type": "execute_result"
    }
   ],
   "source": [
    "lb.transform(['N', 'A', 'D', 'V'])"
   ]
  },
  {
   "cell_type": "code",
   "execution_count": 50,
   "metadata": {},
   "outputs": [],
   "source": [
    "import numpy as np"
   ]
  },
  {
   "cell_type": "code",
   "execution_count": 51,
   "metadata": {},
   "outputs": [],
   "source": [
    "def one_hot_encode(poses):\n",
    "    new_poses = lb.transform(poses).T\n",
    "    N = new_poses[2]\n",
    "    A = new_poses[0]\n",
    "    D = new_poses[1]\n",
    "    V = new_poses[3]\n",
    "    return N, A, D, V"
   ]
  },
  {
   "cell_type": "code",
   "execution_count": 52,
   "metadata": {},
   "outputs": [],
   "source": [
    "df_traintest['N_p'], df_traintest['A_p'], df_traintest['V_p'], df_traintest['D_p'] = one_hot_encode(df_traintest['pos_p'])"
   ]
  },
  {
   "cell_type": "code",
   "execution_count": 53,
   "metadata": {},
   "outputs": [],
   "source": [
    "df['N_p'], df['A_p'], df['V_p'], df['D_p'] = one_hot_encode(df['pos_p'])"
   ]
  },
  {
   "cell_type": "code",
   "execution_count": 54,
   "metadata": {},
   "outputs": [],
   "source": [
    "df_tr_pref['N_p'], df_tr_pref['A_p'], df_tr_pref['V_p'], df_tr_pref['D_p'] = one_hot_encode(df_tr_pref['pos_p'])"
   ]
  },
  {
   "cell_type": "code",
   "execution_count": 55,
   "metadata": {},
   "outputs": [],
   "source": [
    "df_pref['N_p'], df_pref['A_p'], df_pref['V_p'], df_pref['D_p'] = one_hot_encode(df_pref['pos_p'])"
   ]
  },
  {
   "cell_type": "code",
   "execution_count": 56,
   "metadata": {},
   "outputs": [],
   "source": [
    "df_traintest['N_c'], df_traintest['A_c'], df_traintest['V_c'], df_traintest['D_c'] = one_hot_encode(df_traintest['pos_c'])"
   ]
  },
  {
   "cell_type": "code",
   "execution_count": 57,
   "metadata": {},
   "outputs": [],
   "source": [
    "df['N_c'], df['A_c'], df['V_c'], df['D_c'] = one_hot_encode(df['pos_c'])"
   ]
  },
  {
   "cell_type": "code",
   "execution_count": 58,
   "metadata": {},
   "outputs": [],
   "source": [
    "df_tr_pref['N_c'], df_tr_pref['A_c'], df_tr_pref['V_c'], df_tr_pref['D_c'] = one_hot_encode(df_tr_pref['pos_c'])"
   ]
  },
  {
   "cell_type": "code",
   "execution_count": 59,
   "metadata": {},
   "outputs": [],
   "source": [
    "df_pref['N_c'], df_pref['A_c'], df_pref['V_c'], df_pref['D_c'] = one_hot_encode(df_pref['pos_c'])"
   ]
  },
  {
   "cell_type": "code",
   "execution_count": 60,
   "metadata": {},
   "outputs": [
    {
     "data": {
      "text/html": [
       "<div>\n",
       "<style scoped>\n",
       "    .dataframe tbody tr th:only-of-type {\n",
       "        vertical-align: middle;\n",
       "    }\n",
       "\n",
       "    .dataframe tbody tr th {\n",
       "        vertical-align: top;\n",
       "    }\n",
       "\n",
       "    .dataframe thead th {\n",
       "        text-align: right;\n",
       "    }\n",
       "</style>\n",
       "<table border=\"1\" class=\"dataframe\">\n",
       "  <thead>\n",
       "    <tr style=\"text-align: right;\">\n",
       "      <th></th>\n",
       "      <th>parent</th>\n",
       "      <th>child</th>\n",
       "      <th>pos_p</th>\n",
       "      <th>pos_c</th>\n",
       "      <th>N_p</th>\n",
       "      <th>A_p</th>\n",
       "      <th>V_p</th>\n",
       "      <th>D_p</th>\n",
       "      <th>N_c</th>\n",
       "      <th>A_c</th>\n",
       "      <th>V_c</th>\n",
       "      <th>D_c</th>\n",
       "    </tr>\n",
       "  </thead>\n",
       "  <tbody>\n",
       "    <tr>\n",
       "      <th>0</th>\n",
       "      <td>август</td>\n",
       "      <td>августовский</td>\n",
       "      <td>N</td>\n",
       "      <td>A</td>\n",
       "      <td>1</td>\n",
       "      <td>0</td>\n",
       "      <td>0</td>\n",
       "      <td>0</td>\n",
       "      <td>0</td>\n",
       "      <td>1</td>\n",
       "      <td>0</td>\n",
       "      <td>0</td>\n",
       "    </tr>\n",
       "    <tr>\n",
       "      <th>1</th>\n",
       "      <td>августовский</td>\n",
       "      <td>август</td>\n",
       "      <td>A</td>\n",
       "      <td>N</td>\n",
       "      <td>0</td>\n",
       "      <td>1</td>\n",
       "      <td>0</td>\n",
       "      <td>0</td>\n",
       "      <td>1</td>\n",
       "      <td>0</td>\n",
       "      <td>0</td>\n",
       "      <td>0</td>\n",
       "    </tr>\n",
       "    <tr>\n",
       "      <th>2</th>\n",
       "      <td>августовский</td>\n",
       "      <td>микроавтобус</td>\n",
       "      <td>A</td>\n",
       "      <td>N</td>\n",
       "      <td>0</td>\n",
       "      <td>1</td>\n",
       "      <td>0</td>\n",
       "      <td>0</td>\n",
       "      <td>1</td>\n",
       "      <td>0</td>\n",
       "      <td>0</td>\n",
       "      <td>0</td>\n",
       "    </tr>\n",
       "    <tr>\n",
       "      <th>3</th>\n",
       "      <td>микроавтобус</td>\n",
       "      <td>августовский</td>\n",
       "      <td>N</td>\n",
       "      <td>A</td>\n",
       "      <td>1</td>\n",
       "      <td>0</td>\n",
       "      <td>0</td>\n",
       "      <td>0</td>\n",
       "      <td>0</td>\n",
       "      <td>1</td>\n",
       "      <td>0</td>\n",
       "      <td>0</td>\n",
       "    </tr>\n",
       "    <tr>\n",
       "      <th>4</th>\n",
       "      <td>микроавтобус</td>\n",
       "      <td>телеавтоматика</td>\n",
       "      <td>N</td>\n",
       "      <td>N</td>\n",
       "      <td>1</td>\n",
       "      <td>0</td>\n",
       "      <td>0</td>\n",
       "      <td>0</td>\n",
       "      <td>1</td>\n",
       "      <td>0</td>\n",
       "      <td>0</td>\n",
       "      <td>0</td>\n",
       "    </tr>\n",
       "  </tbody>\n",
       "</table>\n",
       "</div>"
      ],
      "text/plain": [
       "         parent           child pos_p pos_c  N_p  A_p  V_p  D_p  N_c  A_c  \\\n",
       "0        август    августовский     N     A    1    0    0    0    0    1   \n",
       "1  августовский          август     A     N    0    1    0    0    1    0   \n",
       "2  августовский    микроавтобус     A     N    0    1    0    0    1    0   \n",
       "3  микроавтобус    августовский     N     A    1    0    0    0    0    1   \n",
       "4  микроавтобус  телеавтоматика     N     N    1    0    0    0    1    0   \n",
       "\n",
       "   V_c  D_c  \n",
       "0    0    0  \n",
       "1    0    0  \n",
       "2    0    0  \n",
       "3    0    0  \n",
       "4    0    0  "
      ]
     },
     "execution_count": 60,
     "metadata": {},
     "output_type": "execute_result"
    }
   ],
   "source": [
    "df_traintest.head()"
   ]
  },
  {
   "cell_type": "code",
   "execution_count": 61,
   "metadata": {},
   "outputs": [
    {
     "data": {
      "text/html": [
       "<div>\n",
       "<style scoped>\n",
       "    .dataframe tbody tr th:only-of-type {\n",
       "        vertical-align: middle;\n",
       "    }\n",
       "\n",
       "    .dataframe tbody tr th {\n",
       "        vertical-align: top;\n",
       "    }\n",
       "\n",
       "    .dataframe thead th {\n",
       "        text-align: right;\n",
       "    }\n",
       "</style>\n",
       "<table border=\"1\" class=\"dataframe\">\n",
       "  <thead>\n",
       "    <tr style=\"text-align: right;\">\n",
       "      <th></th>\n",
       "      <th>parent</th>\n",
       "      <th>child</th>\n",
       "      <th>pos_p</th>\n",
       "      <th>pos_c</th>\n",
       "      <th>N_p</th>\n",
       "      <th>A_p</th>\n",
       "      <th>V_p</th>\n",
       "      <th>D_p</th>\n",
       "      <th>N_c</th>\n",
       "      <th>A_c</th>\n",
       "      <th>V_c</th>\n",
       "      <th>D_c</th>\n",
       "    </tr>\n",
       "  </thead>\n",
       "  <tbody>\n",
       "    <tr>\n",
       "      <th>0</th>\n",
       "      <td>авиамоделист</td>\n",
       "      <td>авиамодельный</td>\n",
       "      <td>N</td>\n",
       "      <td>A</td>\n",
       "      <td>1</td>\n",
       "      <td>0</td>\n",
       "      <td>0</td>\n",
       "      <td>0</td>\n",
       "      <td>0</td>\n",
       "      <td>1</td>\n",
       "      <td>0</td>\n",
       "      <td>0</td>\n",
       "    </tr>\n",
       "    <tr>\n",
       "      <th>1</th>\n",
       "      <td>авиамодельный</td>\n",
       "      <td>авиамоделист</td>\n",
       "      <td>A</td>\n",
       "      <td>N</td>\n",
       "      <td>0</td>\n",
       "      <td>1</td>\n",
       "      <td>0</td>\n",
       "      <td>0</td>\n",
       "      <td>1</td>\n",
       "      <td>0</td>\n",
       "      <td>0</td>\n",
       "      <td>0</td>\n",
       "    </tr>\n",
       "    <tr>\n",
       "      <th>2</th>\n",
       "      <td>авиамодельный</td>\n",
       "      <td>авиасвязь</td>\n",
       "      <td>A</td>\n",
       "      <td>N</td>\n",
       "      <td>0</td>\n",
       "      <td>1</td>\n",
       "      <td>0</td>\n",
       "      <td>0</td>\n",
       "      <td>1</td>\n",
       "      <td>0</td>\n",
       "      <td>0</td>\n",
       "      <td>0</td>\n",
       "    </tr>\n",
       "    <tr>\n",
       "      <th>3</th>\n",
       "      <td>авиасвязь</td>\n",
       "      <td>авиамодельный</td>\n",
       "      <td>N</td>\n",
       "      <td>A</td>\n",
       "      <td>1</td>\n",
       "      <td>0</td>\n",
       "      <td>0</td>\n",
       "      <td>0</td>\n",
       "      <td>0</td>\n",
       "      <td>1</td>\n",
       "      <td>0</td>\n",
       "      <td>0</td>\n",
       "    </tr>\n",
       "    <tr>\n",
       "      <th>4</th>\n",
       "      <td>авиасвязь</td>\n",
       "      <td>авифауна</td>\n",
       "      <td>N</td>\n",
       "      <td>N</td>\n",
       "      <td>1</td>\n",
       "      <td>0</td>\n",
       "      <td>0</td>\n",
       "      <td>0</td>\n",
       "      <td>1</td>\n",
       "      <td>0</td>\n",
       "      <td>0</td>\n",
       "      <td>0</td>\n",
       "    </tr>\n",
       "  </tbody>\n",
       "</table>\n",
       "</div>"
      ],
      "text/plain": [
       "          parent          child pos_p pos_c  N_p  A_p  V_p  D_p  N_c  A_c  \\\n",
       "0   авиамоделист  авиамодельный     N     A    1    0    0    0    0    1   \n",
       "1  авиамодельный   авиамоделист     A     N    0    1    0    0    1    0   \n",
       "2  авиамодельный      авиасвязь     A     N    0    1    0    0    1    0   \n",
       "3      авиасвязь  авиамодельный     N     A    1    0    0    0    0    1   \n",
       "4      авиасвязь       авифауна     N     N    1    0    0    0    1    0   \n",
       "\n",
       "   V_c  D_c  \n",
       "0    0    0  \n",
       "1    0    0  \n",
       "2    0    0  \n",
       "3    0    0  \n",
       "4    0    0  "
      ]
     },
     "execution_count": 61,
     "metadata": {},
     "output_type": "execute_result"
    }
   ],
   "source": [
    "df.head()"
   ]
  },
  {
   "cell_type": "code",
   "execution_count": 62,
   "metadata": {},
   "outputs": [
    {
     "data": {
      "text/html": [
       "<div>\n",
       "<style scoped>\n",
       "    .dataframe tbody tr th:only-of-type {\n",
       "        vertical-align: middle;\n",
       "    }\n",
       "\n",
       "    .dataframe tbody tr th {\n",
       "        vertical-align: top;\n",
       "    }\n",
       "\n",
       "    .dataframe thead th {\n",
       "        text-align: right;\n",
       "    }\n",
       "</style>\n",
       "<table border=\"1\" class=\"dataframe\">\n",
       "  <thead>\n",
       "    <tr style=\"text-align: right;\">\n",
       "      <th></th>\n",
       "      <th>parent</th>\n",
       "      <th>child</th>\n",
       "      <th>pos_p</th>\n",
       "      <th>pos_c</th>\n",
       "      <th>N_p</th>\n",
       "      <th>A_p</th>\n",
       "      <th>V_p</th>\n",
       "      <th>D_p</th>\n",
       "      <th>N_c</th>\n",
       "      <th>A_c</th>\n",
       "      <th>V_c</th>\n",
       "      <th>D_c</th>\n",
       "    </tr>\n",
       "  </thead>\n",
       "  <tbody>\n",
       "    <tr>\n",
       "      <th>0</th>\n",
       "      <td>августовский</td>\n",
       "      <td>август</td>\n",
       "      <td>A</td>\n",
       "      <td>N</td>\n",
       "      <td>0</td>\n",
       "      <td>1</td>\n",
       "      <td>0</td>\n",
       "      <td>0</td>\n",
       "      <td>1</td>\n",
       "      <td>0</td>\n",
       "      <td>0</td>\n",
       "      <td>0</td>\n",
       "    </tr>\n",
       "    <tr>\n",
       "      <th>1</th>\n",
       "      <td>август</td>\n",
       "      <td>августовский</td>\n",
       "      <td>N</td>\n",
       "      <td>A</td>\n",
       "      <td>1</td>\n",
       "      <td>0</td>\n",
       "      <td>0</td>\n",
       "      <td>0</td>\n",
       "      <td>0</td>\n",
       "      <td>1</td>\n",
       "      <td>0</td>\n",
       "      <td>0</td>\n",
       "    </tr>\n",
       "    <tr>\n",
       "      <th>2</th>\n",
       "      <td>микроанализ</td>\n",
       "      <td>микроавтобус</td>\n",
       "      <td>N</td>\n",
       "      <td>N</td>\n",
       "      <td>1</td>\n",
       "      <td>0</td>\n",
       "      <td>0</td>\n",
       "      <td>0</td>\n",
       "      <td>1</td>\n",
       "      <td>0</td>\n",
       "      <td>0</td>\n",
       "      <td>0</td>\n",
       "    </tr>\n",
       "    <tr>\n",
       "      <th>3</th>\n",
       "      <td>микроаналитический</td>\n",
       "      <td>микроавтобус</td>\n",
       "      <td>A</td>\n",
       "      <td>N</td>\n",
       "      <td>0</td>\n",
       "      <td>1</td>\n",
       "      <td>0</td>\n",
       "      <td>0</td>\n",
       "      <td>1</td>\n",
       "      <td>0</td>\n",
       "      <td>0</td>\n",
       "      <td>0</td>\n",
       "    </tr>\n",
       "    <tr>\n",
       "      <th>4</th>\n",
       "      <td>микровесы</td>\n",
       "      <td>микроавтобус</td>\n",
       "      <td>N</td>\n",
       "      <td>N</td>\n",
       "      <td>1</td>\n",
       "      <td>0</td>\n",
       "      <td>0</td>\n",
       "      <td>0</td>\n",
       "      <td>1</td>\n",
       "      <td>0</td>\n",
       "      <td>0</td>\n",
       "      <td>0</td>\n",
       "    </tr>\n",
       "  </tbody>\n",
       "</table>\n",
       "</div>"
      ],
      "text/plain": [
       "               parent         child pos_p pos_c  N_p  A_p  V_p  D_p  N_c  A_c  \\\n",
       "0        августовский        август     A     N    0    1    0    0    1    0   \n",
       "1              август  августовский     N     A    1    0    0    0    0    1   \n",
       "2         микроанализ  микроавтобус     N     N    1    0    0    0    1    0   \n",
       "3  микроаналитический  микроавтобус     A     N    0    1    0    0    1    0   \n",
       "4           микровесы  микроавтобус     N     N    1    0    0    0    1    0   \n",
       "\n",
       "   V_c  D_c  \n",
       "0    0    0  \n",
       "1    0    0  \n",
       "2    0    0  \n",
       "3    0    0  \n",
       "4    0    0  "
      ]
     },
     "execution_count": 62,
     "metadata": {},
     "output_type": "execute_result"
    }
   ],
   "source": [
    "df_tr_pref.head()"
   ]
  },
  {
   "cell_type": "code",
   "execution_count": 63,
   "metadata": {},
   "outputs": [
    {
     "data": {
      "text/html": [
       "<div>\n",
       "<style scoped>\n",
       "    .dataframe tbody tr th:only-of-type {\n",
       "        vertical-align: middle;\n",
       "    }\n",
       "\n",
       "    .dataframe tbody tr th {\n",
       "        vertical-align: top;\n",
       "    }\n",
       "\n",
       "    .dataframe thead th {\n",
       "        text-align: right;\n",
       "    }\n",
       "</style>\n",
       "<table border=\"1\" class=\"dataframe\">\n",
       "  <thead>\n",
       "    <tr style=\"text-align: right;\">\n",
       "      <th></th>\n",
       "      <th>parent</th>\n",
       "      <th>child</th>\n",
       "      <th>pos_p</th>\n",
       "      <th>pos_c</th>\n",
       "      <th>N_p</th>\n",
       "      <th>A_p</th>\n",
       "      <th>V_p</th>\n",
       "      <th>D_p</th>\n",
       "      <th>N_c</th>\n",
       "      <th>A_c</th>\n",
       "      <th>V_c</th>\n",
       "      <th>D_c</th>\n",
       "    </tr>\n",
       "  </thead>\n",
       "  <tbody>\n",
       "    <tr>\n",
       "      <th>0</th>\n",
       "      <td>август</td>\n",
       "      <td>августовский</td>\n",
       "      <td>N</td>\n",
       "      <td>A</td>\n",
       "      <td>1</td>\n",
       "      <td>0</td>\n",
       "      <td>0</td>\n",
       "      <td>0</td>\n",
       "      <td>0</td>\n",
       "      <td>1</td>\n",
       "      <td>0</td>\n",
       "      <td>0</td>\n",
       "    </tr>\n",
       "    <tr>\n",
       "      <th>1</th>\n",
       "      <td>августовский</td>\n",
       "      <td>август</td>\n",
       "      <td>A</td>\n",
       "      <td>N</td>\n",
       "      <td>0</td>\n",
       "      <td>1</td>\n",
       "      <td>0</td>\n",
       "      <td>0</td>\n",
       "      <td>1</td>\n",
       "      <td>0</td>\n",
       "      <td>0</td>\n",
       "      <td>0</td>\n",
       "    </tr>\n",
       "    <tr>\n",
       "      <th>2</th>\n",
       "      <td>авиамодельный</td>\n",
       "      <td>авиамоделист</td>\n",
       "      <td>A</td>\n",
       "      <td>N</td>\n",
       "      <td>0</td>\n",
       "      <td>1</td>\n",
       "      <td>0</td>\n",
       "      <td>0</td>\n",
       "      <td>1</td>\n",
       "      <td>0</td>\n",
       "      <td>0</td>\n",
       "      <td>0</td>\n",
       "    </tr>\n",
       "    <tr>\n",
       "      <th>3</th>\n",
       "      <td>авиамоторный</td>\n",
       "      <td>авиамоделист</td>\n",
       "      <td>A</td>\n",
       "      <td>N</td>\n",
       "      <td>0</td>\n",
       "      <td>1</td>\n",
       "      <td>0</td>\n",
       "      <td>0</td>\n",
       "      <td>1</td>\n",
       "      <td>0</td>\n",
       "      <td>0</td>\n",
       "      <td>0</td>\n",
       "    </tr>\n",
       "    <tr>\n",
       "      <th>4</th>\n",
       "      <td>авиасвязь</td>\n",
       "      <td>авиамоделист</td>\n",
       "      <td>N</td>\n",
       "      <td>N</td>\n",
       "      <td>1</td>\n",
       "      <td>0</td>\n",
       "      <td>0</td>\n",
       "      <td>0</td>\n",
       "      <td>1</td>\n",
       "      <td>0</td>\n",
       "      <td>0</td>\n",
       "      <td>0</td>\n",
       "    </tr>\n",
       "  </tbody>\n",
       "</table>\n",
       "</div>"
      ],
      "text/plain": [
       "          parent         child pos_p pos_c  N_p  A_p  V_p  D_p  N_c  A_c  V_c  \\\n",
       "0         август  августовский     N     A    1    0    0    0    0    1    0   \n",
       "1   августовский        август     A     N    0    1    0    0    1    0    0   \n",
       "2  авиамодельный  авиамоделист     A     N    0    1    0    0    1    0    0   \n",
       "3   авиамоторный  авиамоделист     A     N    0    1    0    0    1    0    0   \n",
       "4      авиасвязь  авиамоделист     N     N    1    0    0    0    1    0    0   \n",
       "\n",
       "   D_c  \n",
       "0    0  \n",
       "1    0  \n",
       "2    0  \n",
       "3    0  \n",
       "4    0  "
      ]
     },
     "execution_count": 63,
     "metadata": {},
     "output_type": "execute_result"
    }
   ],
   "source": [
    "df_pref.head()"
   ]
  },
  {
   "cell_type": "markdown",
   "metadata": {},
   "source": [
    "# Levenshtein distance, length difference"
   ]
  },
  {
   "cell_type": "code",
   "execution_count": 64,
   "metadata": {},
   "outputs": [],
   "source": [
    "from Levenshtein import distance as levenshtein_distance"
   ]
  },
  {
   "cell_type": "code",
   "execution_count": 65,
   "metadata": {},
   "outputs": [],
   "source": [
    "def dist_lengths(words1, words2):\n",
    "    dists = []\n",
    "    lengths = []\n",
    "    for i in range(len(words1)):\n",
    "        w1 = words1[i]\n",
    "        w2 = words2[i]\n",
    "        dists.append(levenshtein_distance(w1, w2))\n",
    "        lengths.append(len(w1) - len(w2))\n",
    "    return dists, lengths"
   ]
  },
  {
   "cell_type": "code",
   "execution_count": 66,
   "metadata": {},
   "outputs": [],
   "source": [
    "df_traintest['lev_dist'], df_traintest['length'] = dist_lengths(df_traintest['parent'], df_traintest['child'])"
   ]
  },
  {
   "cell_type": "code",
   "execution_count": 67,
   "metadata": {},
   "outputs": [
    {
     "data": {
      "text/html": [
       "<div>\n",
       "<style scoped>\n",
       "    .dataframe tbody tr th:only-of-type {\n",
       "        vertical-align: middle;\n",
       "    }\n",
       "\n",
       "    .dataframe tbody tr th {\n",
       "        vertical-align: top;\n",
       "    }\n",
       "\n",
       "    .dataframe thead th {\n",
       "        text-align: right;\n",
       "    }\n",
       "</style>\n",
       "<table border=\"1\" class=\"dataframe\">\n",
       "  <thead>\n",
       "    <tr style=\"text-align: right;\">\n",
       "      <th></th>\n",
       "      <th>parent</th>\n",
       "      <th>child</th>\n",
       "      <th>pos_p</th>\n",
       "      <th>pos_c</th>\n",
       "      <th>N_p</th>\n",
       "      <th>A_p</th>\n",
       "      <th>V_p</th>\n",
       "      <th>D_p</th>\n",
       "      <th>N_c</th>\n",
       "      <th>A_c</th>\n",
       "      <th>V_c</th>\n",
       "      <th>D_c</th>\n",
       "      <th>lev_dist</th>\n",
       "      <th>length</th>\n",
       "    </tr>\n",
       "  </thead>\n",
       "  <tbody>\n",
       "    <tr>\n",
       "      <th>0</th>\n",
       "      <td>август</td>\n",
       "      <td>августовский</td>\n",
       "      <td>N</td>\n",
       "      <td>A</td>\n",
       "      <td>1</td>\n",
       "      <td>0</td>\n",
       "      <td>0</td>\n",
       "      <td>0</td>\n",
       "      <td>0</td>\n",
       "      <td>1</td>\n",
       "      <td>0</td>\n",
       "      <td>0</td>\n",
       "      <td>6</td>\n",
       "      <td>-6</td>\n",
       "    </tr>\n",
       "    <tr>\n",
       "      <th>1</th>\n",
       "      <td>августовский</td>\n",
       "      <td>август</td>\n",
       "      <td>A</td>\n",
       "      <td>N</td>\n",
       "      <td>0</td>\n",
       "      <td>1</td>\n",
       "      <td>0</td>\n",
       "      <td>0</td>\n",
       "      <td>1</td>\n",
       "      <td>0</td>\n",
       "      <td>0</td>\n",
       "      <td>0</td>\n",
       "      <td>6</td>\n",
       "      <td>6</td>\n",
       "    </tr>\n",
       "    <tr>\n",
       "      <th>2</th>\n",
       "      <td>августовский</td>\n",
       "      <td>микроавтобус</td>\n",
       "      <td>A</td>\n",
       "      <td>N</td>\n",
       "      <td>0</td>\n",
       "      <td>1</td>\n",
       "      <td>0</td>\n",
       "      <td>0</td>\n",
       "      <td>1</td>\n",
       "      <td>0</td>\n",
       "      <td>0</td>\n",
       "      <td>0</td>\n",
       "      <td>12</td>\n",
       "      <td>0</td>\n",
       "    </tr>\n",
       "    <tr>\n",
       "      <th>3</th>\n",
       "      <td>микроавтобус</td>\n",
       "      <td>августовский</td>\n",
       "      <td>N</td>\n",
       "      <td>A</td>\n",
       "      <td>1</td>\n",
       "      <td>0</td>\n",
       "      <td>0</td>\n",
       "      <td>0</td>\n",
       "      <td>0</td>\n",
       "      <td>1</td>\n",
       "      <td>0</td>\n",
       "      <td>0</td>\n",
       "      <td>12</td>\n",
       "      <td>0</td>\n",
       "    </tr>\n",
       "    <tr>\n",
       "      <th>4</th>\n",
       "      <td>микроавтобус</td>\n",
       "      <td>телеавтоматика</td>\n",
       "      <td>N</td>\n",
       "      <td>N</td>\n",
       "      <td>1</td>\n",
       "      <td>0</td>\n",
       "      <td>0</td>\n",
       "      <td>0</td>\n",
       "      <td>1</td>\n",
       "      <td>0</td>\n",
       "      <td>0</td>\n",
       "      <td>0</td>\n",
       "      <td>11</td>\n",
       "      <td>-2</td>\n",
       "    </tr>\n",
       "  </tbody>\n",
       "</table>\n",
       "</div>"
      ],
      "text/plain": [
       "         parent           child pos_p pos_c  N_p  A_p  V_p  D_p  N_c  A_c  \\\n",
       "0        август    августовский     N     A    1    0    0    0    0    1   \n",
       "1  августовский          август     A     N    0    1    0    0    1    0   \n",
       "2  августовский    микроавтобус     A     N    0    1    0    0    1    0   \n",
       "3  микроавтобус    августовский     N     A    1    0    0    0    0    1   \n",
       "4  микроавтобус  телеавтоматика     N     N    1    0    0    0    1    0   \n",
       "\n",
       "   V_c  D_c  lev_dist  length  \n",
       "0    0    0         6      -6  \n",
       "1    0    0         6       6  \n",
       "2    0    0        12       0  \n",
       "3    0    0        12       0  \n",
       "4    0    0        11      -2  "
      ]
     },
     "execution_count": 67,
     "metadata": {},
     "output_type": "execute_result"
    }
   ],
   "source": [
    "df_traintest.head()"
   ]
  },
  {
   "cell_type": "code",
   "execution_count": 68,
   "metadata": {},
   "outputs": [],
   "source": [
    "df['lev_dist'], df['length'] = dist_lengths(df['parent'], df['child'])"
   ]
  },
  {
   "cell_type": "code",
   "execution_count": 69,
   "metadata": {},
   "outputs": [
    {
     "data": {
      "text/html": [
       "<div>\n",
       "<style scoped>\n",
       "    .dataframe tbody tr th:only-of-type {\n",
       "        vertical-align: middle;\n",
       "    }\n",
       "\n",
       "    .dataframe tbody tr th {\n",
       "        vertical-align: top;\n",
       "    }\n",
       "\n",
       "    .dataframe thead th {\n",
       "        text-align: right;\n",
       "    }\n",
       "</style>\n",
       "<table border=\"1\" class=\"dataframe\">\n",
       "  <thead>\n",
       "    <tr style=\"text-align: right;\">\n",
       "      <th></th>\n",
       "      <th>parent</th>\n",
       "      <th>child</th>\n",
       "      <th>pos_p</th>\n",
       "      <th>pos_c</th>\n",
       "      <th>N_p</th>\n",
       "      <th>A_p</th>\n",
       "      <th>V_p</th>\n",
       "      <th>D_p</th>\n",
       "      <th>N_c</th>\n",
       "      <th>A_c</th>\n",
       "      <th>V_c</th>\n",
       "      <th>D_c</th>\n",
       "      <th>lev_dist</th>\n",
       "      <th>length</th>\n",
       "    </tr>\n",
       "  </thead>\n",
       "  <tbody>\n",
       "    <tr>\n",
       "      <th>0</th>\n",
       "      <td>авиамоделист</td>\n",
       "      <td>авиамодельный</td>\n",
       "      <td>N</td>\n",
       "      <td>A</td>\n",
       "      <td>1</td>\n",
       "      <td>0</td>\n",
       "      <td>0</td>\n",
       "      <td>0</td>\n",
       "      <td>0</td>\n",
       "      <td>1</td>\n",
       "      <td>0</td>\n",
       "      <td>0</td>\n",
       "      <td>4</td>\n",
       "      <td>-1</td>\n",
       "    </tr>\n",
       "    <tr>\n",
       "      <th>1</th>\n",
       "      <td>авиамодельный</td>\n",
       "      <td>авиамоделист</td>\n",
       "      <td>A</td>\n",
       "      <td>N</td>\n",
       "      <td>0</td>\n",
       "      <td>1</td>\n",
       "      <td>0</td>\n",
       "      <td>0</td>\n",
       "      <td>1</td>\n",
       "      <td>0</td>\n",
       "      <td>0</td>\n",
       "      <td>0</td>\n",
       "      <td>4</td>\n",
       "      <td>1</td>\n",
       "    </tr>\n",
       "    <tr>\n",
       "      <th>2</th>\n",
       "      <td>авиамодельный</td>\n",
       "      <td>авиасвязь</td>\n",
       "      <td>A</td>\n",
       "      <td>N</td>\n",
       "      <td>0</td>\n",
       "      <td>1</td>\n",
       "      <td>0</td>\n",
       "      <td>0</td>\n",
       "      <td>1</td>\n",
       "      <td>0</td>\n",
       "      <td>0</td>\n",
       "      <td>0</td>\n",
       "      <td>8</td>\n",
       "      <td>4</td>\n",
       "    </tr>\n",
       "    <tr>\n",
       "      <th>3</th>\n",
       "      <td>авиасвязь</td>\n",
       "      <td>авиамодельный</td>\n",
       "      <td>N</td>\n",
       "      <td>A</td>\n",
       "      <td>1</td>\n",
       "      <td>0</td>\n",
       "      <td>0</td>\n",
       "      <td>0</td>\n",
       "      <td>0</td>\n",
       "      <td>1</td>\n",
       "      <td>0</td>\n",
       "      <td>0</td>\n",
       "      <td>8</td>\n",
       "      <td>-4</td>\n",
       "    </tr>\n",
       "    <tr>\n",
       "      <th>4</th>\n",
       "      <td>авиасвязь</td>\n",
       "      <td>авифауна</td>\n",
       "      <td>N</td>\n",
       "      <td>N</td>\n",
       "      <td>1</td>\n",
       "      <td>0</td>\n",
       "      <td>0</td>\n",
       "      <td>0</td>\n",
       "      <td>1</td>\n",
       "      <td>0</td>\n",
       "      <td>0</td>\n",
       "      <td>0</td>\n",
       "      <td>6</td>\n",
       "      <td>1</td>\n",
       "    </tr>\n",
       "  </tbody>\n",
       "</table>\n",
       "</div>"
      ],
      "text/plain": [
       "          parent          child pos_p pos_c  N_p  A_p  V_p  D_p  N_c  A_c  \\\n",
       "0   авиамоделист  авиамодельный     N     A    1    0    0    0    0    1   \n",
       "1  авиамодельный   авиамоделист     A     N    0    1    0    0    1    0   \n",
       "2  авиамодельный      авиасвязь     A     N    0    1    0    0    1    0   \n",
       "3      авиасвязь  авиамодельный     N     A    1    0    0    0    0    1   \n",
       "4      авиасвязь       авифауна     N     N    1    0    0    0    1    0   \n",
       "\n",
       "   V_c  D_c  lev_dist  length  \n",
       "0    0    0         4      -1  \n",
       "1    0    0         4       1  \n",
       "2    0    0         8       4  \n",
       "3    0    0         8      -4  \n",
       "4    0    0         6       1  "
      ]
     },
     "execution_count": 69,
     "metadata": {},
     "output_type": "execute_result"
    }
   ],
   "source": [
    "df.head()"
   ]
  },
  {
   "cell_type": "code",
   "execution_count": 70,
   "metadata": {},
   "outputs": [],
   "source": [
    "df_tr_pref['lev_dist'], df_tr_pref['length'] = dist_lengths(df_tr_pref['parent'], df_tr_pref['child'])"
   ]
  },
  {
   "cell_type": "code",
   "execution_count": 71,
   "metadata": {},
   "outputs": [],
   "source": [
    "df_pref['lev_dist'], df_pref['length'] = dist_lengths(df_pref['parent'], df_pref['child'])"
   ]
  },
  {
   "cell_type": "markdown",
   "metadata": {},
   "source": [
    "# Roots + Morphemes"
   ]
  },
  {
   "cell_type": "code",
   "execution_count": 72,
   "metadata": {},
   "outputs": [],
   "source": [
    "def morphs(words1, words2, kuzwords):\n",
    "    roots_p = []\n",
    "    roots_c = []\n",
    "    morphs_p = []\n",
    "    morphs_c = []\n",
    "    \n",
    "    for i in range(len(words1)):\n",
    "        morphs1 = kuzwords[words1[i]][0]\n",
    "        morphs2 = kuzwords[words2[i]][0]\n",
    "        roots1 = kuzwords[words1[i]][1]\n",
    "        roots2 = kuzwords[words2[i]][1]\n",
    "        \n",
    "        root = len(set(roots1) & set(roots2))\n",
    "        roots_p.append(root / len(roots1))\n",
    "        roots_c.append(root / len(roots2))\n",
    "        \n",
    "        \n",
    "        morph = len(set(morphs1) & set(morphs2)) \n",
    "        morphs_p.append(morph / len(morphs1))\n",
    "        morphs_c.append(morph / len(morphs2))\n",
    "        \n",
    "        \n",
    "    return roots_p, roots_c, morphs_p, morphs_c"
   ]
  },
  {
   "cell_type": "code",
   "execution_count": 73,
   "metadata": {},
   "outputs": [],
   "source": [
    "df_traintest['roots_p'], df_traintest['roots_c'], df_traintest['morphs_p'], df_traintest['morphs_c'] = morphs(df_traintest['parent'], df_traintest['child'], kuzwords)"
   ]
  },
  {
   "cell_type": "code",
   "execution_count": 74,
   "metadata": {},
   "outputs": [],
   "source": [
    "df['roots_p'], df['roots_c'], df['morphs_p'], df['morphs_c'] = morphs(df['parent'], df['child'], kuzwords)"
   ]
  },
  {
   "cell_type": "code",
   "execution_count": 75,
   "metadata": {},
   "outputs": [
    {
     "data": {
      "text/html": [
       "<div>\n",
       "<style scoped>\n",
       "    .dataframe tbody tr th:only-of-type {\n",
       "        vertical-align: middle;\n",
       "    }\n",
       "\n",
       "    .dataframe tbody tr th {\n",
       "        vertical-align: top;\n",
       "    }\n",
       "\n",
       "    .dataframe thead th {\n",
       "        text-align: right;\n",
       "    }\n",
       "</style>\n",
       "<table border=\"1\" class=\"dataframe\">\n",
       "  <thead>\n",
       "    <tr style=\"text-align: right;\">\n",
       "      <th></th>\n",
       "      <th>parent</th>\n",
       "      <th>child</th>\n",
       "      <th>pos_p</th>\n",
       "      <th>pos_c</th>\n",
       "      <th>N_p</th>\n",
       "      <th>A_p</th>\n",
       "      <th>V_p</th>\n",
       "      <th>D_p</th>\n",
       "      <th>N_c</th>\n",
       "      <th>A_c</th>\n",
       "      <th>V_c</th>\n",
       "      <th>D_c</th>\n",
       "      <th>lev_dist</th>\n",
       "      <th>length</th>\n",
       "      <th>roots_p</th>\n",
       "      <th>roots_c</th>\n",
       "      <th>morphs_p</th>\n",
       "      <th>morphs_c</th>\n",
       "    </tr>\n",
       "  </thead>\n",
       "  <tbody>\n",
       "    <tr>\n",
       "      <th>0</th>\n",
       "      <td>август</td>\n",
       "      <td>августовский</td>\n",
       "      <td>N</td>\n",
       "      <td>A</td>\n",
       "      <td>1</td>\n",
       "      <td>0</td>\n",
       "      <td>0</td>\n",
       "      <td>0</td>\n",
       "      <td>0</td>\n",
       "      <td>1</td>\n",
       "      <td>0</td>\n",
       "      <td>0</td>\n",
       "      <td>6</td>\n",
       "      <td>-6</td>\n",
       "      <td>1.0</td>\n",
       "      <td>1.0</td>\n",
       "      <td>1.000000</td>\n",
       "      <td>0.333333</td>\n",
       "    </tr>\n",
       "    <tr>\n",
       "      <th>1</th>\n",
       "      <td>августовский</td>\n",
       "      <td>август</td>\n",
       "      <td>A</td>\n",
       "      <td>N</td>\n",
       "      <td>0</td>\n",
       "      <td>1</td>\n",
       "      <td>0</td>\n",
       "      <td>0</td>\n",
       "      <td>1</td>\n",
       "      <td>0</td>\n",
       "      <td>0</td>\n",
       "      <td>0</td>\n",
       "      <td>6</td>\n",
       "      <td>6</td>\n",
       "      <td>1.0</td>\n",
       "      <td>1.0</td>\n",
       "      <td>0.333333</td>\n",
       "      <td>1.000000</td>\n",
       "    </tr>\n",
       "    <tr>\n",
       "      <th>2</th>\n",
       "      <td>августовский</td>\n",
       "      <td>микроавтобус</td>\n",
       "      <td>A</td>\n",
       "      <td>N</td>\n",
       "      <td>0</td>\n",
       "      <td>1</td>\n",
       "      <td>0</td>\n",
       "      <td>0</td>\n",
       "      <td>1</td>\n",
       "      <td>0</td>\n",
       "      <td>0</td>\n",
       "      <td>0</td>\n",
       "      <td>12</td>\n",
       "      <td>0</td>\n",
       "      <td>0.0</td>\n",
       "      <td>0.0</td>\n",
       "      <td>0.000000</td>\n",
       "      <td>0.000000</td>\n",
       "    </tr>\n",
       "    <tr>\n",
       "      <th>3</th>\n",
       "      <td>микроавтобус</td>\n",
       "      <td>августовский</td>\n",
       "      <td>N</td>\n",
       "      <td>A</td>\n",
       "      <td>1</td>\n",
       "      <td>0</td>\n",
       "      <td>0</td>\n",
       "      <td>0</td>\n",
       "      <td>0</td>\n",
       "      <td>1</td>\n",
       "      <td>0</td>\n",
       "      <td>0</td>\n",
       "      <td>12</td>\n",
       "      <td>0</td>\n",
       "      <td>0.0</td>\n",
       "      <td>0.0</td>\n",
       "      <td>0.000000</td>\n",
       "      <td>0.000000</td>\n",
       "    </tr>\n",
       "    <tr>\n",
       "      <th>4</th>\n",
       "      <td>микроавтобус</td>\n",
       "      <td>телеавтоматика</td>\n",
       "      <td>N</td>\n",
       "      <td>N</td>\n",
       "      <td>1</td>\n",
       "      <td>0</td>\n",
       "      <td>0</td>\n",
       "      <td>0</td>\n",
       "      <td>1</td>\n",
       "      <td>0</td>\n",
       "      <td>0</td>\n",
       "      <td>0</td>\n",
       "      <td>11</td>\n",
       "      <td>-2</td>\n",
       "      <td>0.0</td>\n",
       "      <td>0.0</td>\n",
       "      <td>0.000000</td>\n",
       "      <td>0.000000</td>\n",
       "    </tr>\n",
       "  </tbody>\n",
       "</table>\n",
       "</div>"
      ],
      "text/plain": [
       "         parent           child pos_p pos_c  N_p  A_p  V_p  D_p  N_c  A_c  \\\n",
       "0        август    августовский     N     A    1    0    0    0    0    1   \n",
       "1  августовский          август     A     N    0    1    0    0    1    0   \n",
       "2  августовский    микроавтобус     A     N    0    1    0    0    1    0   \n",
       "3  микроавтобус    августовский     N     A    1    0    0    0    0    1   \n",
       "4  микроавтобус  телеавтоматика     N     N    1    0    0    0    1    0   \n",
       "\n",
       "   V_c  D_c  lev_dist  length  roots_p  roots_c  morphs_p  morphs_c  \n",
       "0    0    0         6      -6      1.0      1.0  1.000000  0.333333  \n",
       "1    0    0         6       6      1.0      1.0  0.333333  1.000000  \n",
       "2    0    0        12       0      0.0      0.0  0.000000  0.000000  \n",
       "3    0    0        12       0      0.0      0.0  0.000000  0.000000  \n",
       "4    0    0        11      -2      0.0      0.0  0.000000  0.000000  "
      ]
     },
     "execution_count": 75,
     "metadata": {},
     "output_type": "execute_result"
    }
   ],
   "source": [
    "df_traintest.head()"
   ]
  },
  {
   "cell_type": "code",
   "execution_count": 76,
   "metadata": {},
   "outputs": [
    {
     "data": {
      "text/html": [
       "<div>\n",
       "<style scoped>\n",
       "    .dataframe tbody tr th:only-of-type {\n",
       "        vertical-align: middle;\n",
       "    }\n",
       "\n",
       "    .dataframe tbody tr th {\n",
       "        vertical-align: top;\n",
       "    }\n",
       "\n",
       "    .dataframe thead th {\n",
       "        text-align: right;\n",
       "    }\n",
       "</style>\n",
       "<table border=\"1\" class=\"dataframe\">\n",
       "  <thead>\n",
       "    <tr style=\"text-align: right;\">\n",
       "      <th></th>\n",
       "      <th>parent</th>\n",
       "      <th>child</th>\n",
       "      <th>pos_p</th>\n",
       "      <th>pos_c</th>\n",
       "      <th>N_p</th>\n",
       "      <th>A_p</th>\n",
       "      <th>V_p</th>\n",
       "      <th>D_p</th>\n",
       "      <th>N_c</th>\n",
       "      <th>A_c</th>\n",
       "      <th>V_c</th>\n",
       "      <th>D_c</th>\n",
       "      <th>lev_dist</th>\n",
       "      <th>length</th>\n",
       "      <th>roots_p</th>\n",
       "      <th>roots_c</th>\n",
       "      <th>morphs_p</th>\n",
       "      <th>morphs_c</th>\n",
       "    </tr>\n",
       "  </thead>\n",
       "  <tbody>\n",
       "    <tr>\n",
       "      <th>0</th>\n",
       "      <td>авиамоделист</td>\n",
       "      <td>авиамодельный</td>\n",
       "      <td>N</td>\n",
       "      <td>A</td>\n",
       "      <td>1</td>\n",
       "      <td>0</td>\n",
       "      <td>0</td>\n",
       "      <td>0</td>\n",
       "      <td>0</td>\n",
       "      <td>1</td>\n",
       "      <td>0</td>\n",
       "      <td>0</td>\n",
       "      <td>4</td>\n",
       "      <td>-1</td>\n",
       "      <td>0.5</td>\n",
       "      <td>0.5</td>\n",
       "      <td>0.333333</td>\n",
       "      <td>0.250000</td>\n",
       "    </tr>\n",
       "    <tr>\n",
       "      <th>1</th>\n",
       "      <td>авиамодельный</td>\n",
       "      <td>авиамоделист</td>\n",
       "      <td>A</td>\n",
       "      <td>N</td>\n",
       "      <td>0</td>\n",
       "      <td>1</td>\n",
       "      <td>0</td>\n",
       "      <td>0</td>\n",
       "      <td>1</td>\n",
       "      <td>0</td>\n",
       "      <td>0</td>\n",
       "      <td>0</td>\n",
       "      <td>4</td>\n",
       "      <td>1</td>\n",
       "      <td>0.5</td>\n",
       "      <td>0.5</td>\n",
       "      <td>0.250000</td>\n",
       "      <td>0.333333</td>\n",
       "    </tr>\n",
       "    <tr>\n",
       "      <th>2</th>\n",
       "      <td>авиамодельный</td>\n",
       "      <td>авиасвязь</td>\n",
       "      <td>A</td>\n",
       "      <td>N</td>\n",
       "      <td>0</td>\n",
       "      <td>1</td>\n",
       "      <td>0</td>\n",
       "      <td>0</td>\n",
       "      <td>1</td>\n",
       "      <td>0</td>\n",
       "      <td>0</td>\n",
       "      <td>0</td>\n",
       "      <td>8</td>\n",
       "      <td>4</td>\n",
       "      <td>0.5</td>\n",
       "      <td>0.5</td>\n",
       "      <td>0.250000</td>\n",
       "      <td>0.333333</td>\n",
       "    </tr>\n",
       "    <tr>\n",
       "      <th>3</th>\n",
       "      <td>авиасвязь</td>\n",
       "      <td>авиамодельный</td>\n",
       "      <td>N</td>\n",
       "      <td>A</td>\n",
       "      <td>1</td>\n",
       "      <td>0</td>\n",
       "      <td>0</td>\n",
       "      <td>0</td>\n",
       "      <td>0</td>\n",
       "      <td>1</td>\n",
       "      <td>0</td>\n",
       "      <td>0</td>\n",
       "      <td>8</td>\n",
       "      <td>-4</td>\n",
       "      <td>0.5</td>\n",
       "      <td>0.5</td>\n",
       "      <td>0.333333</td>\n",
       "      <td>0.250000</td>\n",
       "    </tr>\n",
       "    <tr>\n",
       "      <th>4</th>\n",
       "      <td>авиасвязь</td>\n",
       "      <td>авифауна</td>\n",
       "      <td>N</td>\n",
       "      <td>N</td>\n",
       "      <td>1</td>\n",
       "      <td>0</td>\n",
       "      <td>0</td>\n",
       "      <td>0</td>\n",
       "      <td>1</td>\n",
       "      <td>0</td>\n",
       "      <td>0</td>\n",
       "      <td>0</td>\n",
       "      <td>6</td>\n",
       "      <td>1</td>\n",
       "      <td>0.0</td>\n",
       "      <td>0.0</td>\n",
       "      <td>0.000000</td>\n",
       "      <td>0.000000</td>\n",
       "    </tr>\n",
       "  </tbody>\n",
       "</table>\n",
       "</div>"
      ],
      "text/plain": [
       "          parent          child pos_p pos_c  N_p  A_p  V_p  D_p  N_c  A_c  \\\n",
       "0   авиамоделист  авиамодельный     N     A    1    0    0    0    0    1   \n",
       "1  авиамодельный   авиамоделист     A     N    0    1    0    0    1    0   \n",
       "2  авиамодельный      авиасвязь     A     N    0    1    0    0    1    0   \n",
       "3      авиасвязь  авиамодельный     N     A    1    0    0    0    0    1   \n",
       "4      авиасвязь       авифауна     N     N    1    0    0    0    1    0   \n",
       "\n",
       "   V_c  D_c  lev_dist  length  roots_p  roots_c  morphs_p  morphs_c  \n",
       "0    0    0         4      -1      0.5      0.5  0.333333  0.250000  \n",
       "1    0    0         4       1      0.5      0.5  0.250000  0.333333  \n",
       "2    0    0         8       4      0.5      0.5  0.250000  0.333333  \n",
       "3    0    0         8      -4      0.5      0.5  0.333333  0.250000  \n",
       "4    0    0         6       1      0.0      0.0  0.000000  0.000000  "
      ]
     },
     "execution_count": 76,
     "metadata": {},
     "output_type": "execute_result"
    }
   ],
   "source": [
    "df.head()"
   ]
  },
  {
   "cell_type": "code",
   "execution_count": 77,
   "metadata": {},
   "outputs": [],
   "source": [
    "df_tr_pref['roots_p'], df_tr_pref['roots_c'], df_tr_pref['morphs_p'], df_tr_pref['morphs_c'] = morphs(df_tr_pref['parent'], df_tr_pref['child'], kuzwords)"
   ]
  },
  {
   "cell_type": "code",
   "execution_count": 78,
   "metadata": {},
   "outputs": [],
   "source": [
    "df_pref['roots_p'], df_pref['roots_c'], df_pref['morphs_p'], df_pref['morphs_c'] = morphs(df_pref['parent'], df_pref['child'], kuzwords)"
   ]
  },
  {
   "cell_type": "markdown",
   "metadata": {},
   "source": [
    "# On-off sets"
   ]
  },
  {
   "cell_type": "code",
   "execution_count": 79,
   "metadata": {},
   "outputs": [],
   "source": [
    "def on_off(words1, words2):\n",
    "    ons_p = []\n",
    "    offs_p = []\n",
    "    ons_c = []\n",
    "    offs_c = []\n",
    "    \n",
    "    \n",
    "    for i in range(len(words1)):\n",
    "        on = 0\n",
    "        off = 0\n",
    "        \n",
    "        length = len(words1[i])\n",
    "        \n",
    "        for l in range(length):\n",
    "            if words2[i].startswith(words1[i][:l + 1]):\n",
    "                if len(words1[i][:l + 1]) > on:\n",
    "                    on = len(words1[i][:l + 1])\n",
    "\n",
    "        ons_p.append(on/len(words1[i]))\n",
    "        ons_c.append(on/len(words2[i]))\n",
    "\n",
    "        \n",
    "        for l in range(length):\n",
    "            if words2[i].endswith(words1[i][l:length + 1]):\n",
    "                if len(words1[i][l:length + 1]) > off:\n",
    "                    off = len(words1[i][l:length + 1])\n",
    "        offs_p.append(off/len(words1[i]))\n",
    "        offs_c.append(off/len(words2[i]))\n",
    "\n",
    "        \n",
    "    return ons_p, ons_c, offs_p, offs_c"
   ]
  },
  {
   "cell_type": "code",
   "execution_count": 80,
   "metadata": {
    "scrolled": false
   },
   "outputs": [],
   "source": [
    "df_traintest['onset_p'], df_traintest['onset_c'], df_traintest['offset_p'], df_traintest['offset_c'] = on_off(df_traintest['parent'], df_traintest['child'])"
   ]
  },
  {
   "cell_type": "code",
   "execution_count": 81,
   "metadata": {},
   "outputs": [],
   "source": [
    "df['onset_p'], df['onset_c'], df['offset_p'], df['offset_c'] = on_off(df['parent'], df['child'])"
   ]
  },
  {
   "cell_type": "code",
   "execution_count": 82,
   "metadata": {},
   "outputs": [],
   "source": [
    "df_tr_pref['onset_p'], df_tr_pref['onset_c'], df_tr_pref['offset_p'], df_tr_pref['offset_c'] = on_off(df_tr_pref['parent'], df_tr_pref['child'])"
   ]
  },
  {
   "cell_type": "code",
   "execution_count": 83,
   "metadata": {},
   "outputs": [],
   "source": [
    "df_pref['onset_p'], df_pref['onset_c'], df_pref['offset_p'], df_pref['offset_c'] = on_off(df_pref['parent'], df_pref['child'])"
   ]
  },
  {
   "cell_type": "code",
   "execution_count": 84,
   "metadata": {},
   "outputs": [
    {
     "data": {
      "text/html": [
       "<div>\n",
       "<style scoped>\n",
       "    .dataframe tbody tr th:only-of-type {\n",
       "        vertical-align: middle;\n",
       "    }\n",
       "\n",
       "    .dataframe tbody tr th {\n",
       "        vertical-align: top;\n",
       "    }\n",
       "\n",
       "    .dataframe thead th {\n",
       "        text-align: right;\n",
       "    }\n",
       "</style>\n",
       "<table border=\"1\" class=\"dataframe\">\n",
       "  <thead>\n",
       "    <tr style=\"text-align: right;\">\n",
       "      <th></th>\n",
       "      <th>parent</th>\n",
       "      <th>child</th>\n",
       "      <th>pos_p</th>\n",
       "      <th>pos_c</th>\n",
       "      <th>N_p</th>\n",
       "      <th>A_p</th>\n",
       "      <th>V_p</th>\n",
       "      <th>D_p</th>\n",
       "      <th>N_c</th>\n",
       "      <th>A_c</th>\n",
       "      <th>...</th>\n",
       "      <th>lev_dist</th>\n",
       "      <th>length</th>\n",
       "      <th>roots_p</th>\n",
       "      <th>roots_c</th>\n",
       "      <th>morphs_p</th>\n",
       "      <th>morphs_c</th>\n",
       "      <th>onset_p</th>\n",
       "      <th>onset_c</th>\n",
       "      <th>offset_p</th>\n",
       "      <th>offset_c</th>\n",
       "    </tr>\n",
       "  </thead>\n",
       "  <tbody>\n",
       "    <tr>\n",
       "      <th>0</th>\n",
       "      <td>август</td>\n",
       "      <td>августовский</td>\n",
       "      <td>N</td>\n",
       "      <td>A</td>\n",
       "      <td>1</td>\n",
       "      <td>0</td>\n",
       "      <td>0</td>\n",
       "      <td>0</td>\n",
       "      <td>0</td>\n",
       "      <td>1</td>\n",
       "      <td>...</td>\n",
       "      <td>6</td>\n",
       "      <td>-6</td>\n",
       "      <td>1.0</td>\n",
       "      <td>1.0</td>\n",
       "      <td>1.000000</td>\n",
       "      <td>0.333333</td>\n",
       "      <td>1.0</td>\n",
       "      <td>0.5</td>\n",
       "      <td>0.0</td>\n",
       "      <td>0.0</td>\n",
       "    </tr>\n",
       "    <tr>\n",
       "      <th>1</th>\n",
       "      <td>августовский</td>\n",
       "      <td>август</td>\n",
       "      <td>A</td>\n",
       "      <td>N</td>\n",
       "      <td>0</td>\n",
       "      <td>1</td>\n",
       "      <td>0</td>\n",
       "      <td>0</td>\n",
       "      <td>1</td>\n",
       "      <td>0</td>\n",
       "      <td>...</td>\n",
       "      <td>6</td>\n",
       "      <td>6</td>\n",
       "      <td>1.0</td>\n",
       "      <td>1.0</td>\n",
       "      <td>0.333333</td>\n",
       "      <td>1.000000</td>\n",
       "      <td>0.5</td>\n",
       "      <td>1.0</td>\n",
       "      <td>0.0</td>\n",
       "      <td>0.0</td>\n",
       "    </tr>\n",
       "    <tr>\n",
       "      <th>2</th>\n",
       "      <td>августовский</td>\n",
       "      <td>микроавтобус</td>\n",
       "      <td>A</td>\n",
       "      <td>N</td>\n",
       "      <td>0</td>\n",
       "      <td>1</td>\n",
       "      <td>0</td>\n",
       "      <td>0</td>\n",
       "      <td>1</td>\n",
       "      <td>0</td>\n",
       "      <td>...</td>\n",
       "      <td>12</td>\n",
       "      <td>0</td>\n",
       "      <td>0.0</td>\n",
       "      <td>0.0</td>\n",
       "      <td>0.000000</td>\n",
       "      <td>0.000000</td>\n",
       "      <td>0.0</td>\n",
       "      <td>0.0</td>\n",
       "      <td>0.0</td>\n",
       "      <td>0.0</td>\n",
       "    </tr>\n",
       "    <tr>\n",
       "      <th>3</th>\n",
       "      <td>микроавтобус</td>\n",
       "      <td>августовский</td>\n",
       "      <td>N</td>\n",
       "      <td>A</td>\n",
       "      <td>1</td>\n",
       "      <td>0</td>\n",
       "      <td>0</td>\n",
       "      <td>0</td>\n",
       "      <td>0</td>\n",
       "      <td>1</td>\n",
       "      <td>...</td>\n",
       "      <td>12</td>\n",
       "      <td>0</td>\n",
       "      <td>0.0</td>\n",
       "      <td>0.0</td>\n",
       "      <td>0.000000</td>\n",
       "      <td>0.000000</td>\n",
       "      <td>0.0</td>\n",
       "      <td>0.0</td>\n",
       "      <td>0.0</td>\n",
       "      <td>0.0</td>\n",
       "    </tr>\n",
       "    <tr>\n",
       "      <th>4</th>\n",
       "      <td>микроавтобус</td>\n",
       "      <td>телеавтоматика</td>\n",
       "      <td>N</td>\n",
       "      <td>N</td>\n",
       "      <td>1</td>\n",
       "      <td>0</td>\n",
       "      <td>0</td>\n",
       "      <td>0</td>\n",
       "      <td>1</td>\n",
       "      <td>0</td>\n",
       "      <td>...</td>\n",
       "      <td>11</td>\n",
       "      <td>-2</td>\n",
       "      <td>0.0</td>\n",
       "      <td>0.0</td>\n",
       "      <td>0.000000</td>\n",
       "      <td>0.000000</td>\n",
       "      <td>0.0</td>\n",
       "      <td>0.0</td>\n",
       "      <td>0.0</td>\n",
       "      <td>0.0</td>\n",
       "    </tr>\n",
       "  </tbody>\n",
       "</table>\n",
       "<p>5 rows × 22 columns</p>\n",
       "</div>"
      ],
      "text/plain": [
       "         parent           child pos_p pos_c  N_p  A_p  V_p  D_p  N_c  A_c  \\\n",
       "0        август    августовский     N     A    1    0    0    0    0    1   \n",
       "1  августовский          август     A     N    0    1    0    0    1    0   \n",
       "2  августовский    микроавтобус     A     N    0    1    0    0    1    0   \n",
       "3  микроавтобус    августовский     N     A    1    0    0    0    0    1   \n",
       "4  микроавтобус  телеавтоматика     N     N    1    0    0    0    1    0   \n",
       "\n",
       "   ...  lev_dist  length  roots_p  roots_c  morphs_p  morphs_c  onset_p  \\\n",
       "0  ...         6      -6      1.0      1.0  1.000000  0.333333      1.0   \n",
       "1  ...         6       6      1.0      1.0  0.333333  1.000000      0.5   \n",
       "2  ...        12       0      0.0      0.0  0.000000  0.000000      0.0   \n",
       "3  ...        12       0      0.0      0.0  0.000000  0.000000      0.0   \n",
       "4  ...        11      -2      0.0      0.0  0.000000  0.000000      0.0   \n",
       "\n",
       "   onset_c  offset_p  offset_c  \n",
       "0      0.5       0.0       0.0  \n",
       "1      1.0       0.0       0.0  \n",
       "2      0.0       0.0       0.0  \n",
       "3      0.0       0.0       0.0  \n",
       "4      0.0       0.0       0.0  \n",
       "\n",
       "[5 rows x 22 columns]"
      ]
     },
     "execution_count": 84,
     "metadata": {},
     "output_type": "execute_result"
    }
   ],
   "source": [
    "df_traintest.head()"
   ]
  },
  {
   "cell_type": "code",
   "execution_count": 85,
   "metadata": {},
   "outputs": [
    {
     "data": {
      "text/html": [
       "<div>\n",
       "<style scoped>\n",
       "    .dataframe tbody tr th:only-of-type {\n",
       "        vertical-align: middle;\n",
       "    }\n",
       "\n",
       "    .dataframe tbody tr th {\n",
       "        vertical-align: top;\n",
       "    }\n",
       "\n",
       "    .dataframe thead th {\n",
       "        text-align: right;\n",
       "    }\n",
       "</style>\n",
       "<table border=\"1\" class=\"dataframe\">\n",
       "  <thead>\n",
       "    <tr style=\"text-align: right;\">\n",
       "      <th></th>\n",
       "      <th>parent</th>\n",
       "      <th>child</th>\n",
       "      <th>pos_p</th>\n",
       "      <th>pos_c</th>\n",
       "      <th>N_p</th>\n",
       "      <th>A_p</th>\n",
       "      <th>V_p</th>\n",
       "      <th>D_p</th>\n",
       "      <th>N_c</th>\n",
       "      <th>A_c</th>\n",
       "      <th>...</th>\n",
       "      <th>lev_dist</th>\n",
       "      <th>length</th>\n",
       "      <th>roots_p</th>\n",
       "      <th>roots_c</th>\n",
       "      <th>morphs_p</th>\n",
       "      <th>morphs_c</th>\n",
       "      <th>onset_p</th>\n",
       "      <th>onset_c</th>\n",
       "      <th>offset_p</th>\n",
       "      <th>offset_c</th>\n",
       "    </tr>\n",
       "  </thead>\n",
       "  <tbody>\n",
       "    <tr>\n",
       "      <th>0</th>\n",
       "      <td>авиамоделист</td>\n",
       "      <td>авиамодельный</td>\n",
       "      <td>N</td>\n",
       "      <td>A</td>\n",
       "      <td>1</td>\n",
       "      <td>0</td>\n",
       "      <td>0</td>\n",
       "      <td>0</td>\n",
       "      <td>0</td>\n",
       "      <td>1</td>\n",
       "      <td>...</td>\n",
       "      <td>4</td>\n",
       "      <td>-1</td>\n",
       "      <td>0.5</td>\n",
       "      <td>0.5</td>\n",
       "      <td>0.333333</td>\n",
       "      <td>0.250000</td>\n",
       "      <td>0.750000</td>\n",
       "      <td>0.692308</td>\n",
       "      <td>0.0</td>\n",
       "      <td>0.0</td>\n",
       "    </tr>\n",
       "    <tr>\n",
       "      <th>1</th>\n",
       "      <td>авиамодельный</td>\n",
       "      <td>авиамоделист</td>\n",
       "      <td>A</td>\n",
       "      <td>N</td>\n",
       "      <td>0</td>\n",
       "      <td>1</td>\n",
       "      <td>0</td>\n",
       "      <td>0</td>\n",
       "      <td>1</td>\n",
       "      <td>0</td>\n",
       "      <td>...</td>\n",
       "      <td>4</td>\n",
       "      <td>1</td>\n",
       "      <td>0.5</td>\n",
       "      <td>0.5</td>\n",
       "      <td>0.250000</td>\n",
       "      <td>0.333333</td>\n",
       "      <td>0.692308</td>\n",
       "      <td>0.750000</td>\n",
       "      <td>0.0</td>\n",
       "      <td>0.0</td>\n",
       "    </tr>\n",
       "    <tr>\n",
       "      <th>2</th>\n",
       "      <td>авиамодельный</td>\n",
       "      <td>авиасвязь</td>\n",
       "      <td>A</td>\n",
       "      <td>N</td>\n",
       "      <td>0</td>\n",
       "      <td>1</td>\n",
       "      <td>0</td>\n",
       "      <td>0</td>\n",
       "      <td>1</td>\n",
       "      <td>0</td>\n",
       "      <td>...</td>\n",
       "      <td>8</td>\n",
       "      <td>4</td>\n",
       "      <td>0.5</td>\n",
       "      <td>0.5</td>\n",
       "      <td>0.250000</td>\n",
       "      <td>0.333333</td>\n",
       "      <td>0.307692</td>\n",
       "      <td>0.444444</td>\n",
       "      <td>0.0</td>\n",
       "      <td>0.0</td>\n",
       "    </tr>\n",
       "    <tr>\n",
       "      <th>3</th>\n",
       "      <td>авиасвязь</td>\n",
       "      <td>авиамодельный</td>\n",
       "      <td>N</td>\n",
       "      <td>A</td>\n",
       "      <td>1</td>\n",
       "      <td>0</td>\n",
       "      <td>0</td>\n",
       "      <td>0</td>\n",
       "      <td>0</td>\n",
       "      <td>1</td>\n",
       "      <td>...</td>\n",
       "      <td>8</td>\n",
       "      <td>-4</td>\n",
       "      <td>0.5</td>\n",
       "      <td>0.5</td>\n",
       "      <td>0.333333</td>\n",
       "      <td>0.250000</td>\n",
       "      <td>0.444444</td>\n",
       "      <td>0.307692</td>\n",
       "      <td>0.0</td>\n",
       "      <td>0.0</td>\n",
       "    </tr>\n",
       "    <tr>\n",
       "      <th>4</th>\n",
       "      <td>авиасвязь</td>\n",
       "      <td>авифауна</td>\n",
       "      <td>N</td>\n",
       "      <td>N</td>\n",
       "      <td>1</td>\n",
       "      <td>0</td>\n",
       "      <td>0</td>\n",
       "      <td>0</td>\n",
       "      <td>1</td>\n",
       "      <td>0</td>\n",
       "      <td>...</td>\n",
       "      <td>6</td>\n",
       "      <td>1</td>\n",
       "      <td>0.0</td>\n",
       "      <td>0.0</td>\n",
       "      <td>0.000000</td>\n",
       "      <td>0.000000</td>\n",
       "      <td>0.333333</td>\n",
       "      <td>0.375000</td>\n",
       "      <td>0.0</td>\n",
       "      <td>0.0</td>\n",
       "    </tr>\n",
       "  </tbody>\n",
       "</table>\n",
       "<p>5 rows × 22 columns</p>\n",
       "</div>"
      ],
      "text/plain": [
       "          parent          child pos_p pos_c  N_p  A_p  V_p  D_p  N_c  A_c  \\\n",
       "0   авиамоделист  авиамодельный     N     A    1    0    0    0    0    1   \n",
       "1  авиамодельный   авиамоделист     A     N    0    1    0    0    1    0   \n",
       "2  авиамодельный      авиасвязь     A     N    0    1    0    0    1    0   \n",
       "3      авиасвязь  авиамодельный     N     A    1    0    0    0    0    1   \n",
       "4      авиасвязь       авифауна     N     N    1    0    0    0    1    0   \n",
       "\n",
       "   ...  lev_dist  length  roots_p  roots_c  morphs_p  morphs_c   onset_p  \\\n",
       "0  ...         4      -1      0.5      0.5  0.333333  0.250000  0.750000   \n",
       "1  ...         4       1      0.5      0.5  0.250000  0.333333  0.692308   \n",
       "2  ...         8       4      0.5      0.5  0.250000  0.333333  0.307692   \n",
       "3  ...         8      -4      0.5      0.5  0.333333  0.250000  0.444444   \n",
       "4  ...         6       1      0.0      0.0  0.000000  0.000000  0.333333   \n",
       "\n",
       "    onset_c  offset_p  offset_c  \n",
       "0  0.692308       0.0       0.0  \n",
       "1  0.750000       0.0       0.0  \n",
       "2  0.444444       0.0       0.0  \n",
       "3  0.307692       0.0       0.0  \n",
       "4  0.375000       0.0       0.0  \n",
       "\n",
       "[5 rows x 22 columns]"
      ]
     },
     "execution_count": 85,
     "metadata": {},
     "output_type": "execute_result"
    }
   ],
   "source": [
    "df.head()"
   ]
  },
  {
   "cell_type": "code",
   "execution_count": 86,
   "metadata": {},
   "outputs": [
    {
     "data": {
      "text/html": [
       "<div>\n",
       "<style scoped>\n",
       "    .dataframe tbody tr th:only-of-type {\n",
       "        vertical-align: middle;\n",
       "    }\n",
       "\n",
       "    .dataframe tbody tr th {\n",
       "        vertical-align: top;\n",
       "    }\n",
       "\n",
       "    .dataframe thead th {\n",
       "        text-align: right;\n",
       "    }\n",
       "</style>\n",
       "<table border=\"1\" class=\"dataframe\">\n",
       "  <thead>\n",
       "    <tr style=\"text-align: right;\">\n",
       "      <th></th>\n",
       "      <th>parent</th>\n",
       "      <th>child</th>\n",
       "      <th>pos_p</th>\n",
       "      <th>pos_c</th>\n",
       "      <th>N_p</th>\n",
       "      <th>A_p</th>\n",
       "      <th>V_p</th>\n",
       "      <th>D_p</th>\n",
       "      <th>N_c</th>\n",
       "      <th>A_c</th>\n",
       "      <th>...</th>\n",
       "      <th>lev_dist</th>\n",
       "      <th>length</th>\n",
       "      <th>roots_p</th>\n",
       "      <th>roots_c</th>\n",
       "      <th>morphs_p</th>\n",
       "      <th>morphs_c</th>\n",
       "      <th>onset_p</th>\n",
       "      <th>onset_c</th>\n",
       "      <th>offset_p</th>\n",
       "      <th>offset_c</th>\n",
       "    </tr>\n",
       "  </thead>\n",
       "  <tbody>\n",
       "    <tr>\n",
       "      <th>0</th>\n",
       "      <td>август</td>\n",
       "      <td>августовский</td>\n",
       "      <td>N</td>\n",
       "      <td>A</td>\n",
       "      <td>1</td>\n",
       "      <td>0</td>\n",
       "      <td>0</td>\n",
       "      <td>0</td>\n",
       "      <td>0</td>\n",
       "      <td>1</td>\n",
       "      <td>...</td>\n",
       "      <td>6</td>\n",
       "      <td>-6</td>\n",
       "      <td>1.0</td>\n",
       "      <td>1.0</td>\n",
       "      <td>1.000000</td>\n",
       "      <td>0.333333</td>\n",
       "      <td>1.0</td>\n",
       "      <td>0.5</td>\n",
       "      <td>0.0</td>\n",
       "      <td>0.0</td>\n",
       "    </tr>\n",
       "    <tr>\n",
       "      <th>1</th>\n",
       "      <td>августовский</td>\n",
       "      <td>август</td>\n",
       "      <td>A</td>\n",
       "      <td>N</td>\n",
       "      <td>0</td>\n",
       "      <td>1</td>\n",
       "      <td>0</td>\n",
       "      <td>0</td>\n",
       "      <td>1</td>\n",
       "      <td>0</td>\n",
       "      <td>...</td>\n",
       "      <td>6</td>\n",
       "      <td>6</td>\n",
       "      <td>1.0</td>\n",
       "      <td>1.0</td>\n",
       "      <td>0.333333</td>\n",
       "      <td>1.000000</td>\n",
       "      <td>0.5</td>\n",
       "      <td>1.0</td>\n",
       "      <td>0.0</td>\n",
       "      <td>0.0</td>\n",
       "    </tr>\n",
       "    <tr>\n",
       "      <th>2</th>\n",
       "      <td>августовский</td>\n",
       "      <td>микроавтобус</td>\n",
       "      <td>A</td>\n",
       "      <td>N</td>\n",
       "      <td>0</td>\n",
       "      <td>1</td>\n",
       "      <td>0</td>\n",
       "      <td>0</td>\n",
       "      <td>1</td>\n",
       "      <td>0</td>\n",
       "      <td>...</td>\n",
       "      <td>12</td>\n",
       "      <td>0</td>\n",
       "      <td>0.0</td>\n",
       "      <td>0.0</td>\n",
       "      <td>0.000000</td>\n",
       "      <td>0.000000</td>\n",
       "      <td>0.0</td>\n",
       "      <td>0.0</td>\n",
       "      <td>0.0</td>\n",
       "      <td>0.0</td>\n",
       "    </tr>\n",
       "    <tr>\n",
       "      <th>3</th>\n",
       "      <td>микроавтобус</td>\n",
       "      <td>августовский</td>\n",
       "      <td>N</td>\n",
       "      <td>A</td>\n",
       "      <td>1</td>\n",
       "      <td>0</td>\n",
       "      <td>0</td>\n",
       "      <td>0</td>\n",
       "      <td>0</td>\n",
       "      <td>1</td>\n",
       "      <td>...</td>\n",
       "      <td>12</td>\n",
       "      <td>0</td>\n",
       "      <td>0.0</td>\n",
       "      <td>0.0</td>\n",
       "      <td>0.000000</td>\n",
       "      <td>0.000000</td>\n",
       "      <td>0.0</td>\n",
       "      <td>0.0</td>\n",
       "      <td>0.0</td>\n",
       "      <td>0.0</td>\n",
       "    </tr>\n",
       "    <tr>\n",
       "      <th>4</th>\n",
       "      <td>микроавтобус</td>\n",
       "      <td>телеавтоматика</td>\n",
       "      <td>N</td>\n",
       "      <td>N</td>\n",
       "      <td>1</td>\n",
       "      <td>0</td>\n",
       "      <td>0</td>\n",
       "      <td>0</td>\n",
       "      <td>1</td>\n",
       "      <td>0</td>\n",
       "      <td>...</td>\n",
       "      <td>11</td>\n",
       "      <td>-2</td>\n",
       "      <td>0.0</td>\n",
       "      <td>0.0</td>\n",
       "      <td>0.000000</td>\n",
       "      <td>0.000000</td>\n",
       "      <td>0.0</td>\n",
       "      <td>0.0</td>\n",
       "      <td>0.0</td>\n",
       "      <td>0.0</td>\n",
       "    </tr>\n",
       "  </tbody>\n",
       "</table>\n",
       "<p>5 rows × 22 columns</p>\n",
       "</div>"
      ],
      "text/plain": [
       "         parent           child pos_p pos_c  N_p  A_p  V_p  D_p  N_c  A_c  \\\n",
       "0        август    августовский     N     A    1    0    0    0    0    1   \n",
       "1  августовский          август     A     N    0    1    0    0    1    0   \n",
       "2  августовский    микроавтобус     A     N    0    1    0    0    1    0   \n",
       "3  микроавтобус    августовский     N     A    1    0    0    0    0    1   \n",
       "4  микроавтобус  телеавтоматика     N     N    1    0    0    0    1    0   \n",
       "\n",
       "   ...  lev_dist  length  roots_p  roots_c  morphs_p  morphs_c  onset_p  \\\n",
       "0  ...         6      -6      1.0      1.0  1.000000  0.333333      1.0   \n",
       "1  ...         6       6      1.0      1.0  0.333333  1.000000      0.5   \n",
       "2  ...        12       0      0.0      0.0  0.000000  0.000000      0.0   \n",
       "3  ...        12       0      0.0      0.0  0.000000  0.000000      0.0   \n",
       "4  ...        11      -2      0.0      0.0  0.000000  0.000000      0.0   \n",
       "\n",
       "   onset_c  offset_p  offset_c  \n",
       "0      0.5       0.0       0.0  \n",
       "1      1.0       0.0       0.0  \n",
       "2      0.0       0.0       0.0  \n",
       "3      0.0       0.0       0.0  \n",
       "4      0.0       0.0       0.0  \n",
       "\n",
       "[5 rows x 22 columns]"
      ]
     },
     "execution_count": 86,
     "metadata": {},
     "output_type": "execute_result"
    }
   ],
   "source": [
    "df_traintest.head()"
   ]
  },
  {
   "cell_type": "code",
   "execution_count": 87,
   "metadata": {},
   "outputs": [
    {
     "data": {
      "text/html": [
       "<div>\n",
       "<style scoped>\n",
       "    .dataframe tbody tr th:only-of-type {\n",
       "        vertical-align: middle;\n",
       "    }\n",
       "\n",
       "    .dataframe tbody tr th {\n",
       "        vertical-align: top;\n",
       "    }\n",
       "\n",
       "    .dataframe thead th {\n",
       "        text-align: right;\n",
       "    }\n",
       "</style>\n",
       "<table border=\"1\" class=\"dataframe\">\n",
       "  <thead>\n",
       "    <tr style=\"text-align: right;\">\n",
       "      <th></th>\n",
       "      <th>parent</th>\n",
       "      <th>child</th>\n",
       "      <th>pos_p</th>\n",
       "      <th>pos_c</th>\n",
       "      <th>N_p</th>\n",
       "      <th>A_p</th>\n",
       "      <th>V_p</th>\n",
       "      <th>D_p</th>\n",
       "      <th>N_c</th>\n",
       "      <th>A_c</th>\n",
       "      <th>...</th>\n",
       "      <th>lev_dist</th>\n",
       "      <th>length</th>\n",
       "      <th>roots_p</th>\n",
       "      <th>roots_c</th>\n",
       "      <th>morphs_p</th>\n",
       "      <th>morphs_c</th>\n",
       "      <th>onset_p</th>\n",
       "      <th>onset_c</th>\n",
       "      <th>offset_p</th>\n",
       "      <th>offset_c</th>\n",
       "    </tr>\n",
       "  </thead>\n",
       "  <tbody>\n",
       "    <tr>\n",
       "      <th>0</th>\n",
       "      <td>авиамоделист</td>\n",
       "      <td>авиамодельный</td>\n",
       "      <td>N</td>\n",
       "      <td>A</td>\n",
       "      <td>1</td>\n",
       "      <td>0</td>\n",
       "      <td>0</td>\n",
       "      <td>0</td>\n",
       "      <td>0</td>\n",
       "      <td>1</td>\n",
       "      <td>...</td>\n",
       "      <td>4</td>\n",
       "      <td>-1</td>\n",
       "      <td>0.5</td>\n",
       "      <td>0.5</td>\n",
       "      <td>0.333333</td>\n",
       "      <td>0.250000</td>\n",
       "      <td>0.750000</td>\n",
       "      <td>0.692308</td>\n",
       "      <td>0.0</td>\n",
       "      <td>0.0</td>\n",
       "    </tr>\n",
       "    <tr>\n",
       "      <th>1</th>\n",
       "      <td>авиамодельный</td>\n",
       "      <td>авиамоделист</td>\n",
       "      <td>A</td>\n",
       "      <td>N</td>\n",
       "      <td>0</td>\n",
       "      <td>1</td>\n",
       "      <td>0</td>\n",
       "      <td>0</td>\n",
       "      <td>1</td>\n",
       "      <td>0</td>\n",
       "      <td>...</td>\n",
       "      <td>4</td>\n",
       "      <td>1</td>\n",
       "      <td>0.5</td>\n",
       "      <td>0.5</td>\n",
       "      <td>0.250000</td>\n",
       "      <td>0.333333</td>\n",
       "      <td>0.692308</td>\n",
       "      <td>0.750000</td>\n",
       "      <td>0.0</td>\n",
       "      <td>0.0</td>\n",
       "    </tr>\n",
       "    <tr>\n",
       "      <th>2</th>\n",
       "      <td>авиамодельный</td>\n",
       "      <td>авиасвязь</td>\n",
       "      <td>A</td>\n",
       "      <td>N</td>\n",
       "      <td>0</td>\n",
       "      <td>1</td>\n",
       "      <td>0</td>\n",
       "      <td>0</td>\n",
       "      <td>1</td>\n",
       "      <td>0</td>\n",
       "      <td>...</td>\n",
       "      <td>8</td>\n",
       "      <td>4</td>\n",
       "      <td>0.5</td>\n",
       "      <td>0.5</td>\n",
       "      <td>0.250000</td>\n",
       "      <td>0.333333</td>\n",
       "      <td>0.307692</td>\n",
       "      <td>0.444444</td>\n",
       "      <td>0.0</td>\n",
       "      <td>0.0</td>\n",
       "    </tr>\n",
       "    <tr>\n",
       "      <th>3</th>\n",
       "      <td>авиасвязь</td>\n",
       "      <td>авиамодельный</td>\n",
       "      <td>N</td>\n",
       "      <td>A</td>\n",
       "      <td>1</td>\n",
       "      <td>0</td>\n",
       "      <td>0</td>\n",
       "      <td>0</td>\n",
       "      <td>0</td>\n",
       "      <td>1</td>\n",
       "      <td>...</td>\n",
       "      <td>8</td>\n",
       "      <td>-4</td>\n",
       "      <td>0.5</td>\n",
       "      <td>0.5</td>\n",
       "      <td>0.333333</td>\n",
       "      <td>0.250000</td>\n",
       "      <td>0.444444</td>\n",
       "      <td>0.307692</td>\n",
       "      <td>0.0</td>\n",
       "      <td>0.0</td>\n",
       "    </tr>\n",
       "    <tr>\n",
       "      <th>4</th>\n",
       "      <td>авиасвязь</td>\n",
       "      <td>авифауна</td>\n",
       "      <td>N</td>\n",
       "      <td>N</td>\n",
       "      <td>1</td>\n",
       "      <td>0</td>\n",
       "      <td>0</td>\n",
       "      <td>0</td>\n",
       "      <td>1</td>\n",
       "      <td>0</td>\n",
       "      <td>...</td>\n",
       "      <td>6</td>\n",
       "      <td>1</td>\n",
       "      <td>0.0</td>\n",
       "      <td>0.0</td>\n",
       "      <td>0.000000</td>\n",
       "      <td>0.000000</td>\n",
       "      <td>0.333333</td>\n",
       "      <td>0.375000</td>\n",
       "      <td>0.0</td>\n",
       "      <td>0.0</td>\n",
       "    </tr>\n",
       "  </tbody>\n",
       "</table>\n",
       "<p>5 rows × 22 columns</p>\n",
       "</div>"
      ],
      "text/plain": [
       "          parent          child pos_p pos_c  N_p  A_p  V_p  D_p  N_c  A_c  \\\n",
       "0   авиамоделист  авиамодельный     N     A    1    0    0    0    0    1   \n",
       "1  авиамодельный   авиамоделист     A     N    0    1    0    0    1    0   \n",
       "2  авиамодельный      авиасвязь     A     N    0    1    0    0    1    0   \n",
       "3      авиасвязь  авиамодельный     N     A    1    0    0    0    0    1   \n",
       "4      авиасвязь       авифауна     N     N    1    0    0    0    1    0   \n",
       "\n",
       "   ...  lev_dist  length  roots_p  roots_c  morphs_p  morphs_c   onset_p  \\\n",
       "0  ...         4      -1      0.5      0.5  0.333333  0.250000  0.750000   \n",
       "1  ...         4       1      0.5      0.5  0.250000  0.333333  0.692308   \n",
       "2  ...         8       4      0.5      0.5  0.250000  0.333333  0.307692   \n",
       "3  ...         8      -4      0.5      0.5  0.333333  0.250000  0.444444   \n",
       "4  ...         6       1      0.0      0.0  0.000000  0.000000  0.333333   \n",
       "\n",
       "    onset_c  offset_p  offset_c  \n",
       "0  0.692308       0.0       0.0  \n",
       "1  0.750000       0.0       0.0  \n",
       "2  0.444444       0.0       0.0  \n",
       "3  0.307692       0.0       0.0  \n",
       "4  0.375000       0.0       0.0  \n",
       "\n",
       "[5 rows x 22 columns]"
      ]
     },
     "execution_count": 87,
     "metadata": {},
     "output_type": "execute_result"
    }
   ],
   "source": [
    "df.head()"
   ]
  },
  {
   "cell_type": "markdown",
   "metadata": {},
   "source": [
    "# Beginning Ending"
   ]
  },
  {
   "cell_type": "code",
   "execution_count": 88,
   "metadata": {},
   "outputs": [],
   "source": [
    "def beginend(words1, words2):\n",
    "    begins = []\n",
    "    ends = []\n",
    "\n",
    "    \n",
    "    for i in range(len(words1)):\n",
    "        if words2[i].startswith(words1[i]):\n",
    "            begins.append(1)\n",
    "        else:\n",
    "            begins.append(0)\n",
    "        \n",
    "        if words2[i].endswith(words1[i]):\n",
    "            ends.append(1)\n",
    "        else:\n",
    "            ends.append(0)\n",
    "\n",
    "        \n",
    "    return begins, ends"
   ]
  },
  {
   "cell_type": "code",
   "execution_count": 89,
   "metadata": {},
   "outputs": [],
   "source": [
    "df_traintest['begins'], df_traintest['ends'] = beginend(df_traintest['parent'], df_traintest['child'])"
   ]
  },
  {
   "cell_type": "code",
   "execution_count": 90,
   "metadata": {},
   "outputs": [],
   "source": [
    "df['begins'], df['ends'] = beginend(df['parent'], df['child'])"
   ]
  },
  {
   "cell_type": "code",
   "execution_count": 91,
   "metadata": {},
   "outputs": [],
   "source": [
    "df_tr_pref['begins'], df_tr_pref['ends'] = beginend(df_tr_pref['parent'], df_tr_pref['child'])"
   ]
  },
  {
   "cell_type": "code",
   "execution_count": 92,
   "metadata": {},
   "outputs": [],
   "source": [
    "df_pref['begins'], df_pref['ends'] = beginend(df_pref['parent'], df_pref['child'])"
   ]
  },
  {
   "cell_type": "markdown",
   "metadata": {},
   "source": [
    "# Target"
   ]
  },
  {
   "cell_type": "code",
   "execution_count": 93,
   "metadata": {},
   "outputs": [],
   "source": [
    "def targets(words1, words2, tixwords):\n",
    "    targets = []\n",
    "    for i in range(len(words1)):\n",
    "        w1 = words1[i]\n",
    "        w2 = words2[i]\n",
    "        if w2 in tixwords[w1]:\n",
    "            targets.append(1)\n",
    "        else:\n",
    "            targets.append(0)\n",
    "    return targets"
   ]
  },
  {
   "cell_type": "code",
   "execution_count": 94,
   "metadata": {},
   "outputs": [],
   "source": [
    "targets_traintest = targets(df_traintest['parent'], df_traintest['child'], tixwords)"
   ]
  },
  {
   "cell_type": "code",
   "execution_count": 95,
   "metadata": {},
   "outputs": [
    {
     "data": {
      "text/plain": [
       "25532"
      ]
     },
     "execution_count": 95,
     "metadata": {},
     "output_type": "execute_result"
    }
   ],
   "source": [
    "sum(targets_traintest)"
   ]
  },
  {
   "cell_type": "code",
   "execution_count": 96,
   "metadata": {},
   "outputs": [],
   "source": [
    "target_pref = targets(df_tr_pref['parent'], df_tr_pref['child'], tixwords)"
   ]
  },
  {
   "cell_type": "code",
   "execution_count": 97,
   "metadata": {},
   "outputs": [
    {
     "data": {
      "text/plain": [
       "34248"
      ]
     },
     "execution_count": 97,
     "metadata": {},
     "output_type": "execute_result"
    }
   ],
   "source": [
    "sum(target_pref)"
   ]
  },
  {
   "cell_type": "markdown",
   "metadata": {},
   "source": [
    "# No str"
   ]
  },
  {
   "cell_type": "code",
   "execution_count": 98,
   "metadata": {},
   "outputs": [],
   "source": [
    "df_traintest_clean = deepcopy(df_traintest)\n",
    "df_traintest_clean = df_traintest_clean.drop(columns=['parent', 'child', 'pos_p', 'pos_c'])"
   ]
  },
  {
   "cell_type": "code",
   "execution_count": 99,
   "metadata": {},
   "outputs": [],
   "source": [
    "df_clean = deepcopy(df)\n",
    "df_clean = df_clean.drop(columns=['parent', 'child', 'pos_p', 'pos_c'])"
   ]
  },
  {
   "cell_type": "code",
   "execution_count": 100,
   "metadata": {},
   "outputs": [],
   "source": [
    "df_tr_pref_clean = deepcopy(df_tr_pref)\n",
    "df_tr_pref_clean = df_tr_pref_clean.drop(columns=['parent', 'child', 'pos_p', 'pos_c'])"
   ]
  },
  {
   "cell_type": "code",
   "execution_count": 101,
   "metadata": {},
   "outputs": [],
   "source": [
    "df_pref_clean = deepcopy(df_pref)\n",
    "df_pref_clean = df_pref_clean.drop(columns=['parent', 'child', 'pos_p', 'pos_c'])"
   ]
  },
  {
   "cell_type": "markdown",
   "metadata": {},
   "source": [
    "# Logistic regression"
   ]
  },
  {
   "cell_type": "code",
   "execution_count": 102,
   "metadata": {},
   "outputs": [],
   "source": [
    "from sklearn.model_selection import train_test_split\n",
    "from sklearn.linear_model import LogisticRegression\n",
    "from sklearn.feature_extraction.text import CountVectorizer,TfidfVectorizer"
   ]
  },
  {
   "cell_type": "code",
   "execution_count": 103,
   "metadata": {},
   "outputs": [],
   "source": [
    "from sklearn.metrics import accuracy_score\n",
    "from sklearn.metrics import recall_score\n",
    "from sklearn.metrics import precision_score\n",
    "from sklearn.metrics import f1_score"
   ]
  },
  {
   "cell_type": "code",
   "execution_count": 104,
   "metadata": {},
   "outputs": [],
   "source": [
    "x_train, x_test, y_train, y_test = train_test_split(df_traintest_clean, targets_traintest, test_size=0.25, random_state = 123)"
   ]
  },
  {
   "cell_type": "code",
   "execution_count": 105,
   "metadata": {},
   "outputs": [],
   "source": [
    "LogReg1 = LogisticRegression(max_iter=1000)"
   ]
  },
  {
   "cell_type": "code",
   "execution_count": 106,
   "metadata": {},
   "outputs": [
    {
     "data": {
      "text/plain": [
       "LogisticRegression(C=1.0, class_weight=None, dual=False, fit_intercept=True,\n",
       "                   intercept_scaling=1, l1_ratio=None, max_iter=1000,\n",
       "                   multi_class='auto', n_jobs=None, penalty='l2',\n",
       "                   random_state=None, solver='lbfgs', tol=0.0001, verbose=0,\n",
       "                   warm_start=False)"
      ]
     },
     "execution_count": 106,
     "metadata": {},
     "output_type": "execute_result"
    }
   ],
   "source": [
    "LogReg1.fit(x_train, y_train)"
   ]
  },
  {
   "cell_type": "code",
   "execution_count": 107,
   "metadata": {},
   "outputs": [],
   "source": [
    "predictions = LogReg1.predict(x_test)"
   ]
  },
  {
   "cell_type": "code",
   "execution_count": 108,
   "metadata": {},
   "outputs": [
    {
     "name": "stdout",
     "output_type": "stream",
     "text": [
      "0.964805141509762\n"
     ]
    }
   ],
   "source": [
    "score = LogReg1.score(x_test, y_test)\n",
    "print(score)"
   ]
  },
  {
   "cell_type": "code",
   "execution_count": 109,
   "metadata": {},
   "outputs": [
    {
     "data": {
      "text/plain": [
       "0.7506464746645563"
      ]
     },
     "execution_count": 109,
     "metadata": {},
     "output_type": "execute_result"
    }
   ],
   "source": [
    "f1_score(LogReg1.predict(x_test), y_test, average='macro')"
   ]
  },
  {
   "cell_type": "markdown",
   "metadata": {},
   "source": [
    "big_batch"
   ]
  },
  {
   "cell_type": "code",
   "execution_count": 110,
   "metadata": {},
   "outputs": [],
   "source": [
    "x_train, x_test, y_train, y_test = train_test_split(df_tr_pref_clean, target_pref, test_size=0.25, random_state = 123)"
   ]
  },
  {
   "cell_type": "code",
   "execution_count": 111,
   "metadata": {},
   "outputs": [],
   "source": [
    "LogReg2 = LogisticRegression(max_iter=1000)"
   ]
  },
  {
   "cell_type": "code",
   "execution_count": 112,
   "metadata": {},
   "outputs": [
    {
     "data": {
      "text/plain": [
       "LogisticRegression(C=1.0, class_weight=None, dual=False, fit_intercept=True,\n",
       "                   intercept_scaling=1, l1_ratio=None, max_iter=1000,\n",
       "                   multi_class='auto', n_jobs=None, penalty='l2',\n",
       "                   random_state=None, solver='lbfgs', tol=0.0001, verbose=0,\n",
       "                   warm_start=False)"
      ]
     },
     "execution_count": 112,
     "metadata": {},
     "output_type": "execute_result"
    }
   ],
   "source": [
    "LogReg2.fit(x_train, y_train)"
   ]
  },
  {
   "cell_type": "code",
   "execution_count": 113,
   "metadata": {},
   "outputs": [],
   "source": [
    "predictions = LogReg2.predict(x_test)"
   ]
  },
  {
   "cell_type": "code",
   "execution_count": 114,
   "metadata": {},
   "outputs": [
    {
     "name": "stdout",
     "output_type": "stream",
     "text": [
      "0.9943686404289035\n"
     ]
    }
   ],
   "source": [
    "score = LogReg2.score(x_test, y_test)\n",
    "print(score)"
   ]
  },
  {
   "cell_type": "code",
   "execution_count": 115,
   "metadata": {},
   "outputs": [
    {
     "data": {
      "text/plain": [
       "0.6744373102475171"
      ]
     },
     "execution_count": 115,
     "metadata": {},
     "output_type": "execute_result"
    }
   ],
   "source": [
    "f1_score(LogReg2.predict(x_test), y_test, average='macro')"
   ]
  },
  {
   "cell_type": "markdown",
   "metadata": {},
   "source": [
    "# Decision Trees"
   ]
  },
  {
   "cell_type": "code",
   "execution_count": 116,
   "metadata": {},
   "outputs": [],
   "source": [
    "from sklearn.model_selection import train_test_split\n",
    "from sklearn.tree import DecisionTreeClassifier"
   ]
  },
  {
   "cell_type": "code",
   "execution_count": 117,
   "metadata": {},
   "outputs": [],
   "source": [
    "from sklearn.metrics import accuracy_score\n",
    "from sklearn.metrics import recall_score\n",
    "from sklearn.metrics import precision_score\n",
    "from sklearn.metrics import f1_score"
   ]
  },
  {
   "cell_type": "code",
   "execution_count": 118,
   "metadata": {},
   "outputs": [],
   "source": [
    "x_train, x_test, y_train, y_test = train_test_split(df_traintest_clean, targets_traintest, test_size=0.25, random_state = 123)"
   ]
  },
  {
   "cell_type": "code",
   "execution_count": 119,
   "metadata": {},
   "outputs": [],
   "source": [
    "DecTree1 = DecisionTreeClassifier()"
   ]
  },
  {
   "cell_type": "code",
   "execution_count": 120,
   "metadata": {},
   "outputs": [],
   "source": [
    "DecTree1 = DecTree1.fit(x_train,y_train)"
   ]
  },
  {
   "cell_type": "code",
   "execution_count": 121,
   "metadata": {},
   "outputs": [],
   "source": [
    "predictions = DecTree1.predict(x_test)"
   ]
  },
  {
   "cell_type": "code",
   "execution_count": 122,
   "metadata": {},
   "outputs": [
    {
     "name": "stdout",
     "output_type": "stream",
     "text": [
      "0.978013646702047\n"
     ]
    }
   ],
   "source": [
    "score = DecTree1.score(x_test, y_test)\n",
    "print(score)"
   ]
  },
  {
   "cell_type": "code",
   "execution_count": 123,
   "metadata": {},
   "outputs": [
    {
     "data": {
      "text/plain": [
       "0.8683863629597097"
      ]
     },
     "execution_count": 123,
     "metadata": {},
     "output_type": "execute_result"
    }
   ],
   "source": [
    "f1_score(DecTree1.predict(x_test), y_test, average='macro')"
   ]
  },
  {
   "cell_type": "code",
   "execution_count": 124,
   "metadata": {},
   "outputs": [
    {
     "name": "stdout",
     "output_type": "stream",
     "text": [
      "{'N_p': 0.027406295033060402, 'A_p': 0.007393191793432976, 'V_p': 0.008381076243878663, 'D_p': 0.04209557373533476, 'N_c': 0.015576465743005512, 'A_c': 0.016071811119497834, 'V_c': 0.0028191178543583656, 'D_c': 0.012595563005970773, 'lev_dist': 0.10711523958144711, 'length': 0.10780108972454334, 'roots_p': 0.013548861353212033, 'roots_c': 0.012816010236447597, 'morphs_p': 0.24475005810051442, 'morphs_c': 0.06746519506421521, 'onset_p': 0.1855205134466297, 'onset_c': 0.049547045793265035, 'offset_p': 0.02865511549193089, 'offset_c': 0.03051661157115196, 'begins': 0.0013732180181827715, 'ends': 0.0185519470899206}\n"
     ]
    }
   ],
   "source": [
    "print(dict(zip(df_clean.columns, DecTree1.feature_importances_)))"
   ]
  },
  {
   "cell_type": "markdown",
   "metadata": {},
   "source": [
    "big_batch"
   ]
  },
  {
   "cell_type": "code",
   "execution_count": 125,
   "metadata": {},
   "outputs": [],
   "source": [
    "x_train, x_test, y_train, y_test = train_test_split(df_tr_pref_clean, target_pref, test_size=0.25, random_state = 123)"
   ]
  },
  {
   "cell_type": "code",
   "execution_count": 126,
   "metadata": {},
   "outputs": [],
   "source": [
    "DecTree2 = DecisionTreeClassifier()"
   ]
  },
  {
   "cell_type": "code",
   "execution_count": 127,
   "metadata": {},
   "outputs": [],
   "source": [
    "DecTree2 = DecTree2.fit(x_train, y_train)"
   ]
  },
  {
   "cell_type": "code",
   "execution_count": 128,
   "metadata": {},
   "outputs": [],
   "source": [
    "predictions = DecTree2.predict(x_test)"
   ]
  },
  {
   "cell_type": "code",
   "execution_count": 129,
   "metadata": {},
   "outputs": [
    {
     "name": "stdout",
     "output_type": "stream",
     "text": [
      "0.9961969389752668\n"
     ]
    }
   ],
   "source": [
    "score = DecTree2.score(x_test, y_test)\n",
    "print(score)"
   ]
  },
  {
   "cell_type": "code",
   "execution_count": 130,
   "metadata": {},
   "outputs": [
    {
     "data": {
      "text/plain": [
       "0.8318536469408251"
      ]
     },
     "execution_count": 130,
     "metadata": {},
     "output_type": "execute_result"
    }
   ],
   "source": [
    "f1_score(DecTree2.predict(x_test), y_test, average='macro')"
   ]
  },
  {
   "cell_type": "code",
   "execution_count": 131,
   "metadata": {},
   "outputs": [
    {
     "name": "stdout",
     "output_type": "stream",
     "text": [
      "{'N_p': 0.027232367882426597, 'A_p': 0.01746693849883254, 'V_p': 0.013956740627714145, 'D_p': 0.0374089875464652, 'N_c': 0.018183994732135292, 'A_c': 0.015497397576684509, 'V_c': 0.0032507944332004733, 'D_c': 0.01766120730043345, 'lev_dist': 0.11658001999895526, 'length': 0.07741638712974011, 'roots_p': 0.008443816150537796, 'roots_c': 0.025279406725516835, 'morphs_p': 0.24098549983051132, 'morphs_c': 0.08542263417183896, 'onset_p': 0.15744701995226965, 'onset_c': 0.06168889720577041, 'offset_p': 0.041086438957952776, 'offset_c': 0.032101316264872996, 'begins': 0.0009677281838035888, 'ends': 0.0019224068303383642}\n"
     ]
    }
   ],
   "source": [
    "print(dict(zip(df_clean.columns, DecTree2.feature_importances_)))"
   ]
  },
  {
   "cell_type": "markdown",
   "metadata": {},
   "source": [
    "# Save data"
   ]
  },
  {
   "cell_type": "code",
   "execution_count": 132,
   "metadata": {},
   "outputs": [],
   "source": [
    "df_traintest['predictions_LogReg'] = LogReg1.predict(df_traintest_clean)"
   ]
  },
  {
   "cell_type": "code",
   "execution_count": 133,
   "metadata": {},
   "outputs": [],
   "source": [
    "df['predictions_LogReg'] = LogReg1.predict(df_clean)"
   ]
  },
  {
   "cell_type": "code",
   "execution_count": 134,
   "metadata": {},
   "outputs": [],
   "source": [
    "df_tr_pref['predictions_LogReg'] = LogReg2.predict(df_tr_pref_clean)"
   ]
  },
  {
   "cell_type": "code",
   "execution_count": 135,
   "metadata": {},
   "outputs": [],
   "source": [
    "df_pref['predictions_LogReg'] = LogReg2.predict(df_pref_clean)"
   ]
  },
  {
   "cell_type": "code",
   "execution_count": 136,
   "metadata": {},
   "outputs": [],
   "source": [
    "df_traintest['predictions_DecTree'] = DecTree1.predict(df_traintest_clean)"
   ]
  },
  {
   "cell_type": "code",
   "execution_count": 137,
   "metadata": {},
   "outputs": [],
   "source": [
    "df['predictions_DecTree'] = DecTree1.predict(df_clean)"
   ]
  },
  {
   "cell_type": "code",
   "execution_count": 138,
   "metadata": {},
   "outputs": [],
   "source": [
    "df_tr_pref['predictions_DecTree'] = DecTree2.predict(df_tr_pref_clean)"
   ]
  },
  {
   "cell_type": "code",
   "execution_count": 139,
   "metadata": {},
   "outputs": [],
   "source": [
    "df_pref['predictions_DecTree'] = DecTree2.predict(df_pref_clean)"
   ]
  },
  {
   "cell_type": "code",
   "execution_count": 140,
   "metadata": {},
   "outputs": [],
   "source": [
    "df_traintest.to_csv('df_traintest.csv', encoding='utf-8')"
   ]
  },
  {
   "cell_type": "code",
   "execution_count": 141,
   "metadata": {},
   "outputs": [],
   "source": [
    "df.to_csv('df.csv', encoding='utf-8')"
   ]
  },
  {
   "cell_type": "code",
   "execution_count": 142,
   "metadata": {},
   "outputs": [],
   "source": [
    "df_tr_pref.to_csv('df_tr_pref.csv', encoding='utf-8')"
   ]
  },
  {
   "cell_type": "code",
   "execution_count": 143,
   "metadata": {},
   "outputs": [],
   "source": [
    "df_pref.to_csv('df_pref.csv', encoding='utf-8')"
   ]
  },
  {
   "cell_type": "markdown",
   "metadata": {},
   "source": [
    "# Get parent_child pairs"
   ]
  },
  {
   "cell_type": "code",
   "execution_count": 145,
   "metadata": {},
   "outputs": [
    {
     "data": {
      "text/plain": [
       "35763"
      ]
     },
     "execution_count": 145,
     "metadata": {},
     "output_type": "execute_result"
    }
   ],
   "source": [
    "pp_pairs = []\n",
    "for parent in tixwords:\n",
    "    for child in tixwords[parent]:\n",
    "        if [parent, child] not in pp_pairs:\n",
    "            pp_pairs.append([parent, child])\n",
    "len(pp_pairs)"
   ]
  },
  {
   "cell_type": "markdown",
   "metadata": {},
   "source": [
    "consequent"
   ]
  },
  {
   "cell_type": "code",
   "execution_count": 146,
   "metadata": {},
   "outputs": [],
   "source": [
    "df1 = deepcopy(df)\n",
    "df1 = df1.drop(columns=['onset_p', 'onset_c', 'offset_p', 'offset_c', 'roots_p', 'roots_c', 'morphs_p', 'morphs_c', 'lev_dist', 'length', 'N_p', 'A_p', 'V_p', 'D_p', 'N_c', 'A_c', 'V_c', 'D_c', 'begins', 'ends'])"
   ]
  },
  {
   "cell_type": "code",
   "execution_count": 147,
   "metadata": {},
   "outputs": [],
   "source": [
    "df1 = df1[df1.predictions_DecTree == 1] "
   ]
  },
  {
   "cell_type": "code",
   "execution_count": 148,
   "metadata": {},
   "outputs": [
    {
     "data": {
      "text/html": [
       "<div>\n",
       "<style scoped>\n",
       "    .dataframe tbody tr th:only-of-type {\n",
       "        vertical-align: middle;\n",
       "    }\n",
       "\n",
       "    .dataframe tbody tr th {\n",
       "        vertical-align: top;\n",
       "    }\n",
       "\n",
       "    .dataframe thead th {\n",
       "        text-align: right;\n",
       "    }\n",
       "</style>\n",
       "<table border=\"1\" class=\"dataframe\">\n",
       "  <thead>\n",
       "    <tr style=\"text-align: right;\">\n",
       "      <th></th>\n",
       "      <th>parent</th>\n",
       "      <th>child</th>\n",
       "      <th>pos_p</th>\n",
       "      <th>pos_c</th>\n",
       "      <th>predictions_LogReg</th>\n",
       "      <th>predictions_DecTree</th>\n",
       "    </tr>\n",
       "  </thead>\n",
       "  <tbody>\n",
       "    <tr>\n",
       "      <th>9</th>\n",
       "      <td>авось</td>\n",
       "      <td>авоська</td>\n",
       "      <td>D</td>\n",
       "      <td>N</td>\n",
       "      <td>0</td>\n",
       "      <td>1</td>\n",
       "    </tr>\n",
       "    <tr>\n",
       "      <th>39</th>\n",
       "      <td>автократия</td>\n",
       "      <td>автократический</td>\n",
       "      <td>N</td>\n",
       "      <td>A</td>\n",
       "      <td>0</td>\n",
       "      <td>1</td>\n",
       "    </tr>\n",
       "    <tr>\n",
       "      <th>41</th>\n",
       "      <td>автократ</td>\n",
       "      <td>автократия</td>\n",
       "      <td>N</td>\n",
       "      <td>N</td>\n",
       "      <td>1</td>\n",
       "      <td>1</td>\n",
       "    </tr>\n",
       "    <tr>\n",
       "      <th>71</th>\n",
       "      <td>автотипия</td>\n",
       "      <td>автотипический</td>\n",
       "      <td>N</td>\n",
       "      <td>A</td>\n",
       "      <td>0</td>\n",
       "      <td>1</td>\n",
       "    </tr>\n",
       "    <tr>\n",
       "      <th>81</th>\n",
       "      <td>автохром</td>\n",
       "      <td>автохромный</td>\n",
       "      <td>N</td>\n",
       "      <td>A</td>\n",
       "      <td>1</td>\n",
       "      <td>1</td>\n",
       "    </tr>\n",
       "  </tbody>\n",
       "</table>\n",
       "</div>"
      ],
      "text/plain": [
       "        parent            child pos_p pos_c  predictions_LogReg  \\\n",
       "9        авось          авоська     D     N                   0   \n",
       "39  автократия  автократический     N     A                   0   \n",
       "41    автократ       автократия     N     N                   1   \n",
       "71   автотипия   автотипический     N     A                   0   \n",
       "81    автохром      автохромный     N     A                   1   \n",
       "\n",
       "    predictions_DecTree  \n",
       "9                     1  \n",
       "39                    1  \n",
       "41                    1  \n",
       "71                    1  \n",
       "81                    1  "
      ]
     },
     "execution_count": 148,
     "metadata": {},
     "output_type": "execute_result"
    }
   ],
   "source": [
    "df1.head()"
   ]
  },
  {
   "cell_type": "code",
   "execution_count": 149,
   "metadata": {},
   "outputs": [],
   "source": [
    "parents1 = df1['parent'].tolist()\n",
    "children1 = df1['child'].tolist()\n",
    "poses_p1 = df1['pos_p'].tolist()\n",
    "poses_c1 = df1['pos_c'].tolist()"
   ]
  },
  {
   "cell_type": "code",
   "execution_count": 150,
   "metadata": {},
   "outputs": [],
   "source": [
    "parents_kuz1 = []\n",
    "children_kuz1 = []\n",
    "poses_p_kuz1 = []\n",
    "poses_c_kuz1 = []\n",
    "for i in range(len(parents1)):\n",
    "    if [parents1[i], children1[i]] not in pp_pairs:\n",
    "        parents_kuz1.append(parents1[i])\n",
    "        children_kuz1.append(children1[i])\n",
    "        poses_p_kuz1.append(poses_p1[i])\n",
    "        poses_c_kuz1.append(poses_c1[i])"
   ]
  },
  {
   "cell_type": "code",
   "execution_count": 151,
   "metadata": {},
   "outputs": [
    {
     "data": {
      "text/plain": [
       "35676"
      ]
     },
     "execution_count": 151,
     "metadata": {},
     "output_type": "execute_result"
    }
   ],
   "source": [
    "len(parents_kuz1)"
   ]
  },
  {
   "cell_type": "code",
   "execution_count": 152,
   "metadata": {},
   "outputs": [],
   "source": [
    "poses_p_norm1 = poses_p_kuz1\n",
    "poses_c_norm1 = poses_c_kuz1"
   ]
  },
  {
   "cell_type": "markdown",
   "metadata": {},
   "source": [
    "remoted"
   ]
  },
  {
   "cell_type": "code",
   "execution_count": 153,
   "metadata": {},
   "outputs": [],
   "source": [
    "df2 = deepcopy(df_pref)\n",
    "df2 = df2.drop(columns=['onset_p', 'onset_c', 'offset_p', 'offset_c', 'roots_p', 'roots_c', 'morphs_p', 'morphs_c', 'lev_dist', 'length', 'N_p', 'A_p', 'V_p', 'D_p', 'N_c', 'A_c', 'V_c', 'D_c', 'begins', 'ends'])"
   ]
  },
  {
   "cell_type": "code",
   "execution_count": 154,
   "metadata": {},
   "outputs": [],
   "source": [
    "df2 = df2[df2.predictions_DecTree == 1]"
   ]
  },
  {
   "cell_type": "code",
   "execution_count": 155,
   "metadata": {},
   "outputs": [
    {
     "data": {
      "text/html": [
       "<div>\n",
       "<style scoped>\n",
       "    .dataframe tbody tr th:only-of-type {\n",
       "        vertical-align: middle;\n",
       "    }\n",
       "\n",
       "    .dataframe tbody tr th {\n",
       "        vertical-align: top;\n",
       "    }\n",
       "\n",
       "    .dataframe thead th {\n",
       "        text-align: right;\n",
       "    }\n",
       "</style>\n",
       "<table border=\"1\" class=\"dataframe\">\n",
       "  <thead>\n",
       "    <tr style=\"text-align: right;\">\n",
       "      <th></th>\n",
       "      <th>parent</th>\n",
       "      <th>child</th>\n",
       "      <th>pos_p</th>\n",
       "      <th>pos_c</th>\n",
       "      <th>predictions_LogReg</th>\n",
       "      <th>predictions_DecTree</th>\n",
       "    </tr>\n",
       "  </thead>\n",
       "  <tbody>\n",
       "    <tr>\n",
       "      <th>0</th>\n",
       "      <td>август</td>\n",
       "      <td>августовский</td>\n",
       "      <td>N</td>\n",
       "      <td>A</td>\n",
       "      <td>0</td>\n",
       "      <td>1</td>\n",
       "    </tr>\n",
       "    <tr>\n",
       "      <th>71</th>\n",
       "      <td>авось</td>\n",
       "      <td>авоська</td>\n",
       "      <td>D</td>\n",
       "      <td>N</td>\n",
       "      <td>0</td>\n",
       "      <td>1</td>\n",
       "    </tr>\n",
       "    <tr>\n",
       "      <th>1110</th>\n",
       "      <td>грузовой</td>\n",
       "      <td>автогрузовой</td>\n",
       "      <td>A</td>\n",
       "      <td>A</td>\n",
       "      <td>1</td>\n",
       "      <td>1</td>\n",
       "    </tr>\n",
       "    <tr>\n",
       "      <th>1113</th>\n",
       "      <td>груз</td>\n",
       "      <td>автогрузовой</td>\n",
       "      <td>N</td>\n",
       "      <td>A</td>\n",
       "      <td>0</td>\n",
       "      <td>1</td>\n",
       "    </tr>\n",
       "    <tr>\n",
       "      <th>1264</th>\n",
       "      <td>гуж</td>\n",
       "      <td>автогужевой</td>\n",
       "      <td>N</td>\n",
       "      <td>A</td>\n",
       "      <td>0</td>\n",
       "      <td>1</td>\n",
       "    </tr>\n",
       "  </tbody>\n",
       "</table>\n",
       "</div>"
      ],
      "text/plain": [
       "        parent         child pos_p pos_c  predictions_LogReg  \\\n",
       "0       август  августовский     N     A                   0   \n",
       "71       авось       авоська     D     N                   0   \n",
       "1110  грузовой  автогрузовой     A     A                   1   \n",
       "1113      груз  автогрузовой     N     A                   0   \n",
       "1264       гуж   автогужевой     N     A                   0   \n",
       "\n",
       "      predictions_DecTree  \n",
       "0                       1  \n",
       "71                      1  \n",
       "1110                    1  \n",
       "1113                    1  \n",
       "1264                    1  "
      ]
     },
     "execution_count": 155,
     "metadata": {},
     "output_type": "execute_result"
    }
   ],
   "source": [
    "df2.head()"
   ]
  },
  {
   "cell_type": "code",
   "execution_count": 156,
   "metadata": {},
   "outputs": [],
   "source": [
    "parents2 = df2['parent'].tolist()\n",
    "children2 = df2['child'].tolist()\n",
    "poses_p2 = df2['pos_p'].tolist()\n",
    "poses_c2 = df2['pos_c'].tolist()"
   ]
  },
  {
   "cell_type": "code",
   "execution_count": 157,
   "metadata": {},
   "outputs": [],
   "source": [
    "parents_kuz2 = []\n",
    "children_kuz2 = []\n",
    "poses_p_kuz2 = []\n",
    "poses_c_kuz2 = []\n",
    "for i in range(len(parents2)):\n",
    "    if [parents2[i], children2[i]] not in pp_pairs:\n",
    "        parents_kuz2.append(parents2[i])\n",
    "        children_kuz2.append(children2[i])\n",
    "        poses_p_kuz2.append(poses_p2[i])\n",
    "        poses_c_kuz2.append(poses_c2[i])"
   ]
  },
  {
   "cell_type": "code",
   "execution_count": 158,
   "metadata": {},
   "outputs": [
    {
     "data": {
      "text/plain": [
       "38079"
      ]
     },
     "execution_count": 158,
     "metadata": {},
     "output_type": "execute_result"
    }
   ],
   "source": [
    "len(parents_kuz2)"
   ]
  },
  {
   "cell_type": "code",
   "execution_count": 159,
   "metadata": {},
   "outputs": [],
   "source": [
    "poses_p_norm2 = poses_p_kuz2\n",
    "poses_c_norm2 = poses_c_kuz2"
   ]
  },
  {
   "cell_type": "markdown",
   "metadata": {},
   "source": [
    "unite"
   ]
  },
  {
   "cell_type": "code",
   "execution_count": 160,
   "metadata": {},
   "outputs": [
    {
     "data": {
      "text/plain": [
       "35676"
      ]
     },
     "execution_count": 160,
     "metadata": {},
     "output_type": "execute_result"
    }
   ],
   "source": [
    "len(parents_kuz1)"
   ]
  },
  {
   "cell_type": "code",
   "execution_count": 161,
   "metadata": {},
   "outputs": [],
   "source": [
    "pc_sets = []\n",
    "for i in range(len(parents_kuz1)):\n",
    "    set1 = [parents_kuz1[i], children_kuz1[i], poses_p_norm1[i], poses_c_norm1[i]]\n",
    "    if set1 not in pc_sets:\n",
    "        pc_sets.append(set1)"
   ]
  },
  {
   "cell_type": "code",
   "execution_count": 162,
   "metadata": {},
   "outputs": [
    {
     "data": {
      "text/plain": [
       "35676"
      ]
     },
     "execution_count": 162,
     "metadata": {},
     "output_type": "execute_result"
    }
   ],
   "source": [
    "len(pc_sets)"
   ]
  },
  {
   "cell_type": "code",
   "execution_count": 163,
   "metadata": {},
   "outputs": [],
   "source": [
    "for i in range(len(parents_kuz2)):\n",
    "    set2 = [parents_kuz2[i], children_kuz2[i], poses_p_norm2[i], poses_c_norm2[i]]\n",
    "    if set2 not in pc_sets:\n",
    "        pc_sets.append(set2)"
   ]
  },
  {
   "cell_type": "code",
   "execution_count": 164,
   "metadata": {},
   "outputs": [
    {
     "data": {
      "text/plain": [
       "57688"
      ]
     },
     "execution_count": 164,
     "metadata": {},
     "output_type": "execute_result"
    }
   ],
   "source": [
    "len(pc_sets)"
   ]
  },
  {
   "cell_type": "code",
   "execution_count": 165,
   "metadata": {},
   "outputs": [],
   "source": [
    "df_all = pd.DataFrame(pc_sets)"
   ]
  },
  {
   "cell_type": "code",
   "execution_count": 166,
   "metadata": {},
   "outputs": [],
   "source": [
    "df_all.columns = ['parent', 'child', 'pos_p', 'pos_c']"
   ]
  },
  {
   "cell_type": "code",
   "execution_count": 167,
   "metadata": {},
   "outputs": [
    {
     "data": {
      "text/html": [
       "<div>\n",
       "<style scoped>\n",
       "    .dataframe tbody tr th:only-of-type {\n",
       "        vertical-align: middle;\n",
       "    }\n",
       "\n",
       "    .dataframe tbody tr th {\n",
       "        vertical-align: top;\n",
       "    }\n",
       "\n",
       "    .dataframe thead th {\n",
       "        text-align: right;\n",
       "    }\n",
       "</style>\n",
       "<table border=\"1\" class=\"dataframe\">\n",
       "  <thead>\n",
       "    <tr style=\"text-align: right;\">\n",
       "      <th></th>\n",
       "      <th>parent</th>\n",
       "      <th>child</th>\n",
       "      <th>pos_p</th>\n",
       "      <th>pos_c</th>\n",
       "    </tr>\n",
       "  </thead>\n",
       "  <tbody>\n",
       "    <tr>\n",
       "      <th>0</th>\n",
       "      <td>авось</td>\n",
       "      <td>авоська</td>\n",
       "      <td>D</td>\n",
       "      <td>N</td>\n",
       "    </tr>\n",
       "    <tr>\n",
       "      <th>1</th>\n",
       "      <td>автократия</td>\n",
       "      <td>автократический</td>\n",
       "      <td>N</td>\n",
       "      <td>A</td>\n",
       "    </tr>\n",
       "    <tr>\n",
       "      <th>2</th>\n",
       "      <td>автократ</td>\n",
       "      <td>автократия</td>\n",
       "      <td>N</td>\n",
       "      <td>N</td>\n",
       "    </tr>\n",
       "    <tr>\n",
       "      <th>3</th>\n",
       "      <td>автотипия</td>\n",
       "      <td>автотипический</td>\n",
       "      <td>N</td>\n",
       "      <td>A</td>\n",
       "    </tr>\n",
       "    <tr>\n",
       "      <th>4</th>\n",
       "      <td>автохром</td>\n",
       "      <td>автохромный</td>\n",
       "      <td>N</td>\n",
       "      <td>A</td>\n",
       "    </tr>\n",
       "  </tbody>\n",
       "</table>\n",
       "</div>"
      ],
      "text/plain": [
       "       parent            child pos_p pos_c\n",
       "0       авось          авоська     D     N\n",
       "1  автократия  автократический     N     A\n",
       "2    автократ       автократия     N     N\n",
       "3   автотипия   автотипический     N     A\n",
       "4    автохром      автохромный     N     A"
      ]
     },
     "execution_count": 167,
     "metadata": {},
     "output_type": "execute_result"
    }
   ],
   "source": [
    "df_all.head()"
   ]
  },
  {
   "cell_type": "code",
   "execution_count": 168,
   "metadata": {},
   "outputs": [],
   "source": [
    "df_all.to_csv('final_pairs.csv', encoding='utf-8')"
   ]
  },
  {
   "cell_type": "markdown",
   "metadata": {},
   "source": [
    "# Run again on all the words that didn't go into the first set"
   ]
  },
  {
   "cell_type": "markdown",
   "metadata": {},
   "source": [
    "find all words that haven't found children or parents yet"
   ]
  },
  {
   "cell_type": "code",
   "execution_count": 169,
   "metadata": {},
   "outputs": [],
   "source": [
    "parents = {}\n",
    "for index, row in df_all.iterrows():\n",
    "    parent = row['parent'].replace('ё', 'е')\n",
    "    child = row['child'].replace('ё', 'е')\n",
    "    if child not in parents:\n",
    "        parents[child] = [parent]\n",
    "    elif parent not in parents[child]:\n",
    "        parents[child].append(parent)"
   ]
  },
  {
   "cell_type": "code",
   "execution_count": 170,
   "metadata": {},
   "outputs": [],
   "source": [
    "bad_parents = []\n",
    "clean_parents = {}"
   ]
  },
  {
   "cell_type": "code",
   "execution_count": 171,
   "metadata": {},
   "outputs": [],
   "source": [
    "old_length = 0\n",
    "new_length = 1\n",
    "while new_length > old_length:\n",
    "    old_length = new_length\n",
    "    for child in parents:\n",
    "        if len(parents[child]) > 1:\n",
    "            same_roots = []\n",
    "            max_derivs = []\n",
    "            begins = []\n",
    "            ends = []\n",
    "\n",
    "            for parent in parents[child]:\n",
    "                # if possible, leave only the parents with the same rooot as the child\n",
    "                same_roots.append(len(set(kuzwords[parent][1]) & set(kuzwords[child][1])))\n",
    "\n",
    "\n",
    "                # if possible, leave the most derived parents to avoid multiple loops\n",
    "                max_deriv = 1\n",
    "                for other_parent in parents[child]:\n",
    "                    if other_parent != parent and other_parent in parents and not parent in parents:\n",
    "                        if parent in parents[other_parent]:\n",
    "                                max_deriv = 0\n",
    "                    elif other_parent != parent and other_parent in parents:\n",
    "                        if parent in parents[other_parent] and not other_parent in parents[parent]:\n",
    "                                max_deriv = 0\n",
    "                max_derivs.append(max_deriv)\n",
    "\n",
    "\n",
    "                # if possible prefer to have parents that are beginnings and endings of children\n",
    "                if child.startswith(parent):\n",
    "                    begins.append(1)\n",
    "                else:\n",
    "                    begins.append(0)\n",
    "                if child.endswith(parent):\n",
    "                    ends.append(1)\n",
    "                else:\n",
    "                    ends.append(0)\n",
    "\n",
    "\n",
    "            # get rid of outlandish roots\n",
    "            new_parents = copy(parents[child])\n",
    "            newer_parents = copy(parents[child])\n",
    "            if sum(same_roots) > 0 and sum(same_roots)/len(same_roots) < max(same_roots):\n",
    "                to_pop = []\n",
    "                for i, same in enumerate(same_roots):\n",
    "                    if same < max(same_roots):\n",
    "                        to_pop.append(i)\n",
    "                        if [new_parents[i], child] not in bad_parents:\n",
    "                            bad_parents.append([new_parents[i].replace('ё', 'е'), child.replace('ё', 'е')])\n",
    "                to_pop = to_pop[::-1]\n",
    "                for i in to_pop:\n",
    "                    same_roots.pop(i)\n",
    "                    newer_parents.pop(i)\n",
    "                    max_derivs.pop(i)\n",
    "                    begins.pop(i)\n",
    "                    ends.pop(i)\n",
    "            new_parents = copy(newer_parents)\n",
    "\n",
    "\n",
    "            # get rid of least derived\n",
    "            if 1 in max_derivs and 0 in max_derivs:\n",
    "                to_pop = []\n",
    "                for i, deriv in enumerate(max_derivs):\n",
    "                    if deriv == 0:\n",
    "                        if [new_parents[i], child] not in bad_parents:\n",
    "                            bad_parents.append([new_parents[i].replace('ё', 'е'), child.replace('ё', 'е')])\n",
    "                        to_pop.append(i)\n",
    "                to_pop = to_pop[::-1]\n",
    "                for i in to_pop:\n",
    "                    same_roots.pop(i)\n",
    "                    newer_parents.pop(i)\n",
    "                    max_derivs.pop(i)\n",
    "                    begins.pop(i)\n",
    "                    ends.pop(i)\n",
    "            new_parents = copy(newer_parents)\n",
    "\n",
    "\n",
    "            #get rid of not beginnings\n",
    "            if 1 in begins and 0 in begins:\n",
    "                to_pop = []\n",
    "                for i, begin in enumerate(begins):\n",
    "                    if begin == 0:\n",
    "                        if [new_parents[i], child] not in bad_parents:\n",
    "                            bad_parents.append([new_parents[i].replace('ё', 'е'), child.replace('ё', 'е')])\n",
    "                        to_pop.append(i)\n",
    "                to_pop = to_pop[::-1]\n",
    "                for i in to_pop:\n",
    "                    same_roots.pop(i)\n",
    "                    newer_parents.pop(i)\n",
    "                    max_derivs.pop(i)\n",
    "                    begins.pop(i)\n",
    "                    ends.pop(i)\n",
    "            new_parents = copy(newer_parents)\n",
    "\n",
    "\n",
    "            #get rid of not endings\n",
    "            if 1 in ends and 0 in ends:\n",
    "                to_pop = []\n",
    "                for i, end in enumerate(ends):\n",
    "                    if end == 0:\n",
    "                        if [new_parents[i], child] not in bad_parents:\n",
    "                            bad_parents.append([new_parents[i].replace('ё', 'е'), child.replace('ё', 'е')])\n",
    "                        to_pop.append(i)\n",
    "                to_pop = to_pop[::-1]\n",
    "                for i in to_pop:\n",
    "                    same_roots.pop(i)\n",
    "                    newer_parents.pop(i)\n",
    "                    max_derivs.pop(i)\n",
    "                    begins.pop(i)\n",
    "                    ends.pop(i)\n",
    "            new_parents = copy(newer_parents)\n",
    "\n",
    "\n",
    "            clean_parents[child] = new_parents\n",
    "    parents = clean_parents\n",
    "    new_length = len(bad_parents)"
   ]
  },
  {
   "cell_type": "code",
   "execution_count": 172,
   "metadata": {},
   "outputs": [
    {
     "name": "stdout",
     "output_type": "stream",
     "text": [
      "20175\n",
      "35943\n"
     ]
    }
   ],
   "source": [
    "df_all_parents = []\n",
    "df_all_children = []\n",
    "for index, row in df_all.iterrows():\n",
    "    parent = row['parent'].replace('ё', 'е')\n",
    "    child = row['child'].replace('ё', 'е')\n",
    "    if [parent, child] not in bad_parents:\n",
    "        if parent not in df_all_parents:\n",
    "            df_all_parents.append(parent)\n",
    "        if child not in df_all_children:\n",
    "            df_all_children.append(child)\n",
    "print(len(df_all_parents))\n",
    "print(len(df_all_children))"
   ]
  },
  {
   "cell_type": "code",
   "execution_count": 173,
   "metadata": {},
   "outputs": [
    {
     "name": "stdout",
     "output_type": "stream",
     "text": [
      "5553\n",
      "38588\n"
     ]
    }
   ],
   "source": [
    "not_ins = []\n",
    "not_tixs = []\n",
    "for w in kuzwords:\n",
    "    if w not in tixwords:\n",
    "        not_tixs.append(w)\n",
    "        if w not in df_all_parents and w not in df_all_children:\n",
    "            if w not in not_ins:\n",
    "                not_ins.append(w)\n",
    "print(len(not_ins))\n",
    "print(len(not_tixs))"
   ]
  },
  {
   "cell_type": "code",
   "execution_count": 174,
   "metadata": {},
   "outputs": [
    {
     "data": {
      "text/plain": [
       "5553"
      ]
     },
     "execution_count": 174,
     "metadata": {},
     "output_type": "execute_result"
    }
   ],
   "source": [
    "for w in not_ins:\n",
    "    if kuzwords[w][2] not in ['S', 'A', 'D', 'V', 'ANUM', 'APRO', 'NUM', 'SPRO', 'ADV', 'ADVPRO', 'N']:\n",
    "        not_ins.remove(w)\n",
    "len(not_ins)"
   ]
  },
  {
   "cell_type": "code",
   "execution_count": 175,
   "metadata": {},
   "outputs": [
    {
     "name": "stdout",
     "output_type": "stream",
     "text": [
      "0\n",
      "500\n",
      "1000\n",
      "1500\n",
      "2000\n",
      "2500\n",
      "3000\n",
      "3500\n",
      "4000\n",
      "4500\n",
      "5000\n",
      "5500\n"
     ]
    }
   ],
   "source": [
    "pairs = []\n",
    "for i, w1 in enumerate(not_ins):\n",
    "    if i %500 == 0:\n",
    "        print(i)\n",
    "    roots1 = kuzwords[w1][1]\n",
    "    for w2 in kuzwords:\n",
    "        roots2 = kuzwords[w2][1]\n",
    "        if w1 != w2:\n",
    "            t = False\n",
    "            if set(roots1) & set(roots2):\n",
    "                t = True\n",
    "            elif set(root_groups[w1]) & set(root_groups[w2]):\n",
    "                t = True\n",
    "            else:\n",
    "                for r1 in roots1:\n",
    "                    if r1 + 'ь' in roots2 or r1.replace('ё', 'е') in roots2:\n",
    "                        t = True\n",
    "                for r2 in roots2 or r2.replace('ё', 'е') in roots1:\n",
    "                    if r2 + 'ь' in roots1:\n",
    "                        t = True\n",
    "            if t == True:\n",
    "                pairs.append([w2, w1, kuzwords[w2][2], kuzwords[w1][2]])\n",
    "                if w1 in doublers:\n",
    "                    pairs.append([w2, w1, kuzwords[w2][2], doublers[w1]])\n",
    "                if w2 in doublers:\n",
    "                    pairs.append([w2, w1, doublers[w2], kuzwords[w1][2]])\n",
    "                if w1 in doublers and w2 in doublers:\n",
    "                    pairs.append([w2, w1, doublers[w2], doublers[w1]])\n",
    "                    \n",
    "                pairs.append([w1, w2, kuzwords[w1][2], kuzwords[w2][2]])\n",
    "                if w1 in doublers:\n",
    "                    pairs.append([w1, w2, doublers[w1], kuzwords[w2][2]])\n",
    "                if w2 in doublers:\n",
    "                    pairs.append([w1, w2, kuzwords[w1][2], doublers[w2]])\n",
    "                if w1 in doublers and w2 in doublers:\n",
    "                    pairs.append([w1, w2, doublers[w1], doublers[w2]])"
   ]
  },
  {
   "cell_type": "code",
   "execution_count": 176,
   "metadata": {},
   "outputs": [
    {
     "data": {
      "text/html": [
       "<div>\n",
       "<style scoped>\n",
       "    .dataframe tbody tr th:only-of-type {\n",
       "        vertical-align: middle;\n",
       "    }\n",
       "\n",
       "    .dataframe tbody tr th {\n",
       "        vertical-align: top;\n",
       "    }\n",
       "\n",
       "    .dataframe thead th {\n",
       "        text-align: right;\n",
       "    }\n",
       "</style>\n",
       "<table border=\"1\" class=\"dataframe\">\n",
       "  <thead>\n",
       "    <tr style=\"text-align: right;\">\n",
       "      <th></th>\n",
       "      <th>parent</th>\n",
       "      <th>child</th>\n",
       "      <th>pos_p</th>\n",
       "      <th>pos_c</th>\n",
       "    </tr>\n",
       "  </thead>\n",
       "  <tbody>\n",
       "    <tr>\n",
       "      <th>0</th>\n",
       "      <td>авиамодельный</td>\n",
       "      <td>авиамоделист</td>\n",
       "      <td>A</td>\n",
       "      <td>N</td>\n",
       "    </tr>\n",
       "    <tr>\n",
       "      <th>1</th>\n",
       "      <td>авиамоделист</td>\n",
       "      <td>авиамодельный</td>\n",
       "      <td>N</td>\n",
       "      <td>A</td>\n",
       "    </tr>\n",
       "    <tr>\n",
       "      <th>2</th>\n",
       "      <td>авиамоторный</td>\n",
       "      <td>авиамоделист</td>\n",
       "      <td>A</td>\n",
       "      <td>N</td>\n",
       "    </tr>\n",
       "    <tr>\n",
       "      <th>3</th>\n",
       "      <td>авиамоделист</td>\n",
       "      <td>авиамоторный</td>\n",
       "      <td>N</td>\n",
       "      <td>A</td>\n",
       "    </tr>\n",
       "    <tr>\n",
       "      <th>4</th>\n",
       "      <td>авиасвязь</td>\n",
       "      <td>авиамоделист</td>\n",
       "      <td>N</td>\n",
       "      <td>N</td>\n",
       "    </tr>\n",
       "  </tbody>\n",
       "</table>\n",
       "</div>"
      ],
      "text/plain": [
       "          parent          child pos_p pos_c\n",
       "0  авиамодельный   авиамоделист     A     N\n",
       "1   авиамоделист  авиамодельный     N     A\n",
       "2   авиамоторный   авиамоделист     A     N\n",
       "3   авиамоделист   авиамоторный     N     A\n",
       "4      авиасвязь   авиамоделист     N     N"
      ]
     },
     "execution_count": 176,
     "metadata": {},
     "output_type": "execute_result"
    }
   ],
   "source": [
    "df_not_ins = pd.DataFrame(pairs, columns=['parent', 'child', 'pos_p', 'pos_c'])\n",
    "df_not_ins.head()"
   ]
  },
  {
   "cell_type": "code",
   "execution_count": 177,
   "metadata": {},
   "outputs": [],
   "source": [
    "df_not_ins['N_p'], df_not_ins['A_p'], df_not_ins['V_p'], df_not_ins['D_p'] = one_hot_encode(df_not_ins['pos_p'])"
   ]
  },
  {
   "cell_type": "code",
   "execution_count": 178,
   "metadata": {},
   "outputs": [],
   "source": [
    "df_not_ins['N_c'], df_not_ins['A_c'], df_not_ins['V_c'], df_not_ins['D_c'] = one_hot_encode(df_not_ins['pos_c'])"
   ]
  },
  {
   "cell_type": "code",
   "execution_count": 180,
   "metadata": {},
   "outputs": [],
   "source": [
    "df_not_ins['lev_dist'], df_not_ins['length'] = dist_lengths(df_not_ins['parent'], df_not_ins['child'])"
   ]
  },
  {
   "cell_type": "code",
   "execution_count": 181,
   "metadata": {},
   "outputs": [],
   "source": [
    "df_not_ins['roots_p'], df_not_ins['roots_c'], df_not_ins['morphs_p'], df_not_ins['morphs_c'] = morphs(df_not_ins['parent'], df_not_ins['child'], kuzwords)"
   ]
  },
  {
   "cell_type": "code",
   "execution_count": 183,
   "metadata": {},
   "outputs": [],
   "source": [
    "df_not_ins['onset_p'], df_not_ins['onset_c'], df_not_ins['offset_p'], df_not_ins['offset_c'] = on_off(df_not_ins['parent'], df_not_ins['child'])"
   ]
  },
  {
   "cell_type": "code",
   "execution_count": 184,
   "metadata": {},
   "outputs": [],
   "source": [
    "df_not_ins['begins'], df_not_ins['ends'] = beginend(df_not_ins['parent'], df_not_ins['child'])"
   ]
  },
  {
   "cell_type": "markdown",
   "metadata": {},
   "source": [
    "# Get to find the rest of unpredictable parents and children"
   ]
  },
  {
   "cell_type": "code",
   "execution_count": 256,
   "metadata": {},
   "outputs": [
    {
     "data": {
      "text/html": [
       "<div>\n",
       "<style scoped>\n",
       "    .dataframe tbody tr th:only-of-type {\n",
       "        vertical-align: middle;\n",
       "    }\n",
       "\n",
       "    .dataframe tbody tr th {\n",
       "        vertical-align: top;\n",
       "    }\n",
       "\n",
       "    .dataframe thead th {\n",
       "        text-align: right;\n",
       "    }\n",
       "</style>\n",
       "<table border=\"1\" class=\"dataframe\">\n",
       "  <thead>\n",
       "    <tr style=\"text-align: right;\">\n",
       "      <th></th>\n",
       "      <th>parent</th>\n",
       "      <th>child</th>\n",
       "      <th>pos_p</th>\n",
       "      <th>pos_c</th>\n",
       "      <th>N_p</th>\n",
       "      <th>A_p</th>\n",
       "      <th>V_p</th>\n",
       "      <th>D_p</th>\n",
       "      <th>N_c</th>\n",
       "      <th>A_c</th>\n",
       "      <th>...</th>\n",
       "      <th>morphs_p</th>\n",
       "      <th>morphs_c</th>\n",
       "      <th>onset_p</th>\n",
       "      <th>onset_c</th>\n",
       "      <th>offset_p</th>\n",
       "      <th>offset_c</th>\n",
       "      <th>begins</th>\n",
       "      <th>ends</th>\n",
       "      <th>predictions_LogReg</th>\n",
       "      <th>predictions_DecTree</th>\n",
       "    </tr>\n",
       "  </thead>\n",
       "  <tbody>\n",
       "    <tr>\n",
       "      <th>0</th>\n",
       "      <td>августовский</td>\n",
       "      <td>август</td>\n",
       "      <td>A</td>\n",
       "      <td>N</td>\n",
       "      <td>0</td>\n",
       "      <td>1</td>\n",
       "      <td>0</td>\n",
       "      <td>0</td>\n",
       "      <td>1</td>\n",
       "      <td>0</td>\n",
       "      <td>...</td>\n",
       "      <td>0.333333</td>\n",
       "      <td>1.000000</td>\n",
       "      <td>0.500000</td>\n",
       "      <td>1.000000</td>\n",
       "      <td>0.0</td>\n",
       "      <td>0.0</td>\n",
       "      <td>0</td>\n",
       "      <td>0</td>\n",
       "      <td>0</td>\n",
       "      <td>0</td>\n",
       "    </tr>\n",
       "    <tr>\n",
       "      <th>1</th>\n",
       "      <td>август</td>\n",
       "      <td>августовский</td>\n",
       "      <td>N</td>\n",
       "      <td>A</td>\n",
       "      <td>1</td>\n",
       "      <td>0</td>\n",
       "      <td>0</td>\n",
       "      <td>0</td>\n",
       "      <td>0</td>\n",
       "      <td>1</td>\n",
       "      <td>...</td>\n",
       "      <td>1.000000</td>\n",
       "      <td>0.333333</td>\n",
       "      <td>1.000000</td>\n",
       "      <td>0.500000</td>\n",
       "      <td>0.0</td>\n",
       "      <td>0.0</td>\n",
       "      <td>1</td>\n",
       "      <td>0</td>\n",
       "      <td>0</td>\n",
       "      <td>1</td>\n",
       "    </tr>\n",
       "    <tr>\n",
       "      <th>2</th>\n",
       "      <td>микроанализ</td>\n",
       "      <td>микроавтобус</td>\n",
       "      <td>N</td>\n",
       "      <td>N</td>\n",
       "      <td>1</td>\n",
       "      <td>0</td>\n",
       "      <td>0</td>\n",
       "      <td>0</td>\n",
       "      <td>1</td>\n",
       "      <td>0</td>\n",
       "      <td>...</td>\n",
       "      <td>0.333333</td>\n",
       "      <td>0.500000</td>\n",
       "      <td>0.545455</td>\n",
       "      <td>0.500000</td>\n",
       "      <td>0.0</td>\n",
       "      <td>0.0</td>\n",
       "      <td>0</td>\n",
       "      <td>0</td>\n",
       "      <td>0</td>\n",
       "      <td>0</td>\n",
       "    </tr>\n",
       "    <tr>\n",
       "      <th>3</th>\n",
       "      <td>микроаналитический</td>\n",
       "      <td>микроавтобус</td>\n",
       "      <td>A</td>\n",
       "      <td>N</td>\n",
       "      <td>0</td>\n",
       "      <td>1</td>\n",
       "      <td>0</td>\n",
       "      <td>0</td>\n",
       "      <td>1</td>\n",
       "      <td>0</td>\n",
       "      <td>...</td>\n",
       "      <td>0.166667</td>\n",
       "      <td>0.500000</td>\n",
       "      <td>0.333333</td>\n",
       "      <td>0.500000</td>\n",
       "      <td>0.0</td>\n",
       "      <td>0.0</td>\n",
       "      <td>0</td>\n",
       "      <td>0</td>\n",
       "      <td>0</td>\n",
       "      <td>0</td>\n",
       "    </tr>\n",
       "    <tr>\n",
       "      <th>4</th>\n",
       "      <td>микровесы</td>\n",
       "      <td>микроавтобус</td>\n",
       "      <td>N</td>\n",
       "      <td>N</td>\n",
       "      <td>1</td>\n",
       "      <td>0</td>\n",
       "      <td>0</td>\n",
       "      <td>0</td>\n",
       "      <td>1</td>\n",
       "      <td>0</td>\n",
       "      <td>...</td>\n",
       "      <td>0.333333</td>\n",
       "      <td>0.500000</td>\n",
       "      <td>0.555556</td>\n",
       "      <td>0.416667</td>\n",
       "      <td>0.0</td>\n",
       "      <td>0.0</td>\n",
       "      <td>0</td>\n",
       "      <td>0</td>\n",
       "      <td>0</td>\n",
       "      <td>0</td>\n",
       "    </tr>\n",
       "  </tbody>\n",
       "</table>\n",
       "<p>5 rows × 26 columns</p>\n",
       "</div>"
      ],
      "text/plain": [
       "               parent         child pos_p pos_c  N_p  A_p  V_p  D_p  N_c  A_c  \\\n",
       "0        августовский        август     A     N    0    1    0    0    1    0   \n",
       "1              август  августовский     N     A    1    0    0    0    0    1   \n",
       "2         микроанализ  микроавтобус     N     N    1    0    0    0    1    0   \n",
       "3  микроаналитический  микроавтобус     A     N    0    1    0    0    1    0   \n",
       "4           микровесы  микроавтобус     N     N    1    0    0    0    1    0   \n",
       "\n",
       "   ...  morphs_p  morphs_c   onset_p   onset_c  offset_p  offset_c  begins  \\\n",
       "0  ...  0.333333  1.000000  0.500000  1.000000       0.0       0.0       0   \n",
       "1  ...  1.000000  0.333333  1.000000  0.500000       0.0       0.0       1   \n",
       "2  ...  0.333333  0.500000  0.545455  0.500000       0.0       0.0       0   \n",
       "3  ...  0.166667  0.500000  0.333333  0.500000       0.0       0.0       0   \n",
       "4  ...  0.333333  0.500000  0.555556  0.416667       0.0       0.0       0   \n",
       "\n",
       "   ends  predictions_LogReg  predictions_DecTree  \n",
       "0     0                   0                    0  \n",
       "1     0                   0                    1  \n",
       "2     0                   0                    0  \n",
       "3     0                   0                    0  \n",
       "4     0                   0                    0  \n",
       "\n",
       "[5 rows x 26 columns]"
      ]
     },
     "execution_count": 256,
     "metadata": {},
     "output_type": "execute_result"
    }
   ],
   "source": [
    "df_tr_pref.head()"
   ]
  },
  {
   "cell_type": "code",
   "execution_count": 259,
   "metadata": {},
   "outputs": [
    {
     "data": {
      "text/html": [
       "<div>\n",
       "<style scoped>\n",
       "    .dataframe tbody tr th:only-of-type {\n",
       "        vertical-align: middle;\n",
       "    }\n",
       "\n",
       "    .dataframe tbody tr th {\n",
       "        vertical-align: top;\n",
       "    }\n",
       "\n",
       "    .dataframe thead th {\n",
       "        text-align: right;\n",
       "    }\n",
       "</style>\n",
       "<table border=\"1\" class=\"dataframe\">\n",
       "  <thead>\n",
       "    <tr style=\"text-align: right;\">\n",
       "      <th></th>\n",
       "      <th>parent</th>\n",
       "      <th>child</th>\n",
       "      <th>pos_p</th>\n",
       "      <th>pos_c</th>\n",
       "      <th>N_p</th>\n",
       "      <th>A_p</th>\n",
       "      <th>V_p</th>\n",
       "      <th>D_p</th>\n",
       "      <th>N_c</th>\n",
       "      <th>A_c</th>\n",
       "      <th>...</th>\n",
       "      <th>morphs_p</th>\n",
       "      <th>morphs_c</th>\n",
       "      <th>onset_p</th>\n",
       "      <th>onset_c</th>\n",
       "      <th>offset_p</th>\n",
       "      <th>offset_c</th>\n",
       "      <th>begins</th>\n",
       "      <th>ends</th>\n",
       "      <th>predictions_LogReg</th>\n",
       "      <th>predictions_DecTree</th>\n",
       "    </tr>\n",
       "  </thead>\n",
       "  <tbody>\n",
       "    <tr>\n",
       "      <th>0</th>\n",
       "      <td>август</td>\n",
       "      <td>августовский</td>\n",
       "      <td>N</td>\n",
       "      <td>A</td>\n",
       "      <td>1</td>\n",
       "      <td>0</td>\n",
       "      <td>0</td>\n",
       "      <td>0</td>\n",
       "      <td>0</td>\n",
       "      <td>1</td>\n",
       "      <td>...</td>\n",
       "      <td>1.000000</td>\n",
       "      <td>0.333333</td>\n",
       "      <td>1.0</td>\n",
       "      <td>0.5</td>\n",
       "      <td>0.0</td>\n",
       "      <td>0.0</td>\n",
       "      <td>1</td>\n",
       "      <td>0</td>\n",
       "      <td>0</td>\n",
       "      <td>1</td>\n",
       "    </tr>\n",
       "    <tr>\n",
       "      <th>1</th>\n",
       "      <td>августовский</td>\n",
       "      <td>август</td>\n",
       "      <td>A</td>\n",
       "      <td>N</td>\n",
       "      <td>0</td>\n",
       "      <td>1</td>\n",
       "      <td>0</td>\n",
       "      <td>0</td>\n",
       "      <td>1</td>\n",
       "      <td>0</td>\n",
       "      <td>...</td>\n",
       "      <td>0.333333</td>\n",
       "      <td>1.000000</td>\n",
       "      <td>0.5</td>\n",
       "      <td>1.0</td>\n",
       "      <td>0.0</td>\n",
       "      <td>0.0</td>\n",
       "      <td>0</td>\n",
       "      <td>0</td>\n",
       "      <td>0</td>\n",
       "      <td>0</td>\n",
       "    </tr>\n",
       "    <tr>\n",
       "      <th>2</th>\n",
       "      <td>августовский</td>\n",
       "      <td>микроавтобус</td>\n",
       "      <td>A</td>\n",
       "      <td>N</td>\n",
       "      <td>0</td>\n",
       "      <td>1</td>\n",
       "      <td>0</td>\n",
       "      <td>0</td>\n",
       "      <td>1</td>\n",
       "      <td>0</td>\n",
       "      <td>...</td>\n",
       "      <td>0.000000</td>\n",
       "      <td>0.000000</td>\n",
       "      <td>0.0</td>\n",
       "      <td>0.0</td>\n",
       "      <td>0.0</td>\n",
       "      <td>0.0</td>\n",
       "      <td>0</td>\n",
       "      <td>0</td>\n",
       "      <td>0</td>\n",
       "      <td>0</td>\n",
       "    </tr>\n",
       "    <tr>\n",
       "      <th>3</th>\n",
       "      <td>микроавтобус</td>\n",
       "      <td>августовский</td>\n",
       "      <td>N</td>\n",
       "      <td>A</td>\n",
       "      <td>1</td>\n",
       "      <td>0</td>\n",
       "      <td>0</td>\n",
       "      <td>0</td>\n",
       "      <td>0</td>\n",
       "      <td>1</td>\n",
       "      <td>...</td>\n",
       "      <td>0.000000</td>\n",
       "      <td>0.000000</td>\n",
       "      <td>0.0</td>\n",
       "      <td>0.0</td>\n",
       "      <td>0.0</td>\n",
       "      <td>0.0</td>\n",
       "      <td>0</td>\n",
       "      <td>0</td>\n",
       "      <td>0</td>\n",
       "      <td>0</td>\n",
       "    </tr>\n",
       "    <tr>\n",
       "      <th>4</th>\n",
       "      <td>микроавтобус</td>\n",
       "      <td>телеавтоматика</td>\n",
       "      <td>N</td>\n",
       "      <td>N</td>\n",
       "      <td>1</td>\n",
       "      <td>0</td>\n",
       "      <td>0</td>\n",
       "      <td>0</td>\n",
       "      <td>1</td>\n",
       "      <td>0</td>\n",
       "      <td>...</td>\n",
       "      <td>0.000000</td>\n",
       "      <td>0.000000</td>\n",
       "      <td>0.0</td>\n",
       "      <td>0.0</td>\n",
       "      <td>0.0</td>\n",
       "      <td>0.0</td>\n",
       "      <td>0</td>\n",
       "      <td>0</td>\n",
       "      <td>0</td>\n",
       "      <td>0</td>\n",
       "    </tr>\n",
       "  </tbody>\n",
       "</table>\n",
       "<p>5 rows × 26 columns</p>\n",
       "</div>"
      ],
      "text/plain": [
       "         parent           child pos_p pos_c  N_p  A_p  V_p  D_p  N_c  A_c  \\\n",
       "0        август    августовский     N     A    1    0    0    0    0    1   \n",
       "1  августовский          август     A     N    0    1    0    0    1    0   \n",
       "2  августовский    микроавтобус     A     N    0    1    0    0    1    0   \n",
       "3  микроавтобус    августовский     N     A    1    0    0    0    0    1   \n",
       "4  микроавтобус  телеавтоматика     N     N    1    0    0    0    1    0   \n",
       "\n",
       "   ...  morphs_p  morphs_c  onset_p  onset_c  offset_p  offset_c  begins  \\\n",
       "0  ...  1.000000  0.333333      1.0      0.5       0.0       0.0       1   \n",
       "1  ...  0.333333  1.000000      0.5      1.0       0.0       0.0       0   \n",
       "2  ...  0.000000  0.000000      0.0      0.0       0.0       0.0       0   \n",
       "3  ...  0.000000  0.000000      0.0      0.0       0.0       0.0       0   \n",
       "4  ...  0.000000  0.000000      0.0      0.0       0.0       0.0       0   \n",
       "\n",
       "   ends  predictions_LogReg  predictions_DecTree  \n",
       "0     0                   0                    1  \n",
       "1     0                   0                    0  \n",
       "2     0                   0                    0  \n",
       "3     0                   0                    0  \n",
       "4     0                   0                    0  \n",
       "\n",
       "[5 rows x 26 columns]"
      ]
     },
     "execution_count": 259,
     "metadata": {},
     "output_type": "execute_result"
    }
   ],
   "source": [
    "df_traintest.head()"
   ]
  },
  {
   "cell_type": "code",
   "execution_count": 266,
   "metadata": {},
   "outputs": [],
   "source": [
    "df_tr_pref['y'] = target_pref\n",
    "df_traintest['y'] = targets_traintest"
   ]
  },
  {
   "cell_type": "code",
   "execution_count": 267,
   "metadata": {},
   "outputs": [],
   "source": [
    "wrong_df_pref = df_tr_pref[df_tr_pref.predictions_DecTree == 0]\n",
    "wrong_traintest = df_traintest[df_traintest.predictions_DecTree == 0]"
   ]
  },
  {
   "cell_type": "code",
   "execution_count": 269,
   "metadata": {},
   "outputs": [],
   "source": [
    "wrong_df = pd.concat([wrong_df_pref,wrong_traintest]).drop_duplicates()\n",
    "new_ys = wrong_df['y']"
   ]
  },
  {
   "cell_type": "code",
   "execution_count": 275,
   "metadata": {},
   "outputs": [],
   "source": [
    "wrong_df = wrong_df.drop(columns=['predictions_LogReg',  'predictions_DecTree', 'y'])"
   ]
  },
  {
   "cell_type": "code",
   "execution_count": 276,
   "metadata": {},
   "outputs": [],
   "source": [
    "wrong_df_clean = copy(wrong_df)\n",
    "wrong_df_clean = wrong_df.drop(columns=['parent', 'child', 'pos_p', 'pos_c'])"
   ]
  },
  {
   "cell_type": "code",
   "execution_count": 278,
   "metadata": {},
   "outputs": [],
   "source": [
    "df_not_ins_clean = copy(df_not_ins)\n",
    "df_not_ins_clean = df_not_ins_clean.drop(columns=['parent', 'child', 'pos_p', 'pos_c'])"
   ]
  },
  {
   "cell_type": "code",
   "execution_count": 279,
   "metadata": {},
   "outputs": [
    {
     "data": {
      "text/plain": [
       "0.500472592279398"
      ]
     },
     "execution_count": 279,
     "metadata": {},
     "output_type": "execute_result"
    }
   ],
   "source": [
    "x_train, x_test, y_train, y_test = train_test_split(wrong_df_clean, new_ys, test_size=0.25, random_state = 123)\n",
    "LogReg3 = LogisticRegression(max_iter=1000)\n",
    "LogReg3.fit(x_train, y_train)\n",
    "f1_score(LogReg3.predict(x_test), y_test, average='macro')"
   ]
  },
  {
   "cell_type": "code",
   "execution_count": 280,
   "metadata": {},
   "outputs": [
    {
     "data": {
      "text/plain": [
       "0.5486783819422157"
      ]
     },
     "execution_count": 280,
     "metadata": {},
     "output_type": "execute_result"
    }
   ],
   "source": [
    "x_train, x_test, y_train, y_test = train_test_split(wrong_df_clean, new_ys, test_size=0.25, random_state = 123)\n",
    "DecTree3 = DecisionTreeClassifier()\n",
    "DecTree3 = DecTree3.fit(x_train, y_train)\n",
    "f1_score(DecTree3.predict(x_test), y_test, average='macro')"
   ]
  },
  {
   "cell_type": "code",
   "execution_count": 290,
   "metadata": {},
   "outputs": [],
   "source": [
    "df_not_ins['LogReg'] = LogReg3.predict(df_not_ins_clean)\n",
    "df_not_ins['DecTree'] = DecTree3.predict(df_not_ins_clean)"
   ]
  },
  {
   "cell_type": "code",
   "execution_count": 293,
   "metadata": {},
   "outputs": [
    {
     "data": {
      "text/plain": [
       "459"
      ]
     },
     "execution_count": 293,
     "metadata": {},
     "output_type": "execute_result"
    }
   ],
   "source": [
    "df_now_ins = pd.concat([df_not_ins[df_not_ins.LogReg == 1], df_not_ins[df_not_ins.DecTree == 1]]).drop_duplicates()  \n",
    "len(df_now_ins)"
   ]
  },
  {
   "cell_type": "code",
   "execution_count": 298,
   "metadata": {},
   "outputs": [
    {
     "data": {
      "text/plain": [
       "1191286"
      ]
     },
     "execution_count": 298,
     "metadata": {},
     "output_type": "execute_result"
    }
   ],
   "source": [
    "df_not_ins = df_not_ins[df_not_ins.LogReg == 0] \n",
    "df_not_ins = df_not_ins[df_not_ins.DecTree == 0]\n",
    "df_not_ins = df_not_ins.drop(columns=['LogReg', 'DecTree'])\n",
    "len(df_not_ins)"
   ]
  },
  {
   "cell_type": "code",
   "execution_count": 299,
   "metadata": {},
   "outputs": [],
   "source": [
    "df_now_ins = df_now_ins.drop(columns=['onset_p', 'onset_c', 'offset_p', 'offset_c', 'roots_p', 'roots_c', 'morphs_p', 'morphs_c', 'lev_dist', 'length', 'N_p', 'A_p', 'V_p', 'D_p', 'N_c', 'A_c', 'V_c', 'D_c', 'begins', 'ends'])"
   ]
  },
  {
   "cell_type": "code",
   "execution_count": 300,
   "metadata": {},
   "outputs": [],
   "source": [
    "for index, row in df_now_ins.iterrows():\n",
    "    parent = row['parent'].replace('ё', 'е')\n",
    "    child = row['child'].replace('ё', 'е')\n",
    "    pos_p = row['pos_p']\n",
    "    pos_c = row['pos_c']\n",
    "    \n",
    "    \n",
    "    if [parent, child, pos_p, pos_c] not in pc_sets:\n",
    "        pc_sets.append([parent, child, pos_p, pos_c])"
   ]
  },
  {
   "cell_type": "markdown",
   "metadata": {},
   "source": [
    "# Last attempt to find parents"
   ]
  },
  {
   "cell_type": "code",
   "execution_count": 301,
   "metadata": {},
   "outputs": [],
   "source": [
    "df_not_ins_clean = copy(df_not_ins)\n",
    "df_not_ins_clean = df_not_ins_clean.drop(columns=['parent', 'child', 'pos_p', 'pos_c'])"
   ]
  },
  {
   "cell_type": "code",
   "execution_count": 302,
   "metadata": {},
   "outputs": [],
   "source": [
    "df_not_ins['predictions_LogReg'] = LogReg2.predict(df_not_ins_clean)"
   ]
  },
  {
   "cell_type": "code",
   "execution_count": 303,
   "metadata": {},
   "outputs": [],
   "source": [
    "df_not_ins['predictions_DecTree'] = DecTree2.predict(df_not_ins_clean)"
   ]
  },
  {
   "cell_type": "code",
   "execution_count": 304,
   "metadata": {},
   "outputs": [],
   "source": [
    "df_not_ins['predictions_LogReg1'] = LogReg1.predict(df_not_ins_clean)"
   ]
  },
  {
   "cell_type": "code",
   "execution_count": 305,
   "metadata": {},
   "outputs": [],
   "source": [
    "df_not_ins['predictions_DecTree1'] = DecTree1.predict(df_not_ins_clean)"
   ]
  },
  {
   "cell_type": "code",
   "execution_count": 306,
   "metadata": {},
   "outputs": [],
   "source": [
    "all_predictions = []\n",
    "for index, row in df_not_ins.iterrows():\n",
    "    lr = row['predictions_LogReg']\n",
    "    lr1 = ['predictions_LogReg1']\n",
    "    dt = row['predictions_DecTree']\n",
    "    dt1 = row['predictions_DecTree1']\n",
    "    if lr == 1 or lr1 == 1 or dt == 1 or dt1 == 1:\n",
    "        all_predictions.append(1)\n",
    "    else:\n",
    "        all_predictions.append(0)\n",
    "df_not_ins['final_prediction'] = all_predictions"
   ]
  },
  {
   "cell_type": "code",
   "execution_count": 307,
   "metadata": {},
   "outputs": [],
   "source": [
    "df4 = copy(df_not_ins)\n",
    "df4 = df4.drop(columns=['onset_p', 'onset_c', 'offset_p', 'offset_c', 'roots_p', 'roots_c', 'morphs_p', 'morphs_c', 'lev_dist', 'length', 'N_p', 'A_p', 'V_p', 'D_p', 'N_c', 'A_c', 'V_c', 'D_c', 'begins', 'ends'])"
   ]
  },
  {
   "cell_type": "code",
   "execution_count": 308,
   "metadata": {},
   "outputs": [],
   "source": [
    "df4 = df4[df4.final_prediction == 1]"
   ]
  },
  {
   "cell_type": "code",
   "execution_count": 309,
   "metadata": {},
   "outputs": [
    {
     "data": {
      "text/plain": [
       "3015"
      ]
     },
     "execution_count": 309,
     "metadata": {},
     "output_type": "execute_result"
    }
   ],
   "source": [
    "len(df4)"
   ]
  },
  {
   "cell_type": "code",
   "execution_count": 310,
   "metadata": {},
   "outputs": [],
   "source": [
    "for index, row in df4.iterrows():\n",
    "    parent = row['parent'].replace('ё', 'е')\n",
    "    child = row['child'].replace('ё', 'е')\n",
    "    pos_p = row['pos_p']\n",
    "    pos_c = row['pos_c']\n",
    "    \n",
    "    \n",
    "    if [parent, child, pos_p, pos_c] not in pc_sets:\n",
    "        pc_sets.append([parent, child, pos_p, pos_c])"
   ]
  },
  {
   "cell_type": "code",
   "execution_count": 311,
   "metadata": {},
   "outputs": [],
   "source": [
    "df_all = pd.DataFrame(pc_sets)\n",
    "df_all.columns = ['parent', 'child', 'pos_p', 'pos_c']\n",
    "df_all.to_csv('final_pairs.csv', encoding='utf-8')"
   ]
  },
  {
   "cell_type": "code",
   "execution_count": 312,
   "metadata": {},
   "outputs": [
    {
     "name": "stdout",
     "output_type": "stream",
     "text": [
      "21273\n",
      "37908\n"
     ]
    }
   ],
   "source": [
    "df_all_parents = []\n",
    "df_all_children = []\n",
    "for index, row in df_all.iterrows():\n",
    "    parent = row['parent'].replace('ё', 'е')\n",
    "    child = row['child'].replace('ё', 'е')\n",
    "    if [parent, child] not in bad_parents:\n",
    "        if parent not in df_all_parents:\n",
    "            df_all_parents.append(parent)\n",
    "        if child not in df_all_children:\n",
    "            df_all_children.append(child)\n",
    "print(len(df_all_parents))\n",
    "print(len(df_all_children))"
   ]
  },
  {
   "cell_type": "code",
   "execution_count": 313,
   "metadata": {},
   "outputs": [
    {
     "name": "stdout",
     "output_type": "stream",
     "text": [
      "3557\n",
      "38588\n"
     ]
    }
   ],
   "source": [
    "not_ins = []\n",
    "not_tixs = []\n",
    "for w in kuzwords:\n",
    "    if w not in tixwords:\n",
    "        not_tixs.append(w)\n",
    "        if w not in df_all_parents and w not in df_all_children:\n",
    "            if w not in not_ins:\n",
    "                not_ins.append(w)\n",
    "print(len(not_ins))\n",
    "print(len(not_tixs))"
   ]
  },
  {
   "cell_type": "code",
   "execution_count": null,
   "metadata": {},
   "outputs": [],
   "source": []
  },
  {
   "cell_type": "code",
   "execution_count": null,
   "metadata": {},
   "outputs": [],
   "source": []
  }
 ],
 "metadata": {
  "kernelspec": {
   "display_name": "Python 3",
   "language": "python",
   "name": "python3"
  },
  "language_info": {
   "codemirror_mode": {
    "name": "ipython",
    "version": 3
   },
   "file_extension": ".py",
   "mimetype": "text/x-python",
   "name": "python",
   "nbconvert_exporter": "python",
   "pygments_lexer": "ipython3",
   "version": "3.8.2"
  }
 },
 "nbformat": 4,
 "nbformat_minor": 4
}
